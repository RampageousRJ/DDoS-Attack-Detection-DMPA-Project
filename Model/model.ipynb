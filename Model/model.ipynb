{
 "cells": [
  {
   "cell_type": "markdown",
   "metadata": {},
   "source": [
    "**Table of contents**<a id='toc0_'></a>    \n",
    "- [**IMPORTS**](#toc1_)    \n",
    "- [**DATASET BUILDING**](#toc2_)    \n",
    "  - [Main Dataset](#toc2_1_)    \n",
    "  - [Test Dataset](#toc2_2_)    \n",
    "- [**DATA PREPROCESSING**](#toc3_)    \n",
    "- [**GENERATING TRAINING AND TESTING DATASET**](#toc4_)    \n",
    "- [**MODEL BUILDING**](#toc5_)    \n",
    "  - [KNN Classifier](#toc5_1_)    \n",
    "  - [Gaussian Naive-Bayes](#toc5_2_)    \n",
    "  - [Decision Tree](#toc5_3_)    \n",
    "  - [Hybrid Model](#toc5_4_)    \n",
    "- [**VISUALISATION**](#toc6_)    \n",
    "  - [Scatter Graph](#toc6_1_)    \n",
    "  - [HEATMAP](#toc6_2_)    \n",
    "- [**MODEL SAVING**](#toc7_)    \n",
    "\n",
    "<!-- vscode-jupyter-toc-config\n",
    "\tnumbering=false\n",
    "\tanchor=true\n",
    "\tflat=false\n",
    "\tminLevel=1\n",
    "\tmaxLevel=6\n",
    "\t/vscode-jupyter-toc-config -->\n",
    "<!-- THIS CELL WILL BE REPLACED ON TOC UPDATE. DO NOT WRITE YOUR TEXT IN THIS CELL -->"
   ]
  },
  {
   "cell_type": "markdown",
   "metadata": {},
   "source": [
    "# <a id='toc1_'></a>[**IMPORTS**](#toc0_)"
   ]
  },
  {
   "cell_type": "code",
   "execution_count": 1,
   "metadata": {},
   "outputs": [
    {
     "data": {
      "text/plain": [
       "True"
      ]
     },
     "execution_count": 1,
     "metadata": {},
     "output_type": "execute_result"
    }
   ],
   "source": [
    "import pandas as pd\n",
    "import numpy as np\n",
    "import seaborn as sns\n",
    "from sklearn.model_selection import train_test_split\n",
    "from sklearn.model_selection import cross_val_score\n",
    "from sklearn.model_selection import ShuffleSplit\n",
    "from sklearn.preprocessing import LabelEncoder\n",
    "from sklearn.naive_bayes import GaussianNB\n",
    "from sklearn.metrics import accuracy_score\n",
    "from sklearn.tree import DecisionTreeClassifier\n",
    "from sklearn.neighbors import KNeighborsClassifier\n",
    "from sklearn.ensemble import RandomForestClassifier\n",
    "from matplotlib import pyplot as plt\n",
    "from sklearn import metrics\n",
    "from dotenv import load_dotenv\n",
    "import os\n",
    "load_dotenv()"
   ]
  },
  {
   "cell_type": "markdown",
   "metadata": {},
   "source": [
    "# <a id='toc2_'></a>[**DATASET BUILDING**](#toc0_)"
   ]
  },
  {
   "cell_type": "markdown",
   "metadata": {},
   "source": [
    "## <a id='toc2_1_'></a>[Main Dataset](#toc0_)"
   ]
  },
  {
   "cell_type": "code",
   "execution_count": 2,
   "metadata": {},
   "outputs": [],
   "source": [
    "n_random_rows = 700000\n",
    "\n",
    "header = pd.read_csv(os.getenv('BALANCED_DATASET_LOCATION'), nrows=1)\n",
    "\n",
    "dataset = pd.read_csv(os.getenv('BALANCED_DATASET_LOCATION'), nrows=n_random_rows, skiprows=6100000, header=None)\n",
    "\n",
    "dataset.columns = header.columns"
   ]
  },
  {
   "cell_type": "markdown",
   "metadata": {},
   "source": [
    "## <a id='toc2_2_'></a>[Test Dataset](#toc0_)"
   ]
  },
  {
   "cell_type": "code",
   "execution_count": 3,
   "metadata": {},
   "outputs": [],
   "source": [
    "n_random_rows = 700000\n",
    "\n",
    "test_header = pd.read_csv(os.getenv('IMBALANCED_DATASET_LOCATION'), nrows=1)\n",
    "\n",
    "testset = pd.read_csv(os.getenv('IMBALANCED_DATASET_LOCATION'), nrows=n_random_rows, skiprows=1200000, header=None)\n",
    "\n",
    "testset.columns = test_header.columns"
   ]
  },
  {
   "cell_type": "markdown",
   "metadata": {},
   "source": [
    "# <a id='toc3_'></a>[**DATA PREPROCESSING**](#toc0_)"
   ]
  },
  {
   "cell_type": "code",
   "execution_count": 4,
   "metadata": {},
   "outputs": [
    {
     "data": {
      "text/html": [
       "<div>\n",
       "<style scoped>\n",
       "    .dataframe tbody tr th:only-of-type {\n",
       "        vertical-align: middle;\n",
       "    }\n",
       "\n",
       "    .dataframe tbody tr th {\n",
       "        vertical-align: top;\n",
       "    }\n",
       "\n",
       "    .dataframe thead th {\n",
       "        text-align: right;\n",
       "    }\n",
       "</style>\n",
       "<table border=\"1\" class=\"dataframe\">\n",
       "  <thead>\n",
       "    <tr style=\"text-align: right;\">\n",
       "      <th></th>\n",
       "      <th>Unnamed: 0</th>\n",
       "      <th>Flow ID</th>\n",
       "      <th>Src IP</th>\n",
       "      <th>Src Port</th>\n",
       "      <th>Dst IP</th>\n",
       "      <th>Dst Port</th>\n",
       "      <th>Protocol</th>\n",
       "      <th>Timestamp</th>\n",
       "      <th>Flow Duration</th>\n",
       "      <th>Tot Fwd Pkts</th>\n",
       "      <th>...</th>\n",
       "      <th>Fwd Seg Size Min</th>\n",
       "      <th>Active Mean</th>\n",
       "      <th>Active Std</th>\n",
       "      <th>Active Max</th>\n",
       "      <th>Active Min</th>\n",
       "      <th>Idle Mean</th>\n",
       "      <th>Idle Std</th>\n",
       "      <th>Idle Max</th>\n",
       "      <th>Idle Min</th>\n",
       "      <th>Label</th>\n",
       "    </tr>\n",
       "  </thead>\n",
       "  <tbody>\n",
       "    <tr>\n",
       "      <th>563210</th>\n",
       "      <td>3674152</td>\n",
       "      <td>172.31.66.28-52.44.77.187-54259-443-6</td>\n",
       "      <td>172.31.66.28</td>\n",
       "      <td>54259</td>\n",
       "      <td>52.44.77.187</td>\n",
       "      <td>443</td>\n",
       "      <td>6</td>\n",
       "      <td>20/02/2018 03:31:28</td>\n",
       "      <td>60738923</td>\n",
       "      <td>14</td>\n",
       "      <td>...</td>\n",
       "      <td>20</td>\n",
       "      <td>17238.0</td>\n",
       "      <td>13629.013361</td>\n",
       "      <td>45058.0</td>\n",
       "      <td>11628.0</td>\n",
       "      <td>1.010589e+07</td>\n",
       "      <td>142181.773661</td>\n",
       "      <td>10191318.0</td>\n",
       "      <td>9823632.0</td>\n",
       "      <td>Benign</td>\n",
       "    </tr>\n",
       "    <tr>\n",
       "      <th>318589</th>\n",
       "      <td>3567923</td>\n",
       "      <td>172.31.69.25-18.219.193.20-80-59046-6</td>\n",
       "      <td>172.31.69.25</td>\n",
       "      <td>80</td>\n",
       "      <td>18.219.193.20</td>\n",
       "      <td>59046</td>\n",
       "      <td>6</td>\n",
       "      <td>16/02/2018 11:27:55 PM</td>\n",
       "      <td>4334722</td>\n",
       "      <td>4</td>\n",
       "      <td>...</td>\n",
       "      <td>0</td>\n",
       "      <td>0.0</td>\n",
       "      <td>0.000000</td>\n",
       "      <td>0.0</td>\n",
       "      <td>0.0</td>\n",
       "      <td>0.000000e+00</td>\n",
       "      <td>0.000000</td>\n",
       "      <td>0.0</td>\n",
       "      <td>0.0</td>\n",
       "      <td>ddos</td>\n",
       "    </tr>\n",
       "    <tr>\n",
       "      <th>81570</th>\n",
       "      <td>3330904</td>\n",
       "      <td>172.31.69.25-18.219.193.20-80-47996-6</td>\n",
       "      <td>172.31.69.25</td>\n",
       "      <td>80</td>\n",
       "      <td>18.219.193.20</td>\n",
       "      <td>47996</td>\n",
       "      <td>6</td>\n",
       "      <td>16/02/2018 11:26:11 PM</td>\n",
       "      <td>3416079</td>\n",
       "      <td>4</td>\n",
       "      <td>...</td>\n",
       "      <td>0</td>\n",
       "      <td>0.0</td>\n",
       "      <td>0.000000</td>\n",
       "      <td>0.0</td>\n",
       "      <td>0.0</td>\n",
       "      <td>0.000000e+00</td>\n",
       "      <td>0.000000</td>\n",
       "      <td>0.0</td>\n",
       "      <td>0.0</td>\n",
       "      <td>ddos</td>\n",
       "    </tr>\n",
       "    <tr>\n",
       "      <th>114677</th>\n",
       "      <td>3364011</td>\n",
       "      <td>172.31.69.25-18.219.193.20-80-49834-6</td>\n",
       "      <td>172.31.69.25</td>\n",
       "      <td>80</td>\n",
       "      <td>18.219.193.20</td>\n",
       "      <td>49834</td>\n",
       "      <td>6</td>\n",
       "      <td>16/02/2018 11:26:25 PM</td>\n",
       "      <td>4347495</td>\n",
       "      <td>4</td>\n",
       "      <td>...</td>\n",
       "      <td>0</td>\n",
       "      <td>0.0</td>\n",
       "      <td>0.000000</td>\n",
       "      <td>0.0</td>\n",
       "      <td>0.0</td>\n",
       "      <td>0.000000e+00</td>\n",
       "      <td>0.000000</td>\n",
       "      <td>0.0</td>\n",
       "      <td>0.0</td>\n",
       "      <td>ddos</td>\n",
       "    </tr>\n",
       "    <tr>\n",
       "      <th>30884</th>\n",
       "      <td>3280218</td>\n",
       "      <td>172.31.69.25-18.219.193.20-80-46376-6</td>\n",
       "      <td>172.31.69.25</td>\n",
       "      <td>80</td>\n",
       "      <td>18.219.193.20</td>\n",
       "      <td>46376</td>\n",
       "      <td>6</td>\n",
       "      <td>16/02/2018 11:25:48 PM</td>\n",
       "      <td>4040637</td>\n",
       "      <td>4</td>\n",
       "      <td>...</td>\n",
       "      <td>0</td>\n",
       "      <td>0.0</td>\n",
       "      <td>0.000000</td>\n",
       "      <td>0.0</td>\n",
       "      <td>0.0</td>\n",
       "      <td>0.000000e+00</td>\n",
       "      <td>0.000000</td>\n",
       "      <td>0.0</td>\n",
       "      <td>0.0</td>\n",
       "      <td>ddos</td>\n",
       "    </tr>\n",
       "  </tbody>\n",
       "</table>\n",
       "<p>5 rows × 85 columns</p>\n",
       "</div>"
      ],
      "text/plain": [
       "        Unnamed: 0                                Flow ID        Src IP  \\\n",
       "563210     3674152  172.31.66.28-52.44.77.187-54259-443-6  172.31.66.28   \n",
       "318589     3567923  172.31.69.25-18.219.193.20-80-59046-6  172.31.69.25   \n",
       "81570      3330904  172.31.69.25-18.219.193.20-80-47996-6  172.31.69.25   \n",
       "114677     3364011  172.31.69.25-18.219.193.20-80-49834-6  172.31.69.25   \n",
       "30884      3280218  172.31.69.25-18.219.193.20-80-46376-6  172.31.69.25   \n",
       "\n",
       "        Src Port         Dst IP  Dst Port  Protocol               Timestamp  \\\n",
       "563210     54259   52.44.77.187       443         6     20/02/2018 03:31:28   \n",
       "318589        80  18.219.193.20     59046         6  16/02/2018 11:27:55 PM   \n",
       "81570         80  18.219.193.20     47996         6  16/02/2018 11:26:11 PM   \n",
       "114677        80  18.219.193.20     49834         6  16/02/2018 11:26:25 PM   \n",
       "30884         80  18.219.193.20     46376         6  16/02/2018 11:25:48 PM   \n",
       "\n",
       "        Flow Duration  Tot Fwd Pkts  ...  Fwd Seg Size Min  Active Mean  \\\n",
       "563210       60738923            14  ...                20      17238.0   \n",
       "318589        4334722             4  ...                 0          0.0   \n",
       "81570         3416079             4  ...                 0          0.0   \n",
       "114677        4347495             4  ...                 0          0.0   \n",
       "30884         4040637             4  ...                 0          0.0   \n",
       "\n",
       "          Active Std  Active Max  Active Min     Idle Mean       Idle Std  \\\n",
       "563210  13629.013361     45058.0     11628.0  1.010589e+07  142181.773661   \n",
       "318589      0.000000         0.0         0.0  0.000000e+00       0.000000   \n",
       "81570       0.000000         0.0         0.0  0.000000e+00       0.000000   \n",
       "114677      0.000000         0.0         0.0  0.000000e+00       0.000000   \n",
       "30884       0.000000         0.0         0.0  0.000000e+00       0.000000   \n",
       "\n",
       "          Idle Max   Idle Min   Label  \n",
       "563210  10191318.0  9823632.0  Benign  \n",
       "318589         0.0        0.0    ddos  \n",
       "81570          0.0        0.0    ddos  \n",
       "114677         0.0        0.0    ddos  \n",
       "30884          0.0        0.0    ddos  \n",
       "\n",
       "[5 rows x 85 columns]"
      ]
     },
     "execution_count": 4,
     "metadata": {},
     "output_type": "execute_result"
    }
   ],
   "source": [
    "dataset.sample(5)"
   ]
  },
  {
   "cell_type": "code",
   "execution_count": 5,
   "metadata": {},
   "outputs": [
    {
     "name": "stdout",
     "output_type": "stream",
     "text": [
      "<class 'pandas.core.frame.DataFrame'>\n",
      "RangeIndex: 700000 entries, 0 to 699999\n",
      "Data columns (total 85 columns):\n",
      " #   Column             Non-Null Count   Dtype  \n",
      "---  ------             --------------   -----  \n",
      " 0   Unnamed: 0         700000 non-null  int64  \n",
      " 1   Flow ID            700000 non-null  object \n",
      " 2   Src IP             700000 non-null  object \n",
      " 3   Src Port           700000 non-null  int64  \n",
      " 4   Dst IP             700000 non-null  object \n",
      " 5   Dst Port           700000 non-null  int64  \n",
      " 6   Protocol           700000 non-null  int64  \n",
      " 7   Timestamp          700000 non-null  object \n",
      " 8   Flow Duration      700000 non-null  int64  \n",
      " 9   Tot Fwd Pkts       700000 non-null  int64  \n",
      " 10  Tot Bwd Pkts       700000 non-null  int64  \n",
      " 11  TotLen Fwd Pkts    700000 non-null  float64\n",
      " 12  TotLen Bwd Pkts    700000 non-null  float64\n",
      " 13  Fwd Pkt Len Max    700000 non-null  float64\n",
      " 14  Fwd Pkt Len Min    700000 non-null  float64\n",
      " 15  Fwd Pkt Len Mean   700000 non-null  float64\n",
      " 16  Fwd Pkt Len Std    700000 non-null  float64\n",
      " 17  Bwd Pkt Len Max    700000 non-null  float64\n",
      " 18  Bwd Pkt Len Min    700000 non-null  float64\n",
      " 19  Bwd Pkt Len Mean   700000 non-null  float64\n",
      " 20  Bwd Pkt Len Std    700000 non-null  float64\n",
      " 21  Flow Byts/s        698426 non-null  float64\n",
      " 22  Flow Pkts/s        700000 non-null  float64\n",
      " 23  Flow IAT Mean      700000 non-null  float64\n",
      " 24  Flow IAT Std       700000 non-null  float64\n",
      " 25  Flow IAT Max       700000 non-null  float64\n",
      " 26  Flow IAT Min       700000 non-null  float64\n",
      " 27  Fwd IAT Tot        700000 non-null  float64\n",
      " 28  Fwd IAT Mean       700000 non-null  float64\n",
      " 29  Fwd IAT Std        700000 non-null  float64\n",
      " 30  Fwd IAT Max        700000 non-null  float64\n",
      " 31  Fwd IAT Min        700000 non-null  float64\n",
      " 32  Bwd IAT Tot        700000 non-null  float64\n",
      " 33  Bwd IAT Mean       700000 non-null  float64\n",
      " 34  Bwd IAT Std        700000 non-null  float64\n",
      " 35  Bwd IAT Max        700000 non-null  float64\n",
      " 36  Bwd IAT Min        700000 non-null  float64\n",
      " 37  Fwd PSH Flags      700000 non-null  int64  \n",
      " 38  Bwd PSH Flags      700000 non-null  int64  \n",
      " 39  Fwd URG Flags      700000 non-null  int64  \n",
      " 40  Bwd URG Flags      700000 non-null  int64  \n",
      " 41  Fwd Header Len     700000 non-null  int64  \n",
      " 42  Bwd Header Len     700000 non-null  int64  \n",
      " 43  Fwd Pkts/s         700000 non-null  float64\n",
      " 44  Bwd Pkts/s         700000 non-null  float64\n",
      " 45  Pkt Len Min        700000 non-null  float64\n",
      " 46  Pkt Len Max        700000 non-null  float64\n",
      " 47  Pkt Len Mean       700000 non-null  float64\n",
      " 48  Pkt Len Std        700000 non-null  float64\n",
      " 49  Pkt Len Var        700000 non-null  float64\n",
      " 50  FIN Flag Cnt       700000 non-null  int64  \n",
      " 51  SYN Flag Cnt       700000 non-null  int64  \n",
      " 52  RST Flag Cnt       700000 non-null  int64  \n",
      " 53  PSH Flag Cnt       700000 non-null  int64  \n",
      " 54  ACK Flag Cnt       700000 non-null  int64  \n",
      " 55  URG Flag Cnt       700000 non-null  int64  \n",
      " 56  CWE Flag Count     700000 non-null  int64  \n",
      " 57  ECE Flag Cnt       700000 non-null  int64  \n",
      " 58  Down/Up Ratio      700000 non-null  float64\n",
      " 59  Pkt Size Avg       700000 non-null  float64\n",
      " 60  Fwd Seg Size Avg   700000 non-null  float64\n",
      " 61  Bwd Seg Size Avg   700000 non-null  float64\n",
      " 62  Fwd Byts/b Avg     700000 non-null  int64  \n",
      " 63  Fwd Pkts/b Avg     700000 non-null  int64  \n",
      " 64  Fwd Blk Rate Avg   700000 non-null  int64  \n",
      " 65  Bwd Byts/b Avg     700000 non-null  int64  \n",
      " 66  Bwd Pkts/b Avg     700000 non-null  int64  \n",
      " 67  Bwd Blk Rate Avg   700000 non-null  int64  \n",
      " 68  Subflow Fwd Pkts   700000 non-null  int64  \n",
      " 69  Subflow Fwd Byts   700000 non-null  int64  \n",
      " 70  Subflow Bwd Pkts   700000 non-null  int64  \n",
      " 71  Subflow Bwd Byts   700000 non-null  int64  \n",
      " 72  Init Fwd Win Byts  700000 non-null  int64  \n",
      " 73  Init Bwd Win Byts  700000 non-null  int64  \n",
      " 74  Fwd Act Data Pkts  700000 non-null  int64  \n",
      " 75  Fwd Seg Size Min   700000 non-null  int64  \n",
      " 76  Active Mean        700000 non-null  float64\n",
      " 77  Active Std         700000 non-null  float64\n",
      " 78  Active Max         700000 non-null  float64\n",
      " 79  Active Min         700000 non-null  float64\n",
      " 80  Idle Mean          700000 non-null  float64\n",
      " 81  Idle Std           700000 non-null  float64\n",
      " 82  Idle Max           700000 non-null  float64\n",
      " 83  Idle Min           700000 non-null  float64\n",
      " 84  Label              700000 non-null  object \n",
      "dtypes: float64(45), int64(35), object(5)\n",
      "memory usage: 453.9+ MB\n"
     ]
    }
   ],
   "source": [
    "dataset.info()"
   ]
  },
  {
   "cell_type": "code",
   "execution_count": 6,
   "metadata": {},
   "outputs": [
    {
     "data": {
      "text/plain": [
       "Index(['Unnamed: 0', 'Flow ID', 'Src IP', 'Src Port', 'Dst IP', 'Dst Port',\n",
       "       'Protocol', 'Timestamp', 'Flow Duration', 'Tot Fwd Pkts',\n",
       "       'Tot Bwd Pkts', 'TotLen Fwd Pkts', 'TotLen Bwd Pkts', 'Fwd Pkt Len Max',\n",
       "       'Fwd Pkt Len Min', 'Fwd Pkt Len Mean', 'Fwd Pkt Len Std',\n",
       "       'Bwd Pkt Len Max', 'Bwd Pkt Len Min', 'Bwd Pkt Len Mean',\n",
       "       'Bwd Pkt Len Std', 'Flow Byts/s', 'Flow Pkts/s', 'Flow IAT Mean',\n",
       "       'Flow IAT Std', 'Flow IAT Max', 'Flow IAT Min', 'Fwd IAT Tot',\n",
       "       'Fwd IAT Mean', 'Fwd IAT Std', 'Fwd IAT Max', 'Fwd IAT Min',\n",
       "       'Bwd IAT Tot', 'Bwd IAT Mean', 'Bwd IAT Std', 'Bwd IAT Max',\n",
       "       'Bwd IAT Min', 'Fwd PSH Flags', 'Bwd PSH Flags', 'Fwd URG Flags',\n",
       "       'Bwd URG Flags', 'Fwd Header Len', 'Bwd Header Len', 'Fwd Pkts/s',\n",
       "       'Bwd Pkts/s', 'Pkt Len Min', 'Pkt Len Max', 'Pkt Len Mean',\n",
       "       'Pkt Len Std', 'Pkt Len Var', 'FIN Flag Cnt', 'SYN Flag Cnt',\n",
       "       'RST Flag Cnt', 'PSH Flag Cnt', 'ACK Flag Cnt', 'URG Flag Cnt',\n",
       "       'CWE Flag Count', 'ECE Flag Cnt', 'Down/Up Ratio', 'Pkt Size Avg',\n",
       "       'Fwd Seg Size Avg', 'Bwd Seg Size Avg', 'Fwd Byts/b Avg',\n",
       "       'Fwd Pkts/b Avg', 'Fwd Blk Rate Avg', 'Bwd Byts/b Avg',\n",
       "       'Bwd Pkts/b Avg', 'Bwd Blk Rate Avg', 'Subflow Fwd Pkts',\n",
       "       'Subflow Fwd Byts', 'Subflow Bwd Pkts', 'Subflow Bwd Byts',\n",
       "       'Init Fwd Win Byts', 'Init Bwd Win Byts', 'Fwd Act Data Pkts',\n",
       "       'Fwd Seg Size Min', 'Active Mean', 'Active Std', 'Active Max',\n",
       "       'Active Min', 'Idle Mean', 'Idle Std', 'Idle Max', 'Idle Min', 'Label'],\n",
       "      dtype='object')"
      ]
     },
     "execution_count": 6,
     "metadata": {},
     "output_type": "execute_result"
    }
   ],
   "source": [
    "dataset.columns"
   ]
  },
  {
   "cell_type": "code",
   "execution_count": 7,
   "metadata": {},
   "outputs": [
    {
     "name": "stdout",
     "output_type": "stream",
     "text": [
      "<class 'pandas.core.frame.DataFrame'>\n",
      "RangeIndex: 700000 entries, 0 to 699999\n",
      "Data columns (total 10 columns):\n",
      " #   Column             Non-Null Count   Dtype  \n",
      "---  ------             --------------   -----  \n",
      " 0   Flow ID            700000 non-null  object \n",
      " 1   Timestamp          700000 non-null  object \n",
      " 2   Fwd Seg Size Min   700000 non-null  int64  \n",
      " 3   Src IP             700000 non-null  object \n",
      " 4   Dst IP             700000 non-null  object \n",
      " 5   Flow IAT Min       700000 non-null  float64\n",
      " 6   Src Port           700000 non-null  int64  \n",
      " 7   Tot Fwd Pkts       700000 non-null  int64  \n",
      " 8   Init Bwd Win Byts  700000 non-null  int64  \n",
      " 9   Label              700000 non-null  object \n",
      "dtypes: float64(1), int64(4), object(5)\n",
      "memory usage: 53.4+ MB\n"
     ]
    }
   ],
   "source": [
    "attrs = ['Flow ID','Timestamp','Fwd Seg Size Min','Src IP','Dst IP','Flow IAT Min','Src Port','Tot Fwd Pkts','Init Bwd Win Byts','Label']\n",
    "dataset = dataset[attrs]\n",
    "testset = testset[attrs]\n",
    "dataset.info()"
   ]
  },
  {
   "cell_type": "code",
   "execution_count": 8,
   "metadata": {},
   "outputs": [
    {
     "data": {
      "text/html": [
       "<div>\n",
       "<style scoped>\n",
       "    .dataframe tbody tr th:only-of-type {\n",
       "        vertical-align: middle;\n",
       "    }\n",
       "\n",
       "    .dataframe tbody tr th {\n",
       "        vertical-align: top;\n",
       "    }\n",
       "\n",
       "    .dataframe thead th {\n",
       "        text-align: right;\n",
       "    }\n",
       "</style>\n",
       "<table border=\"1\" class=\"dataframe\">\n",
       "  <thead>\n",
       "    <tr style=\"text-align: right;\">\n",
       "      <th></th>\n",
       "      <th>Flow ID</th>\n",
       "      <th>Timestamp</th>\n",
       "      <th>Fwd Seg Size Min</th>\n",
       "      <th>Src IP</th>\n",
       "      <th>Dst IP</th>\n",
       "      <th>Flow IAT Min</th>\n",
       "      <th>Src Port</th>\n",
       "      <th>Tot Fwd Pkts</th>\n",
       "      <th>Init Bwd Win Byts</th>\n",
       "      <th>Label</th>\n",
       "    </tr>\n",
       "  </thead>\n",
       "  <tbody>\n",
       "    <tr>\n",
       "      <th>274930</th>\n",
       "      <td>172.31.69.25-18.219.193.20-80-50350-6</td>\n",
       "      <td>16/02/2018 11:27:36 PM</td>\n",
       "      <td>0</td>\n",
       "      <td>172.31.69.25</td>\n",
       "      <td>18.219.193.20</td>\n",
       "      <td>6.0</td>\n",
       "      <td>80</td>\n",
       "      <td>4</td>\n",
       "      <td>211</td>\n",
       "      <td>ddos</td>\n",
       "    </tr>\n",
       "    <tr>\n",
       "      <th>445234</th>\n",
       "      <td>192.168.10.12-68.67.180.12-58822-443-6</td>\n",
       "      <td>03/07/2017 09:22:11 PM</td>\n",
       "      <td>0</td>\n",
       "      <td>192.168.10.12</td>\n",
       "      <td>68.67.180.12</td>\n",
       "      <td>32169.0</td>\n",
       "      <td>58822</td>\n",
       "      <td>0</td>\n",
       "      <td>61</td>\n",
       "      <td>Benign</td>\n",
       "    </tr>\n",
       "    <tr>\n",
       "      <th>436174</th>\n",
       "      <td>172.31.69.28-52.85.112.191-55198-443-6</td>\n",
       "      <td>20/02/2018 04:31:40</td>\n",
       "      <td>20</td>\n",
       "      <td>172.31.69.28</td>\n",
       "      <td>52.85.112.191</td>\n",
       "      <td>5.0</td>\n",
       "      <td>55198</td>\n",
       "      <td>16</td>\n",
       "      <td>127</td>\n",
       "      <td>Benign</td>\n",
       "    </tr>\n",
       "    <tr>\n",
       "      <th>80808</th>\n",
       "      <td>172.31.69.25-18.219.193.20-80-40156-6</td>\n",
       "      <td>16/02/2018 11:26:09 PM</td>\n",
       "      <td>0</td>\n",
       "      <td>172.31.69.25</td>\n",
       "      <td>18.219.193.20</td>\n",
       "      <td>5.0</td>\n",
       "      <td>80</td>\n",
       "      <td>4</td>\n",
       "      <td>211</td>\n",
       "      <td>ddos</td>\n",
       "    </tr>\n",
       "    <tr>\n",
       "      <th>483233</th>\n",
       "      <td>172.31.65.43-190.213.169.227-3389-58069-6</td>\n",
       "      <td>20/02/2018 01:50:27</td>\n",
       "      <td>20</td>\n",
       "      <td>190.213.169.227</td>\n",
       "      <td>172.31.65.43</td>\n",
       "      <td>4.0</td>\n",
       "      <td>58069</td>\n",
       "      <td>8</td>\n",
       "      <td>62872</td>\n",
       "      <td>Benign</td>\n",
       "    </tr>\n",
       "  </tbody>\n",
       "</table>\n",
       "</div>"
      ],
      "text/plain": [
       "                                          Flow ID               Timestamp  \\\n",
       "274930      172.31.69.25-18.219.193.20-80-50350-6  16/02/2018 11:27:36 PM   \n",
       "445234     192.168.10.12-68.67.180.12-58822-443-6  03/07/2017 09:22:11 PM   \n",
       "436174     172.31.69.28-52.85.112.191-55198-443-6     20/02/2018 04:31:40   \n",
       "80808       172.31.69.25-18.219.193.20-80-40156-6  16/02/2018 11:26:09 PM   \n",
       "483233  172.31.65.43-190.213.169.227-3389-58069-6     20/02/2018 01:50:27   \n",
       "\n",
       "        Fwd Seg Size Min           Src IP         Dst IP  Flow IAT Min  \\\n",
       "274930                 0     172.31.69.25  18.219.193.20           6.0   \n",
       "445234                 0    192.168.10.12   68.67.180.12       32169.0   \n",
       "436174                20     172.31.69.28  52.85.112.191           5.0   \n",
       "80808                  0     172.31.69.25  18.219.193.20           5.0   \n",
       "483233                20  190.213.169.227   172.31.65.43           4.0   \n",
       "\n",
       "        Src Port  Tot Fwd Pkts  Init Bwd Win Byts   Label  \n",
       "274930        80             4                211    ddos  \n",
       "445234     58822             0                 61  Benign  \n",
       "436174     55198            16                127  Benign  \n",
       "80808         80             4                211    ddos  \n",
       "483233     58069             8              62872  Benign  "
      ]
     },
     "execution_count": 8,
     "metadata": {},
     "output_type": "execute_result"
    }
   ],
   "source": [
    "dataset.sample(5)"
   ]
  },
  {
   "cell_type": "code",
   "execution_count": 9,
   "metadata": {},
   "outputs": [
    {
     "data": {
      "text/plain": [
       "Label\n",
       "ddos      372648\n",
       "Benign    327352\n",
       "Name: count, dtype: int64"
      ]
     },
     "execution_count": 9,
     "metadata": {},
     "output_type": "execute_result"
    }
   ],
   "source": [
    "dataset['Label'].value_counts()"
   ]
  },
  {
   "cell_type": "code",
   "execution_count": 10,
   "metadata": {},
   "outputs": [
    {
     "data": {
      "text/plain": [
       "Label\n",
       "Benign    605470\n",
       "ddos       94530\n",
       "Name: count, dtype: int64"
      ]
     },
     "execution_count": 10,
     "metadata": {},
     "output_type": "execute_result"
    }
   ],
   "source": [
    "testset['Label'].value_counts()"
   ]
  },
  {
   "cell_type": "markdown",
   "metadata": {},
   "source": [
    "### Shape\n"
   ]
  },
  {
   "cell_type": "code",
   "execution_count": 11,
   "metadata": {},
   "outputs": [
    {
     "data": {
      "text/plain": [
       "(700000, 10)"
      ]
     },
     "execution_count": 11,
     "metadata": {},
     "output_type": "execute_result"
    }
   ],
   "source": [
    "dataset.shape"
   ]
  },
  {
   "cell_type": "code",
   "execution_count": 12,
   "metadata": {},
   "outputs": [
    {
     "data": {
      "image/png": "[encoded data removed]",
      "text/plain": [
       "<Figure size 640x480 with 1 Axes>"
      ]
     },
     "metadata": {},
     "output_type": "display_data"
    }
   ],
   "source": [
    "label = 'ddos','Benign'\n",
    "sizes = [len(dataset[dataset[\"Label\"]==\"ddos\"]),len(dataset[dataset[\"Label\"]==\"Benign\"])]\n",
    "plt.pie(sizes,labels=label,colors=['blue','red'],autopct='%1.1f%%')\n",
    "plt.axis('equal')\n",
    "plt.legend(loc='best')\n",
    "plt.title('Training Dataset Split')\n",
    "plt.show()"
   ]
  },
  {
   "cell_type": "code",
   "execution_count": 13,
   "metadata": {},
   "outputs": [
    {
     "data": {
      "image/png": "[encoded data removed]",
      "text/plain": [
       "<Figure size 640x480 with 1 Axes>"
      ]
     },
     "metadata": {},
     "output_type": "display_data"
    }
   ],
   "source": [
    "label = 'ddos','Benign'\n",
    "sizes = [len(testset[testset[\"Label\"]==\"ddos\"]),len(testset[testset[\"Label\"]==\"Benign\"])]\n",
    "plt.pie(sizes,labels=label,colors=['blue','red'],autopct='%1.1f%%')\n",
    "plt.axis('equal')\n",
    "plt.legend(loc='best')\n",
    "plt.title('Testing Dataset Split')\n",
    "plt.show()"
   ]
  },
  {
   "cell_type": "code",
   "execution_count": 14,
   "metadata": {},
   "outputs": [],
   "source": [
    "\n",
    "from datetime import datetime\n",
    "dataset['new_SRC_IP'] = [int(''.join(x.split(\".\"))) for x in dataset['Src IP']]\n",
    "dataset['new_DST_IP'] = [int(''.join(x.split(\".\"))) for x in dataset['Dst IP']]\n",
    "dataset['new_Timestamp'] = [int(''.join((x.split()[0]).split(\"/\"))+''.join(((x.split()[1]).split(\":\"))[0])) for x in dataset['Timestamp']]\n",
    "testset['new_SRC_IP'] = [int(''.join(x.split(\".\"))) for x in testset['Src IP']]\n",
    "testset['new_DST_IP'] = [int(''.join(x.split(\".\"))) for x in testset['Dst IP']]\n",
    "testset['new_Timestamp'] = [int(''.join((x.split()[0]).split(\"/\"))+''.join(((x.split()[1]).split(\":\"))[0])) for x in testset['Timestamp']]\n"
   ]
  },
  {
   "cell_type": "code",
   "execution_count": 15,
   "metadata": {},
   "outputs": [
    {
     "data": {
      "text/html": [
       "<div>\n",
       "<style scoped>\n",
       "    .dataframe tbody tr th:only-of-type {\n",
       "        vertical-align: middle;\n",
       "    }\n",
       "\n",
       "    .dataframe tbody tr th {\n",
       "        vertical-align: top;\n",
       "    }\n",
       "\n",
       "    .dataframe thead th {\n",
       "        text-align: right;\n",
       "    }\n",
       "</style>\n",
       "<table border=\"1\" class=\"dataframe\">\n",
       "  <thead>\n",
       "    <tr style=\"text-align: right;\">\n",
       "      <th></th>\n",
       "      <th>Flow ID</th>\n",
       "      <th>Timestamp</th>\n",
       "      <th>Fwd Seg Size Min</th>\n",
       "      <th>Src IP</th>\n",
       "      <th>Dst IP</th>\n",
       "      <th>Flow IAT Min</th>\n",
       "      <th>Src Port</th>\n",
       "      <th>Tot Fwd Pkts</th>\n",
       "      <th>Init Bwd Win Byts</th>\n",
       "      <th>Label</th>\n",
       "      <th>new_SRC_IP</th>\n",
       "      <th>new_DST_IP</th>\n",
       "      <th>new_Timestamp</th>\n",
       "    </tr>\n",
       "  </thead>\n",
       "  <tbody>\n",
       "    <tr>\n",
       "      <th>625889</th>\n",
       "      <td>172.31.67.50-213.108.136.202-445-16491-6</td>\n",
       "      <td>20/02/2018 10:26:40</td>\n",
       "      <td>20</td>\n",
       "      <td>172.31.67.50</td>\n",
       "      <td>213.108.136.202</td>\n",
       "      <td>51.0</td>\n",
       "      <td>445</td>\n",
       "      <td>2</td>\n",
       "      <td>-1</td>\n",
       "      <td>Benign</td>\n",
       "      <td>172316750</td>\n",
       "      <td>213108136202</td>\n",
       "      <td>2002201810</td>\n",
       "    </tr>\n",
       "    <tr>\n",
       "      <th>324567</th>\n",
       "      <td>172.31.67.48-66.235.139.207-53542-443-6</td>\n",
       "      <td>20/02/2018 01:51:51</td>\n",
       "      <td>20</td>\n",
       "      <td>66.235.139.207</td>\n",
       "      <td>172.31.67.48</td>\n",
       "      <td>25.0</td>\n",
       "      <td>443</td>\n",
       "      <td>2</td>\n",
       "      <td>-1</td>\n",
       "      <td>Benign</td>\n",
       "      <td>66235139207</td>\n",
       "      <td>172316748</td>\n",
       "      <td>2002201801</td>\n",
       "    </tr>\n",
       "    <tr>\n",
       "      <th>682082</th>\n",
       "      <td>172.31.67.118-41.38.41.90-445-49931-6</td>\n",
       "      <td>20/02/2018 03:03:19</td>\n",
       "      <td>20</td>\n",
       "      <td>41.38.41.90</td>\n",
       "      <td>172.31.67.118</td>\n",
       "      <td>40.0</td>\n",
       "      <td>49931</td>\n",
       "      <td>6</td>\n",
       "      <td>0</td>\n",
       "      <td>Benign</td>\n",
       "      <td>41384190</td>\n",
       "      <td>1723167118</td>\n",
       "      <td>2002201803</td>\n",
       "    </tr>\n",
       "    <tr>\n",
       "      <th>589895</th>\n",
       "      <td>172.31.0.2-172.31.66.58-53-60364-17</td>\n",
       "      <td>20/02/2018 03:14:48</td>\n",
       "      <td>8</td>\n",
       "      <td>172.31.66.58</td>\n",
       "      <td>172.31.0.2</td>\n",
       "      <td>355.0</td>\n",
       "      <td>60364</td>\n",
       "      <td>1</td>\n",
       "      <td>-1</td>\n",
       "      <td>Benign</td>\n",
       "      <td>172316658</td>\n",
       "      <td>1723102</td>\n",
       "      <td>2002201803</td>\n",
       "    </tr>\n",
       "    <tr>\n",
       "      <th>390187</th>\n",
       "      <td>172.31.66.19-104.20.63.188-49484-443-6</td>\n",
       "      <td>20/02/2018 10:33:08</td>\n",
       "      <td>20</td>\n",
       "      <td>104.20.63.188</td>\n",
       "      <td>172.31.66.19</td>\n",
       "      <td>29.0</td>\n",
       "      <td>443</td>\n",
       "      <td>2</td>\n",
       "      <td>-1</td>\n",
       "      <td>Benign</td>\n",
       "      <td>1042063188</td>\n",
       "      <td>172316619</td>\n",
       "      <td>2002201810</td>\n",
       "    </tr>\n",
       "    <tr>\n",
       "      <th>257473</th>\n",
       "      <td>172.31.65.112-23.36.34.213-51251-443-6</td>\n",
       "      <td>20/02/2018 11:47:09</td>\n",
       "      <td>20</td>\n",
       "      <td>23.36.34.213</td>\n",
       "      <td>172.31.65.112</td>\n",
       "      <td>0.0</td>\n",
       "      <td>443</td>\n",
       "      <td>2</td>\n",
       "      <td>-1</td>\n",
       "      <td>Benign</td>\n",
       "      <td>233634213</td>\n",
       "      <td>1723165112</td>\n",
       "      <td>2002201811</td>\n",
       "    </tr>\n",
       "    <tr>\n",
       "      <th>534662</th>\n",
       "      <td>172.31.66.22-123.193.26.161-445-61349-6</td>\n",
       "      <td>20/02/2018 08:30:24</td>\n",
       "      <td>20</td>\n",
       "      <td>172.31.66.22</td>\n",
       "      <td>123.193.26.161</td>\n",
       "      <td>115.0</td>\n",
       "      <td>445</td>\n",
       "      <td>2</td>\n",
       "      <td>-1</td>\n",
       "      <td>Benign</td>\n",
       "      <td>172316622</td>\n",
       "      <td>12319326161</td>\n",
       "      <td>2002201808</td>\n",
       "    </tr>\n",
       "    <tr>\n",
       "      <th>73495</th>\n",
       "      <td>172.31.69.25-18.218.229.235-80-60224-6</td>\n",
       "      <td>20/02/2018 10:33:21</td>\n",
       "      <td>20</td>\n",
       "      <td>18.218.229.235</td>\n",
       "      <td>172.31.69.25</td>\n",
       "      <td>13300000.0</td>\n",
       "      <td>60224</td>\n",
       "      <td>2</td>\n",
       "      <td>-1</td>\n",
       "      <td>ddos</td>\n",
       "      <td>18218229235</td>\n",
       "      <td>172316925</td>\n",
       "      <td>2002201810</td>\n",
       "    </tr>\n",
       "    <tr>\n",
       "      <th>695975</th>\n",
       "      <td>172.31.67.76-23.219.88.169-49852-80-6</td>\n",
       "      <td>20/02/2018 10:54:07</td>\n",
       "      <td>20</td>\n",
       "      <td>23.219.88.169</td>\n",
       "      <td>172.31.67.76</td>\n",
       "      <td>23.0</td>\n",
       "      <td>80</td>\n",
       "      <td>1</td>\n",
       "      <td>253</td>\n",
       "      <td>Benign</td>\n",
       "      <td>2321988169</td>\n",
       "      <td>172316776</td>\n",
       "      <td>2002201810</td>\n",
       "    </tr>\n",
       "    <tr>\n",
       "      <th>164116</th>\n",
       "      <td>172.31.0.2-172.31.67.115-53-53634-17</td>\n",
       "      <td>20/02/2018 04:24:25</td>\n",
       "      <td>8</td>\n",
       "      <td>172.31.67.115</td>\n",
       "      <td>172.31.0.2</td>\n",
       "      <td>239.0</td>\n",
       "      <td>53634</td>\n",
       "      <td>2</td>\n",
       "      <td>-1</td>\n",
       "      <td>Benign</td>\n",
       "      <td>1723167115</td>\n",
       "      <td>1723102</td>\n",
       "      <td>2002201804</td>\n",
       "    </tr>\n",
       "  </tbody>\n",
       "</table>\n",
       "</div>"
      ],
      "text/plain": [
       "                                         Flow ID            Timestamp  \\\n",
       "625889  172.31.67.50-213.108.136.202-445-16491-6  20/02/2018 10:26:40   \n",
       "324567   172.31.67.48-66.235.139.207-53542-443-6  20/02/2018 01:51:51   \n",
       "682082     172.31.67.118-41.38.41.90-445-49931-6  20/02/2018 03:03:19   \n",
       "589895       172.31.0.2-172.31.66.58-53-60364-17  20/02/2018 03:14:48   \n",
       "390187    172.31.66.19-104.20.63.188-49484-443-6  20/02/2018 10:33:08   \n",
       "257473    172.31.65.112-23.36.34.213-51251-443-6  20/02/2018 11:47:09   \n",
       "534662   172.31.66.22-123.193.26.161-445-61349-6  20/02/2018 08:30:24   \n",
       "73495     172.31.69.25-18.218.229.235-80-60224-6  20/02/2018 10:33:21   \n",
       "695975     172.31.67.76-23.219.88.169-49852-80-6  20/02/2018 10:54:07   \n",
       "164116      172.31.0.2-172.31.67.115-53-53634-17  20/02/2018 04:24:25   \n",
       "\n",
       "        Fwd Seg Size Min          Src IP           Dst IP  Flow IAT Min  \\\n",
       "625889                20    172.31.67.50  213.108.136.202          51.0   \n",
       "324567                20  66.235.139.207     172.31.67.48          25.0   \n",
       "682082                20     41.38.41.90    172.31.67.118          40.0   \n",
       "589895                 8    172.31.66.58       172.31.0.2         355.0   \n",
       "390187                20   104.20.63.188     172.31.66.19          29.0   \n",
       "257473                20    23.36.34.213    172.31.65.112           0.0   \n",
       "534662                20    172.31.66.22   123.193.26.161         115.0   \n",
       "73495                 20  18.218.229.235     172.31.69.25    13300000.0   \n",
       "695975                20   23.219.88.169     172.31.67.76          23.0   \n",
       "164116                 8   172.31.67.115       172.31.0.2         239.0   \n",
       "\n",
       "        Src Port  Tot Fwd Pkts  Init Bwd Win Byts   Label   new_SRC_IP  \\\n",
       "625889       445             2                 -1  Benign    172316750   \n",
       "324567       443             2                 -1  Benign  66235139207   \n",
       "682082     49931             6                  0  Benign     41384190   \n",
       "589895     60364             1                 -1  Benign    172316658   \n",
       "390187       443             2                 -1  Benign   1042063188   \n",
       "257473       443             2                 -1  Benign    233634213   \n",
       "534662       445             2                 -1  Benign    172316622   \n",
       "73495      60224             2                 -1    ddos  18218229235   \n",
       "695975        80             1                253  Benign   2321988169   \n",
       "164116     53634             2                 -1  Benign   1723167115   \n",
       "\n",
       "          new_DST_IP  new_Timestamp  \n",
       "625889  213108136202     2002201810  \n",
       "324567     172316748     2002201801  \n",
       "682082    1723167118     2002201803  \n",
       "589895       1723102     2002201803  \n",
       "390187     172316619     2002201810  \n",
       "257473    1723165112     2002201811  \n",
       "534662   12319326161     2002201808  \n",
       "73495      172316925     2002201810  \n",
       "695975     172316776     2002201810  \n",
       "164116       1723102     2002201804  "
      ]
     },
     "execution_count": 15,
     "metadata": {},
     "output_type": "execute_result"
    }
   ],
   "source": [
    "testset.sample(10)"
   ]
  },
  {
   "cell_type": "code",
   "execution_count": 16,
   "metadata": {},
   "outputs": [
    {
     "data": {
      "text/plain": [
       "Flow ID              0\n",
       "Timestamp            0\n",
       "Fwd Seg Size Min     0\n",
       "Src IP               0\n",
       "Dst IP               0\n",
       "Flow IAT Min         0\n",
       "Src Port             0\n",
       "Tot Fwd Pkts         0\n",
       "Init Bwd Win Byts    0\n",
       "Label                0\n",
       "new_SRC_IP           0\n",
       "new_DST_IP           0\n",
       "new_Timestamp        0\n",
       "dtype: int64"
      ]
     },
     "execution_count": 16,
     "metadata": {},
     "output_type": "execute_result"
    }
   ],
   "source": [
    "testset.isna().sum()"
   ]
  },
  {
   "cell_type": "markdown",
   "metadata": {},
   "source": [
    "# <a id='toc6_'></a>[**VISUALISATION**](#toc0_)"
   ]
  },
  {
   "cell_type": "markdown",
   "metadata": {},
   "source": [
    "## <a id='toc6_1_'></a>[Scatter Graph](#toc0_)\n",
    "\n"
   ]
  },
  {
   "cell_type": "code",
   "execution_count": 17,
   "metadata": {},
   "outputs": [],
   "source": [
    "ddos_set = dataset[dataset.Label == 'ddos']\n",
    "benign_set = dataset[dataset.Label == 'Benign']\n",
    "X = dataset.drop(['Label','Flow ID','Src IP','Dst IP'], axis='columns')\n",
    "Y = dataset['Label'].replace(to_replace = ['ddos','Benign'], value=[1,0])\n"
   ]
  },
  {
   "cell_type": "code",
   "execution_count": 18,
   "metadata": {},
   "outputs": [
    {
     "data": {
      "image/png": "[encoded data removed]",
      "text/plain": [
       "<Figure size 640x480 with 1 Axes>"
      ]
     },
     "metadata": {},
     "output_type": "display_data"
    }
   ],
   "source": [
    "plt.scatter(ddos_set['new_Timestamp'],ddos_set['Tot Fwd Pkts'], color = 'red')\n",
    "plt.show()"
   ]
  },
  {
   "cell_type": "code",
   "execution_count": 19,
   "metadata": {},
   "outputs": [],
   "source": [
    "#the above graph shows that in a ddos attack packets are sent continuously over a period of time"
   ]
  },
  {
   "cell_type": "code",
   "execution_count": 20,
   "metadata": {},
   "outputs": [
    {
     "data": {
      "image/png": "[encoded data removed]",
      "text/plain": [
       "<Figure size 640x480 with 1 Axes>"
      ]
     },
     "metadata": {},
     "output_type": "display_data"
    }
   ],
   "source": [
    "plt.scatter(benign_set['new_Timestamp'],benign_set['Tot Fwd Pkts'], color = 'green')\n",
    "plt.show()"
   ]
  },
  {
   "cell_type": "code",
   "execution_count": 21,
   "metadata": {},
   "outputs": [],
   "source": [
    "# the above graph shows that benign packets are well spread over a time period"
   ]
  },
  {
   "cell_type": "code",
   "execution_count": 22,
   "metadata": {},
   "outputs": [
    {
     "data": {
      "image/png": "[encoded data removed]",
      "text/plain": [
       "<Figure size 640x480 with 1 Axes>"
      ]
     },
     "metadata": {},
     "output_type": "display_data"
    }
   ],
   "source": [
    "X.index = X['new_Timestamp']\n",
    "plt.hist(X['new_Timestamp'])\n",
    "plt.show()"
   ]
  },
  {
   "cell_type": "code",
   "execution_count": null,
   "metadata": {},
   "outputs": [],
   "source": [
    "# plt.boxplot(dataset[''])\n",
    "dataset.columns"
   ]
  },
  {
   "cell_type": "markdown",
   "metadata": {},
   "source": [
    "## <a id='toc6_2_'></a>[HEATMAP](#toc0_)"
   ]
  },
  {
   "cell_type": "code",
   "execution_count": null,
   "metadata": {},
   "outputs": [],
   "source": [
    "X = X.drop(['Timestamp'], axis=1)\n",
    "sns.heatmap(X.corr(method='pearson'), xticklabels=X.corr().columns, yticklabels=X.corr().columns,annot=True,fmt=\".2f\",linewidth=.5)\n",
    "plt.show()"
   ]
  },
  {
   "cell_type": "code",
   "execution_count": null,
   "metadata": {},
   "outputs": [],
   "source": [
    "Y = Y.replace(to_replace=['ddos','Benign'],value=[1,0])\n",
    "X.corrwith(Y).sort_values()"
   ]
  },
  {
   "cell_type": "markdown",
   "metadata": {},
   "source": [
    "### Distribution"
   ]
  },
  {
   "cell_type": "code",
   "execution_count": null,
   "metadata": {},
   "outputs": [],
   "source": [
    "plt.title(\"DDoS vs Benign Packets\")\n",
    "plt.xlabel(\"TimeStamp\")\n",
    "plt.ylabel(\"Init Bwd Win Byts\")\n",
    "plt.scatter(ddos_set['new_Timestamp'],  ddos_set['Init Bwd Win Byts'], color = \"red\", label = \"DDoS\", alpha = 0.3)\n",
    "plt.scatter(benign_set['new_Timestamp'], benign_set['Init Bwd Win Byts'], color = \"lime\", label = \"Benign\", alpha = 0.3)\n",
    "plt.legend()\n",
    "plt.show()"
   ]
  },
  {
   "cell_type": "markdown",
   "metadata": {},
   "source": [
    "# <a id='toc4_'></a>[**GENERATING TRAINING AND TESTING DATASET**](#toc0_)"
   ]
  },
  {
   "cell_type": "code",
   "execution_count": null,
   "metadata": {},
   "outputs": [],
   "source": [
    "X = dataset.drop(['Label','Flow ID','Timestamp','Src IP','Dst IP'], axis='columns')\n",
    "X.sample(5)"
   ]
  },
  {
   "cell_type": "code",
   "execution_count": null,
   "metadata": {},
   "outputs": [],
   "source": [
    "Y = dataset['Label']"
   ]
  },
  {
   "cell_type": "code",
   "execution_count": null,
   "metadata": {},
   "outputs": [],
   "source": [
    "X_train,X_test,Y_train,Y_test=train_test_split(X,Y, test_size=0.4)"
   ]
  },
  {
   "cell_type": "code",
   "execution_count": null,
   "metadata": {},
   "outputs": [],
   "source": [
    "new_X_TEST = testset.drop(['Label','Flow ID','Timestamp','Src IP','Dst IP'], axis='columns')\n",
    "new_Y_TEST = testset['Label']"
   ]
  },
  {
   "cell_type": "markdown",
   "metadata": {},
   "source": [
    "# <a id='toc5_'></a>[**MODEL BUILDING**](#toc0_)"
   ]
  },
  {
   "cell_type": "markdown",
   "metadata": {},
   "source": [
    "## <a id='toc5_1_'></a>[KNN Classifier](#toc0_)"
   ]
  },
  {
   "cell_type": "code",
   "execution_count": null,
   "metadata": {},
   "outputs": [],
   "source": [
    "knn = KNeighborsClassifier(n_neighbors=3)\n",
    "knn.fit(X_train, Y_train)"
   ]
  },
  {
   "cell_type": "code",
   "execution_count": null,
   "metadata": {},
   "outputs": [],
   "source": [
    "knn_accuracy = accuracy_score(new_Y_TEST,knn.predict(new_X_TEST))\n",
    "print(f\"KNN Accuracy: {knn_accuracy*100:.2f}%\")"
   ]
  },
  {
   "cell_type": "markdown",
   "metadata": {},
   "source": [
    "## <a id='toc5_2_'></a>[Gaussian Naive-Bayes](#toc0_)"
   ]
  },
  {
   "cell_type": "code",
   "execution_count": null,
   "metadata": {},
   "outputs": [],
   "source": [
    "gnb = GaussianNB()\n",
    "gnb.fit(X_train,Y_train)"
   ]
  },
  {
   "cell_type": "code",
   "execution_count": null,
   "metadata": {},
   "outputs": [],
   "source": [
    "gnb_accuracy = accuracy_score(new_Y_TEST, gnb.predict(new_X_TEST))\n",
    "print(f\"Naive-Bayes Accuracy: {gnb_accuracy*100:.2f}%\")"
   ]
  },
  {
   "cell_type": "markdown",
   "metadata": {},
   "source": [
    "## <a id='toc5_3_'></a>[Decision Tree](#toc0_)"
   ]
  },
  {
   "cell_type": "code",
   "execution_count": null,
   "metadata": {},
   "outputs": [],
   "source": [
    "dt = DecisionTreeClassifier()\n",
    "\n",
    "dt.fit(X_train,Y_train)"
   ]
  },
  {
   "cell_type": "code",
   "execution_count": null,
   "metadata": {},
   "outputs": [],
   "source": [
    "dt_accuracy = accuracy_score(new_Y_TEST, dt.predict(new_X_TEST))\n",
    "print(f\"Decision Tree Accuracy: {dt_accuracy*100:.2f}%\")"
   ]
  },
  {
   "cell_type": "code",
   "execution_count": null,
   "metadata": {},
   "outputs": [],
   "source": [
    "from sklearn.tree import plot_tree\n",
    "plot_tree(dt,filled=True)\n",
    "plt.show()"
   ]
  },
  {
   "cell_type": "markdown",
   "metadata": {},
   "source": [
    "## <a id='toc5_4_'></a>[Hybrid Model](#toc0_)"
   ]
  },
  {
   "cell_type": "code",
   "execution_count": null,
   "metadata": {},
   "outputs": [],
   "source": [
    "train_x,test_x,train_y,test_y = train_test_split(X_train, Y_train, stratify=Y_train,test_size=0.4)"
   ]
  },
  {
   "cell_type": "code",
   "execution_count": null,
   "metadata": {},
   "outputs": [],
   "source": [
    "knn.fit(train_x,train_y)\n",
    "y_val_knn = knn.predict(test_x)\n",
    "y_val_knn = pd.DataFrame(y_val_knn)\n",
    "y_test_knn = knn.predict(X_test)\n",
    "y_test_knn = pd.DataFrame(y_test_knn)\n",
    "\n",
    "y_val_knn.columns = ['Label_KNN']\n",
    "y_test_knn.columns = ['Label_KNN']\n"
   ]
  },
  {
   "cell_type": "code",
   "execution_count": null,
   "metadata": {},
   "outputs": [],
   "source": [
    "gnb.fit(train_x,train_y)\n",
    "y_val_gnb = gnb.predict(test_x)\n",
    "y_val_gnb = pd.DataFrame(y_val_gnb)\n",
    "y_test_gnb = gnb.predict(X_test)\n",
    "y_test_gnb = pd.DataFrame(y_test_gnb)\n",
    "\n",
    "y_val_gnb.columns = ['Label_GNB']\n",
    "y_test_gnb.columns = ['Label_GNB']\n"
   ]
  },
  {
   "cell_type": "code",
   "execution_count": null,
   "metadata": {},
   "outputs": [],
   "source": [
    "dt.fit(train_x,train_y)\n",
    "y_val_dt = dt.predict(test_x)\n",
    "y_val_dt = pd.DataFrame(y_val_dt)\n",
    "y_test_dt = dt.predict(X_test)\n",
    "y_test_dt = pd.DataFrame(y_test_dt)\n",
    "\n",
    "y_val_dt.columns = ['Label_DT']\n",
    "y_test_dt.columns = ['Label_DT']"
   ]
  },
  {
   "cell_type": "code",
   "execution_count": null,
   "metadata": {},
   "outputs": [],
   "source": [
    "final_X_input = pd.concat([pd.DataFrame(test_x,columns=X.columns)], axis = 1)\n",
    "\n",
    "new_attr = pd.concat([pd.DataFrame(y_val_knn,columns=y_val_knn.columns)], axis = 1)\n",
    "new_attr.columns = ['LABEL']\n",
    "for i in range(len(y_val_knn)):\n",
    "    if (y_val_knn['Label_KNN'][i] == 'ddos' and y_val_gnb['Label_GNB'][i] =='ddos') or (y_val_dt['Label_DT'][i] == 'ddos' and y_val_gnb['Label_GNB'][i] =='ddos') or (y_val_knn['Label_KNN'][i] == 'ddos' and y_val_dt['Label_DT'][i] =='ddos'):\n",
    "        new_attr['LABEL'][i] = 'ddos'\n",
    "    else:\n",
    "        new_attr['LABEL'][i] = 'Benign'\n",
    "\n",
    "final_y_input = pd.concat([pd.DataFrame(new_attr, columns=new_attr.columns)], axis = 1)"
   ]
  },
  {
   "cell_type": "code",
   "execution_count": null,
   "metadata": {},
   "outputs": [],
   "source": [
    "rf = RandomForestClassifier(n_estimators=200)\n",
    "rf.fit(final_X_input,final_y_input.values.ravel())"
   ]
  },
  {
   "cell_type": "code",
   "execution_count": null,
   "metadata": {},
   "outputs": [],
   "source": [
    "rf_accuracy = accuracy_score(new_Y_TEST, rf.predict(new_X_TEST))\n",
    "print(f\"Random Forest Accuracy: {rf_accuracy*100:.2f}%\")\n",
    "\n",
    "prediction = rf.predict(new_X_TEST)"
   ]
  },
  {
   "cell_type": "code",
   "execution_count": null,
   "metadata": {},
   "outputs": [],
   "source": [
    "new_Y_TEST.shape"
   ]
  },
  {
   "cell_type": "code",
   "execution_count": null,
   "metadata": {},
   "outputs": [],
   "source": [
    "confusion_matrix = metrics.confusion_matrix(new_Y_TEST, prediction,labels=rf.classes_)\n",
    "cm_display = metrics.ConfusionMatrixDisplay(confusion_matrix = confusion_matrix, display_labels = rf.classes_)\n",
    "cm_display.plot()\n",
    "plt.show()"
   ]
  },
  {
   "cell_type": "markdown",
   "metadata": {},
   "source": [
    "# <a id='toc7_'></a>[**MODEL SAVING**](#toc0_)"
   ]
  },
  {
   "cell_type": "code",
   "execution_count": null,
   "metadata": {},
   "outputs": [],
   "source": [
    "import pickle\n",
    "with open(\"Detect_DDoS.pickle\",'wb') as model:\n",
    "    pickle.dump(rf, model)"
   ]
  },
  {
   "cell_type": "code",
   "execution_count": null,
   "metadata": {},
   "outputs": [],
   "source": [
    "import json\n",
    "columns = {\n",
    "    'data columns' : [col.lower() for col in X.columns]\n",
    "}\n",
    "with open(\"columns.json\",\"w\") as cols_json:\n",
    "    cols_json.write(json.dumps(columns))"
   ]
  }
 ],
 "metadata": {
  "kernelspec": {
   "display_name": "Python 3",
   "language": "python",
   "name": "python3"
  },
  "language_info": {
   "codemirror_mode": {
    "name": "ipython",
    "version": 3
   },
   "file_extension": ".py",
   "mimetype": "text/x-python",
   "name": "python",
   "nbconvert_exporter": "python",
   "pygments_lexer": "ipython3",
   "version": "3.11.6"
  },
  "orig_nbformat": 4
 },
 "nbformat": 4,
 "nbformat_minor": 2
}
