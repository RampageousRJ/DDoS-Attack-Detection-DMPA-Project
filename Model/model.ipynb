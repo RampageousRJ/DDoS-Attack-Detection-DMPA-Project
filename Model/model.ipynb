{
 "cells": [
  {
   "cell_type": "markdown",
   "metadata": {},
   "source": [
    "**Table of contents**<a id='toc0_'></a>    \n",
    "- [**IMPORTS**](#toc1_)    \n",
    "- [**DATASET BUILDING**](#toc2_)    \n",
    "  - [Main Dataset](#toc2_1_)    \n",
    "  - [Test Dataset](#toc2_2_)    \n",
    "- [**DATA PREPROCESSING**](#toc3_)    \n",
    "- [**GENERATING TRAINING AND TESTING DATASET**](#toc4_)    \n",
    "- [**MODEL BUILDING**](#toc5_)    \n",
    "  - [KNN Classifier](#toc5_1_)    \n",
    "  - [Gaussian Naive-Bayes](#toc5_2_)    \n",
    "  - [Decision Tree](#toc5_3_)    \n",
    "  - [Hybrid Model](#toc5_4_)    \n",
    "- [**VISUALISATION**](#toc6_)    \n",
    "  - [Scatter Graph](#toc6_1_)    \n",
    "  - [HEATMAP](#toc6_2_)    \n",
    "- [**MODEL SAVING**](#toc7_)    \n",
    "\n",
    "<!-- vscode-jupyter-toc-config\n",
    "\tnumbering=false\n",
    "\tanchor=true\n",
    "\tflat=false\n",
    "\tminLevel=1\n",
    "\tmaxLevel=6\n",
    "\t/vscode-jupyter-toc-config -->\n",
    "<!-- THIS CELL WILL BE REPLACED ON TOC UPDATE. DO NOT WRITE YOUR TEXT IN THIS CELL -->"
   ]
  },
  {
   "cell_type": "markdown",
   "metadata": {},
   "source": [
    "# <a id='toc1_'></a>[**IMPORTS**](#toc0_)"
   ]
  },
  {
   "cell_type": "code",
   "execution_count": 234,
   "metadata": {},
   "outputs": [
    {
     "data": {
      "text/plain": [
       "True"
      ]
     },
     "execution_count": 234,
     "metadata": {},
     "output_type": "execute_result"
    }
   ],
   "source": [
    "import pandas as pd\n",
    "import numpy as np\n",
    "import seaborn as sns\n",
    "from sklearn.model_selection import train_test_split\n",
    "from sklearn.model_selection import cross_val_score\n",
    "from sklearn.model_selection import ShuffleSplit\n",
    "from sklearn.preprocessing import LabelEncoder\n",
    "from sklearn.svm import SVC\n",
    "from sklearn.naive_bayes import GaussianNB\n",
    "from sklearn.metrics import accuracy_score\n",
    "from sklearn.tree import DecisionTreeClassifier\n",
    "from sklearn.neighbors import KNeighborsClassifier\n",
    "from sklearn.ensemble import RandomForestClassifier\n",
    "from matplotlib import pyplot as plt\n",
    "from sklearn import metrics\n",
    "from dotenv import load_dotenv\n",
    "import os\n",
    "load_dotenv()"
   ]
  },
  {
   "cell_type": "markdown",
   "metadata": {},
   "source": [
    "# <a id='toc2_'></a>[**DATASET BUILDING**](#toc0_)"
   ]
  },
  {
   "cell_type": "markdown",
   "metadata": {},
   "source": [
    "## <a id='toc2_1_'></a>[Main Dataset](#toc0_)"
   ]
  },
  {
   "cell_type": "code",
   "execution_count": 235,
   "metadata": {},
   "outputs": [],
   "source": [
    "n_random_rows = 700000\n",
    "\n",
    "header = pd.read_csv(os.getenv('BALANCED_DATASET_LOCATION'), nrows=1)\n",
    "\n",
    "dataset = pd.read_csv(os.getenv('BALANCED_DATASET_LOCATION'), nrows=n_random_rows, skiprows=6100000, header=None)\n",
    "\n",
    "dataset.columns = header.columns"
   ]
  },
  {
   "cell_type": "markdown",
   "metadata": {},
   "source": [
    "## <a id='toc2_2_'></a>[Test Dataset](#toc0_)"
   ]
  },
  {
   "cell_type": "code",
   "execution_count": 236,
   "metadata": {},
   "outputs": [],
   "source": [
    "n_random_rows = 700000\n",
    "\n",
    "test_header = pd.read_csv(os.getenv('IMBALANCED_DATASET_LOCATION'), nrows=1)\n",
    "\n",
    "testset = pd.read_csv(os.getenv('IMBALANCED_DATASET_LOCATION'), nrows=n_random_rows, skiprows=1200000, header=None)\n",
    "\n",
    "testset.columns = test_header.columns"
   ]
  },
  {
   "cell_type": "markdown",
   "metadata": {},
   "source": [
    "# <a id='toc3_'></a>[**DATA PREPROCESSING**](#toc0_)"
   ]
  },
  {
   "cell_type": "code",
   "execution_count": 237,
   "metadata": {},
   "outputs": [
    {
     "data": {
      "text/html": [
       "<div>\n",
       "<style scoped>\n",
       "    .dataframe tbody tr th:only-of-type {\n",
       "        vertical-align: middle;\n",
       "    }\n",
       "\n",
       "    .dataframe tbody tr th {\n",
       "        vertical-align: top;\n",
       "    }\n",
       "\n",
       "    .dataframe thead th {\n",
       "        text-align: right;\n",
       "    }\n",
       "</style>\n",
       "<table border=\"1\" class=\"dataframe\">\n",
       "  <thead>\n",
       "    <tr style=\"text-align: right;\">\n",
       "      <th></th>\n",
       "      <th>Unnamed: 0</th>\n",
       "      <th>Flow ID</th>\n",
       "      <th>Src IP</th>\n",
       "      <th>Src Port</th>\n",
       "      <th>Dst IP</th>\n",
       "      <th>Dst Port</th>\n",
       "      <th>Protocol</th>\n",
       "      <th>Timestamp</th>\n",
       "      <th>Flow Duration</th>\n",
       "      <th>Tot Fwd Pkts</th>\n",
       "      <th>...</th>\n",
       "      <th>Fwd Seg Size Min</th>\n",
       "      <th>Active Mean</th>\n",
       "      <th>Active Std</th>\n",
       "      <th>Active Max</th>\n",
       "      <th>Active Min</th>\n",
       "      <th>Idle Mean</th>\n",
       "      <th>Idle Std</th>\n",
       "      <th>Idle Max</th>\n",
       "      <th>Idle Min</th>\n",
       "      <th>Label</th>\n",
       "    </tr>\n",
       "  </thead>\n",
       "  <tbody>\n",
       "    <tr>\n",
       "      <th>77263</th>\n",
       "      <td>3326597</td>\n",
       "      <td>172.31.69.25-18.219.193.20-80-36782-6</td>\n",
       "      <td>172.31.69.25</td>\n",
       "      <td>80</td>\n",
       "      <td>18.219.193.20</td>\n",
       "      <td>36782</td>\n",
       "      <td>6</td>\n",
       "      <td>16/02/2018 11:26:08 PM</td>\n",
       "      <td>4306218</td>\n",
       "      <td>4</td>\n",
       "      <td>...</td>\n",
       "      <td>0</td>\n",
       "      <td>0.0</td>\n",
       "      <td>0.0</td>\n",
       "      <td>0.0</td>\n",
       "      <td>0.0</td>\n",
       "      <td>0.0</td>\n",
       "      <td>0.0</td>\n",
       "      <td>0.0</td>\n",
       "      <td>0.0</td>\n",
       "      <td>ddos</td>\n",
       "    </tr>\n",
       "    <tr>\n",
       "      <th>615204</th>\n",
       "      <td>872889</td>\n",
       "      <td>172.31.64.99-23.36.33.160-50603-443-6</td>\n",
       "      <td>23.36.33.160</td>\n",
       "      <td>443</td>\n",
       "      <td>172.31.64.99</td>\n",
       "      <td>50603</td>\n",
       "      <td>6</td>\n",
       "      <td>20/02/2018 09:51:22</td>\n",
       "      <td>3</td>\n",
       "      <td>3</td>\n",
       "      <td>...</td>\n",
       "      <td>20</td>\n",
       "      <td>0.0</td>\n",
       "      <td>0.0</td>\n",
       "      <td>0.0</td>\n",
       "      <td>0.0</td>\n",
       "      <td>0.0</td>\n",
       "      <td>0.0</td>\n",
       "      <td>0.0</td>\n",
       "      <td>0.0</td>\n",
       "      <td>Benign</td>\n",
       "    </tr>\n",
       "    <tr>\n",
       "      <th>611737</th>\n",
       "      <td>5633960</td>\n",
       "      <td>172.31.69.13-23.36.33.160-53224-443-6</td>\n",
       "      <td>23.36.33.160</td>\n",
       "      <td>443</td>\n",
       "      <td>172.31.69.13</td>\n",
       "      <td>53224</td>\n",
       "      <td>6</td>\n",
       "      <td>20/02/2018 01:33:29</td>\n",
       "      <td>39</td>\n",
       "      <td>3</td>\n",
       "      <td>...</td>\n",
       "      <td>20</td>\n",
       "      <td>0.0</td>\n",
       "      <td>0.0</td>\n",
       "      <td>0.0</td>\n",
       "      <td>0.0</td>\n",
       "      <td>0.0</td>\n",
       "      <td>0.0</td>\n",
       "      <td>0.0</td>\n",
       "      <td>0.0</td>\n",
       "      <td>Benign</td>\n",
       "    </tr>\n",
       "    <tr>\n",
       "      <th>267518</th>\n",
       "      <td>3516852</td>\n",
       "      <td>172.31.69.25-18.219.193.20-80-55220-6</td>\n",
       "      <td>172.31.69.25</td>\n",
       "      <td>80</td>\n",
       "      <td>18.219.193.20</td>\n",
       "      <td>55220</td>\n",
       "      <td>6</td>\n",
       "      <td>16/02/2018 11:27:32 PM</td>\n",
       "      <td>4791971</td>\n",
       "      <td>4</td>\n",
       "      <td>...</td>\n",
       "      <td>0</td>\n",
       "      <td>0.0</td>\n",
       "      <td>0.0</td>\n",
       "      <td>0.0</td>\n",
       "      <td>0.0</td>\n",
       "      <td>0.0</td>\n",
       "      <td>0.0</td>\n",
       "      <td>0.0</td>\n",
       "      <td>0.0</td>\n",
       "      <td>ddos</td>\n",
       "    </tr>\n",
       "    <tr>\n",
       "      <th>292992</th>\n",
       "      <td>3542326</td>\n",
       "      <td>172.31.69.25-18.219.193.20-80-44382-6</td>\n",
       "      <td>172.31.69.25</td>\n",
       "      <td>80</td>\n",
       "      <td>18.219.193.20</td>\n",
       "      <td>44382</td>\n",
       "      <td>6</td>\n",
       "      <td>16/02/2018 11:27:44 PM</td>\n",
       "      <td>4329153</td>\n",
       "      <td>4</td>\n",
       "      <td>...</td>\n",
       "      <td>0</td>\n",
       "      <td>0.0</td>\n",
       "      <td>0.0</td>\n",
       "      <td>0.0</td>\n",
       "      <td>0.0</td>\n",
       "      <td>0.0</td>\n",
       "      <td>0.0</td>\n",
       "      <td>0.0</td>\n",
       "      <td>0.0</td>\n",
       "      <td>ddos</td>\n",
       "    </tr>\n",
       "  </tbody>\n",
       "</table>\n",
       "<p>5 rows × 85 columns</p>\n",
       "</div>"
      ],
      "text/plain": [
       "        Unnamed: 0                                Flow ID        Src IP  \\\n",
       "77263      3326597  172.31.69.25-18.219.193.20-80-36782-6  172.31.69.25   \n",
       "615204      872889  172.31.64.99-23.36.33.160-50603-443-6  23.36.33.160   \n",
       "611737     5633960  172.31.69.13-23.36.33.160-53224-443-6  23.36.33.160   \n",
       "267518     3516852  172.31.69.25-18.219.193.20-80-55220-6  172.31.69.25   \n",
       "292992     3542326  172.31.69.25-18.219.193.20-80-44382-6  172.31.69.25   \n",
       "\n",
       "        Src Port         Dst IP  Dst Port  Protocol               Timestamp  \\\n",
       "77263         80  18.219.193.20     36782         6  16/02/2018 11:26:08 PM   \n",
       "615204       443   172.31.64.99     50603         6     20/02/2018 09:51:22   \n",
       "611737       443   172.31.69.13     53224         6     20/02/2018 01:33:29   \n",
       "267518        80  18.219.193.20     55220         6  16/02/2018 11:27:32 PM   \n",
       "292992        80  18.219.193.20     44382         6  16/02/2018 11:27:44 PM   \n",
       "\n",
       "        Flow Duration  Tot Fwd Pkts  ...  Fwd Seg Size Min  Active Mean  \\\n",
       "77263         4306218             4  ...                 0          0.0   \n",
       "615204              3             3  ...                20          0.0   \n",
       "611737             39             3  ...                20          0.0   \n",
       "267518        4791971             4  ...                 0          0.0   \n",
       "292992        4329153             4  ...                 0          0.0   \n",
       "\n",
       "        Active Std  Active Max  Active Min  Idle Mean  Idle Std  Idle Max  \\\n",
       "77263          0.0         0.0         0.0        0.0       0.0       0.0   \n",
       "615204         0.0         0.0         0.0        0.0       0.0       0.0   \n",
       "611737         0.0         0.0         0.0        0.0       0.0       0.0   \n",
       "267518         0.0         0.0         0.0        0.0       0.0       0.0   \n",
       "292992         0.0         0.0         0.0        0.0       0.0       0.0   \n",
       "\n",
       "        Idle Min   Label  \n",
       "77263        0.0    ddos  \n",
       "615204       0.0  Benign  \n",
       "611737       0.0  Benign  \n",
       "267518       0.0    ddos  \n",
       "292992       0.0    ddos  \n",
       "\n",
       "[5 rows x 85 columns]"
      ]
     },
     "execution_count": 237,
     "metadata": {},
     "output_type": "execute_result"
    }
   ],
   "source": [
    "dataset.sample(5)"
   ]
  },
  {
   "cell_type": "code",
   "execution_count": 238,
   "metadata": {},
   "outputs": [
    {
     "name": "stdout",
     "output_type": "stream",
     "text": [
      "<class 'pandas.core.frame.DataFrame'>\n",
      "RangeIndex: 700000 entries, 0 to 699999\n",
      "Data columns (total 85 columns):\n",
      " #   Column             Non-Null Count   Dtype  \n",
      "---  ------             --------------   -----  \n",
      " 0   Unnamed: 0         700000 non-null  int64  \n",
      " 1   Flow ID            700000 non-null  object \n",
      " 2   Src IP             700000 non-null  object \n",
      " 3   Src Port           700000 non-null  int64  \n",
      " 4   Dst IP             700000 non-null  object \n",
      " 5   Dst Port           700000 non-null  int64  \n",
      " 6   Protocol           700000 non-null  int64  \n",
      " 7   Timestamp          700000 non-null  object \n",
      " 8   Flow Duration      700000 non-null  int64  \n",
      " 9   Tot Fwd Pkts       700000 non-null  int64  \n",
      " 10  Tot Bwd Pkts       700000 non-null  int64  \n",
      " 11  TotLen Fwd Pkts    700000 non-null  float64\n",
      " 12  TotLen Bwd Pkts    700000 non-null  float64\n",
      " 13  Fwd Pkt Len Max    700000 non-null  float64\n",
      " 14  Fwd Pkt Len Min    700000 non-null  float64\n",
      " 15  Fwd Pkt Len Mean   700000 non-null  float64\n",
      " 16  Fwd Pkt Len Std    700000 non-null  float64\n",
      " 17  Bwd Pkt Len Max    700000 non-null  float64\n",
      " 18  Bwd Pkt Len Min    700000 non-null  float64\n",
      " 19  Bwd Pkt Len Mean   700000 non-null  float64\n",
      " 20  Bwd Pkt Len Std    700000 non-null  float64\n",
      " 21  Flow Byts/s        698426 non-null  float64\n",
      " 22  Flow Pkts/s        700000 non-null  float64\n",
      " 23  Flow IAT Mean      700000 non-null  float64\n",
      " 24  Flow IAT Std       700000 non-null  float64\n",
      " 25  Flow IAT Max       700000 non-null  float64\n",
      " 26  Flow IAT Min       700000 non-null  float64\n",
      " 27  Fwd IAT Tot        700000 non-null  float64\n",
      " 28  Fwd IAT Mean       700000 non-null  float64\n",
      " 29  Fwd IAT Std        700000 non-null  float64\n",
      " 30  Fwd IAT Max        700000 non-null  float64\n",
      " 31  Fwd IAT Min        700000 non-null  float64\n",
      " 32  Bwd IAT Tot        700000 non-null  float64\n",
      " 33  Bwd IAT Mean       700000 non-null  float64\n",
      " 34  Bwd IAT Std        700000 non-null  float64\n",
      " 35  Bwd IAT Max        700000 non-null  float64\n",
      " 36  Bwd IAT Min        700000 non-null  float64\n",
      " 37  Fwd PSH Flags      700000 non-null  int64  \n",
      " 38  Bwd PSH Flags      700000 non-null  int64  \n",
      " 39  Fwd URG Flags      700000 non-null  int64  \n",
      " 40  Bwd URG Flags      700000 non-null  int64  \n",
      " 41  Fwd Header Len     700000 non-null  int64  \n",
      " 42  Bwd Header Len     700000 non-null  int64  \n",
      " 43  Fwd Pkts/s         700000 non-null  float64\n",
      " 44  Bwd Pkts/s         700000 non-null  float64\n",
      " 45  Pkt Len Min        700000 non-null  float64\n",
      " 46  Pkt Len Max        700000 non-null  float64\n",
      " 47  Pkt Len Mean       700000 non-null  float64\n",
      " 48  Pkt Len Std        700000 non-null  float64\n",
      " 49  Pkt Len Var        700000 non-null  float64\n",
      " 50  FIN Flag Cnt       700000 non-null  int64  \n",
      " 51  SYN Flag Cnt       700000 non-null  int64  \n",
      " 52  RST Flag Cnt       700000 non-null  int64  \n",
      " 53  PSH Flag Cnt       700000 non-null  int64  \n",
      " 54  ACK Flag Cnt       700000 non-null  int64  \n",
      " 55  URG Flag Cnt       700000 non-null  int64  \n",
      " 56  CWE Flag Count     700000 non-null  int64  \n",
      " 57  ECE Flag Cnt       700000 non-null  int64  \n",
      " 58  Down/Up Ratio      700000 non-null  float64\n",
      " 59  Pkt Size Avg       700000 non-null  float64\n",
      " 60  Fwd Seg Size Avg   700000 non-null  float64\n",
      " 61  Bwd Seg Size Avg   700000 non-null  float64\n",
      " 62  Fwd Byts/b Avg     700000 non-null  int64  \n",
      " 63  Fwd Pkts/b Avg     700000 non-null  int64  \n",
      " 64  Fwd Blk Rate Avg   700000 non-null  int64  \n",
      " 65  Bwd Byts/b Avg     700000 non-null  int64  \n",
      " 66  Bwd Pkts/b Avg     700000 non-null  int64  \n",
      " 67  Bwd Blk Rate Avg   700000 non-null  int64  \n",
      " 68  Subflow Fwd Pkts   700000 non-null  int64  \n",
      " 69  Subflow Fwd Byts   700000 non-null  int64  \n",
      " 70  Subflow Bwd Pkts   700000 non-null  int64  \n",
      " 71  Subflow Bwd Byts   700000 non-null  int64  \n",
      " 72  Init Fwd Win Byts  700000 non-null  int64  \n",
      " 73  Init Bwd Win Byts  700000 non-null  int64  \n",
      " 74  Fwd Act Data Pkts  700000 non-null  int64  \n",
      " 75  Fwd Seg Size Min   700000 non-null  int64  \n",
      " 76  Active Mean        700000 non-null  float64\n",
      " 77  Active Std         700000 non-null  float64\n",
      " 78  Active Max         700000 non-null  float64\n",
      " 79  Active Min         700000 non-null  float64\n",
      " 80  Idle Mean          700000 non-null  float64\n",
      " 81  Idle Std           700000 non-null  float64\n",
      " 82  Idle Max           700000 non-null  float64\n",
      " 83  Idle Min           700000 non-null  float64\n",
      " 84  Label              700000 non-null  object \n",
      "dtypes: float64(45), int64(35), object(5)\n",
      "memory usage: 453.9+ MB\n"
     ]
    }
   ],
   "source": [
    "dataset.info()"
   ]
  },
  {
   "cell_type": "code",
   "execution_count": 239,
   "metadata": {},
   "outputs": [
    {
     "data": {
      "text/plain": [
       "Index(['Unnamed: 0', 'Flow ID', 'Src IP', 'Src Port', 'Dst IP', 'Dst Port',\n",
       "       'Protocol', 'Timestamp', 'Flow Duration', 'Tot Fwd Pkts',\n",
       "       'Tot Bwd Pkts', 'TotLen Fwd Pkts', 'TotLen Bwd Pkts', 'Fwd Pkt Len Max',\n",
       "       'Fwd Pkt Len Min', 'Fwd Pkt Len Mean', 'Fwd Pkt Len Std',\n",
       "       'Bwd Pkt Len Max', 'Bwd Pkt Len Min', 'Bwd Pkt Len Mean',\n",
       "       'Bwd Pkt Len Std', 'Flow Byts/s', 'Flow Pkts/s', 'Flow IAT Mean',\n",
       "       'Flow IAT Std', 'Flow IAT Max', 'Flow IAT Min', 'Fwd IAT Tot',\n",
       "       'Fwd IAT Mean', 'Fwd IAT Std', 'Fwd IAT Max', 'Fwd IAT Min',\n",
       "       'Bwd IAT Tot', 'Bwd IAT Mean', 'Bwd IAT Std', 'Bwd IAT Max',\n",
       "       'Bwd IAT Min', 'Fwd PSH Flags', 'Bwd PSH Flags', 'Fwd URG Flags',\n",
       "       'Bwd URG Flags', 'Fwd Header Len', 'Bwd Header Len', 'Fwd Pkts/s',\n",
       "       'Bwd Pkts/s', 'Pkt Len Min', 'Pkt Len Max', 'Pkt Len Mean',\n",
       "       'Pkt Len Std', 'Pkt Len Var', 'FIN Flag Cnt', 'SYN Flag Cnt',\n",
       "       'RST Flag Cnt', 'PSH Flag Cnt', 'ACK Flag Cnt', 'URG Flag Cnt',\n",
       "       'CWE Flag Count', 'ECE Flag Cnt', 'Down/Up Ratio', 'Pkt Size Avg',\n",
       "       'Fwd Seg Size Avg', 'Bwd Seg Size Avg', 'Fwd Byts/b Avg',\n",
       "       'Fwd Pkts/b Avg', 'Fwd Blk Rate Avg', 'Bwd Byts/b Avg',\n",
       "       'Bwd Pkts/b Avg', 'Bwd Blk Rate Avg', 'Subflow Fwd Pkts',\n",
       "       'Subflow Fwd Byts', 'Subflow Bwd Pkts', 'Subflow Bwd Byts',\n",
       "       'Init Fwd Win Byts', 'Init Bwd Win Byts', 'Fwd Act Data Pkts',\n",
       "       'Fwd Seg Size Min', 'Active Mean', 'Active Std', 'Active Max',\n",
       "       'Active Min', 'Idle Mean', 'Idle Std', 'Idle Max', 'Idle Min', 'Label'],\n",
       "      dtype='object')"
      ]
     },
     "execution_count": 239,
     "metadata": {},
     "output_type": "execute_result"
    }
   ],
   "source": [
    "dataset.columns"
   ]
  },
  {
   "cell_type": "code",
   "execution_count": 240,
   "metadata": {},
   "outputs": [
    {
     "name": "stdout",
     "output_type": "stream",
     "text": [
      "<class 'pandas.core.frame.DataFrame'>\n",
      "RangeIndex: 700000 entries, 0 to 699999\n",
      "Data columns (total 10 columns):\n",
      " #   Column             Non-Null Count   Dtype  \n",
      "---  ------             --------------   -----  \n",
      " 0   Flow ID            700000 non-null  object \n",
      " 1   Timestamp          700000 non-null  object \n",
      " 2   Fwd Seg Size Min   700000 non-null  int64  \n",
      " 3   Src IP             700000 non-null  object \n",
      " 4   Dst IP             700000 non-null  object \n",
      " 5   Flow IAT Min       700000 non-null  float64\n",
      " 6   Src Port           700000 non-null  int64  \n",
      " 7   Tot Fwd Pkts       700000 non-null  int64  \n",
      " 8   Init Bwd Win Byts  700000 non-null  int64  \n",
      " 9   Label              700000 non-null  object \n",
      "dtypes: float64(1), int64(4), object(5)\n",
      "memory usage: 53.4+ MB\n"
     ]
    }
   ],
   "source": [
    "attrs = ['Flow ID','Timestamp','Fwd Seg Size Min','Src IP','Dst IP','Flow IAT Min','Src Port','Tot Fwd Pkts','Init Bwd Win Byts','Label']\n",
    "dataset = dataset[attrs]\n",
    "testset = testset[attrs]\n",
    "dataset.info()"
   ]
  },
  {
   "cell_type": "code",
   "execution_count": 241,
   "metadata": {},
   "outputs": [
    {
     "data": {
      "text/html": [
       "<div>\n",
       "<style scoped>\n",
       "    .dataframe tbody tr th:only-of-type {\n",
       "        vertical-align: middle;\n",
       "    }\n",
       "\n",
       "    .dataframe tbody tr th {\n",
       "        vertical-align: top;\n",
       "    }\n",
       "\n",
       "    .dataframe thead th {\n",
       "        text-align: right;\n",
       "    }\n",
       "</style>\n",
       "<table border=\"1\" class=\"dataframe\">\n",
       "  <thead>\n",
       "    <tr style=\"text-align: right;\">\n",
       "      <th></th>\n",
       "      <th>Flow ID</th>\n",
       "      <th>Timestamp</th>\n",
       "      <th>Fwd Seg Size Min</th>\n",
       "      <th>Src IP</th>\n",
       "      <th>Dst IP</th>\n",
       "      <th>Flow IAT Min</th>\n",
       "      <th>Src Port</th>\n",
       "      <th>Tot Fwd Pkts</th>\n",
       "      <th>Init Bwd Win Byts</th>\n",
       "      <th>Label</th>\n",
       "    </tr>\n",
       "  </thead>\n",
       "  <tbody>\n",
       "    <tr>\n",
       "      <th>506987</th>\n",
       "      <td>172.31.66.75-23.62.6.26-50883-80-6</td>\n",
       "      <td>20/02/2018 10:04:19</td>\n",
       "      <td>20</td>\n",
       "      <td>23.62.6.26</td>\n",
       "      <td>172.31.66.75</td>\n",
       "      <td>51.0</td>\n",
       "      <td>80</td>\n",
       "      <td>1</td>\n",
       "      <td>256</td>\n",
       "      <td>Benign</td>\n",
       "    </tr>\n",
       "    <tr>\n",
       "      <th>166707</th>\n",
       "      <td>172.31.69.25-18.219.193.20-80-56990-6</td>\n",
       "      <td>16/02/2018 11:26:48 PM</td>\n",
       "      <td>0</td>\n",
       "      <td>172.31.69.25</td>\n",
       "      <td>18.219.193.20</td>\n",
       "      <td>5.0</td>\n",
       "      <td>80</td>\n",
       "      <td>4</td>\n",
       "      <td>211</td>\n",
       "      <td>ddos</td>\n",
       "    </tr>\n",
       "    <tr>\n",
       "      <th>152109</th>\n",
       "      <td>172.31.69.25-18.219.193.20-80-41168-6</td>\n",
       "      <td>16/02/2018 11:26:41 PM</td>\n",
       "      <td>0</td>\n",
       "      <td>172.31.69.25</td>\n",
       "      <td>18.219.193.20</td>\n",
       "      <td>8.0</td>\n",
       "      <td>80</td>\n",
       "      <td>4</td>\n",
       "      <td>211</td>\n",
       "      <td>ddos</td>\n",
       "    </tr>\n",
       "    <tr>\n",
       "      <th>175837</th>\n",
       "      <td>172.31.69.25-18.219.193.20-80-56296-6</td>\n",
       "      <td>16/02/2018 11:26:52 PM</td>\n",
       "      <td>0</td>\n",
       "      <td>172.31.69.25</td>\n",
       "      <td>18.219.193.20</td>\n",
       "      <td>6.0</td>\n",
       "      <td>80</td>\n",
       "      <td>4</td>\n",
       "      <td>225</td>\n",
       "      <td>ddos</td>\n",
       "    </tr>\n",
       "    <tr>\n",
       "      <th>451989</th>\n",
       "      <td>172.31.65.45-23.218.62.30-0-0-0</td>\n",
       "      <td>20/02/2018 04:45:22</td>\n",
       "      <td>0</td>\n",
       "      <td>172.31.65.45</td>\n",
       "      <td>23.218.62.30</td>\n",
       "      <td>5029737.0</td>\n",
       "      <td>0</td>\n",
       "      <td>24</td>\n",
       "      <td>-1</td>\n",
       "      <td>Benign</td>\n",
       "    </tr>\n",
       "  </tbody>\n",
       "</table>\n",
       "</div>"
      ],
      "text/plain": [
       "                                      Flow ID               Timestamp  \\\n",
       "506987     172.31.66.75-23.62.6.26-50883-80-6     20/02/2018 10:04:19   \n",
       "166707  172.31.69.25-18.219.193.20-80-56990-6  16/02/2018 11:26:48 PM   \n",
       "152109  172.31.69.25-18.219.193.20-80-41168-6  16/02/2018 11:26:41 PM   \n",
       "175837  172.31.69.25-18.219.193.20-80-56296-6  16/02/2018 11:26:52 PM   \n",
       "451989        172.31.65.45-23.218.62.30-0-0-0     20/02/2018 04:45:22   \n",
       "\n",
       "        Fwd Seg Size Min        Src IP         Dst IP  Flow IAT Min  Src Port  \\\n",
       "506987                20    23.62.6.26   172.31.66.75          51.0        80   \n",
       "166707                 0  172.31.69.25  18.219.193.20           5.0        80   \n",
       "152109                 0  172.31.69.25  18.219.193.20           8.0        80   \n",
       "175837                 0  172.31.69.25  18.219.193.20           6.0        80   \n",
       "451989                 0  172.31.65.45   23.218.62.30     5029737.0         0   \n",
       "\n",
       "        Tot Fwd Pkts  Init Bwd Win Byts   Label  \n",
       "506987             1                256  Benign  \n",
       "166707             4                211    ddos  \n",
       "152109             4                211    ddos  \n",
       "175837             4                225    ddos  \n",
       "451989            24                 -1  Benign  "
      ]
     },
     "execution_count": 241,
     "metadata": {},
     "output_type": "execute_result"
    }
   ],
   "source": [
    "dataset.sample(5)"
   ]
  },
  {
   "cell_type": "code",
   "execution_count": 242,
   "metadata": {},
   "outputs": [
    {
     "data": {
      "text/plain": [
       "Label\n",
       "ddos      372648\n",
       "Benign    327352\n",
       "Name: count, dtype: int64"
      ]
     },
     "execution_count": 242,
     "metadata": {},
     "output_type": "execute_result"
    }
   ],
   "source": [
    "dataset['Label'].value_counts()"
   ]
  },
  {
   "cell_type": "code",
   "execution_count": 243,
   "metadata": {},
   "outputs": [
    {
     "data": {
      "text/plain": [
       "Label\n",
       "Benign    605470\n",
       "ddos       94530\n",
       "Name: count, dtype: int64"
      ]
     },
     "execution_count": 243,
     "metadata": {},
     "output_type": "execute_result"
    }
   ],
   "source": [
    "testset['Label'].value_counts()"
   ]
  },
  {
   "cell_type": "markdown",
   "metadata": {},
   "source": [
    "### Shape\n"
   ]
  },
  {
   "cell_type": "code",
   "execution_count": 244,
   "metadata": {},
   "outputs": [
    {
     "data": {
      "text/plain": [
       "(700000, 10)"
      ]
     },
     "execution_count": 244,
     "metadata": {},
     "output_type": "execute_result"
    }
   ],
   "source": [
    "dataset.shape"
   ]
  },
  {
   "cell_type": "code",
   "execution_count": 245,
   "metadata": {},
   "outputs": [
    {
     "data": {
      "image/png": "[encoded data removed]",
      "text/plain": [
       "<Figure size 640x480 with 1 Axes>"
      ]
     },
     "metadata": {},
     "output_type": "display_data"
    }
   ],
   "source": [
    "label = 'ddos','Benign'\n",
    "sizes = [len(dataset[dataset[\"Label\"]==\"ddos\"]),len(dataset[dataset[\"Label\"]==\"Benign\"])]\n",
    "plt.pie(sizes,labels=label,colors=['blue','red'],autopct='%1.1f%%')\n",
    "plt.axis('equal')\n",
    "plt.legend(loc='best')\n",
    "plt.title('Training Dataset Split')\n",
    "plt.show()"
   ]
  },
  {
   "cell_type": "code",
   "execution_count": 246,
   "metadata": {},
   "outputs": [
    {
     "data": {
      "image/png": "[encoded data removed]",
      "text/plain": [
       "<Figure size 640x480 with 1 Axes>"
      ]
     },
     "metadata": {},
     "output_type": "display_data"
    }
   ],
   "source": [
    "label = 'ddos','Benign'\n",
    "sizes = [len(testset[testset[\"Label\"]==\"ddos\"]),len(testset[testset[\"Label\"]==\"Benign\"])]\n",
    "plt.pie(sizes,labels=label,colors=['blue','red'],autopct='%1.1f%%')\n",
    "plt.axis('equal')\n",
    "plt.legend(loc='best')\n",
    "plt.title('Testing Dataset Split')\n",
    "plt.show()"
   ]
  },
  {
   "cell_type": "code",
   "execution_count": 247,
   "metadata": {},
   "outputs": [],
   "source": [
    "\n",
    "from datetime import datetime\n",
    "dataset['new_SRC_IP'] = [int(''.join(x.split(\".\"))) for x in dataset['Src IP']]\n",
    "dataset['new_DST_IP'] = [int(''.join(x.split(\".\"))) for x in dataset['Dst IP']]\n",
    "dataset['new_Timestamp'] = [int(''.join((x.split()[0]).split(\"/\"))+''.join(((x.split()[1]).split(\":\"))[0])) for x in dataset['Timestamp']]\n",
    "testset['new_SRC_IP'] = [int(''.join(x.split(\".\"))) for x in testset['Src IP']]\n",
    "testset['new_DST_IP'] = [int(''.join(x.split(\".\"))) for x in testset['Dst IP']]\n",
    "testset['new_Timestamp'] = [int(''.join((x.split()[0]).split(\"/\"))+''.join(((x.split()[1]).split(\":\"))[0])) for x in testset['Timestamp']]\n"
   ]
  },
  {
   "cell_type": "code",
   "execution_count": 248,
   "metadata": {},
   "outputs": [
    {
     "data": {
      "text/html": [
       "<div>\n",
       "<style scoped>\n",
       "    .dataframe tbody tr th:only-of-type {\n",
       "        vertical-align: middle;\n",
       "    }\n",
       "\n",
       "    .dataframe tbody tr th {\n",
       "        vertical-align: top;\n",
       "    }\n",
       "\n",
       "    .dataframe thead th {\n",
       "        text-align: right;\n",
       "    }\n",
       "</style>\n",
       "<table border=\"1\" class=\"dataframe\">\n",
       "  <thead>\n",
       "    <tr style=\"text-align: right;\">\n",
       "      <th></th>\n",
       "      <th>Flow ID</th>\n",
       "      <th>Timestamp</th>\n",
       "      <th>Fwd Seg Size Min</th>\n",
       "      <th>Src IP</th>\n",
       "      <th>Dst IP</th>\n",
       "      <th>Flow IAT Min</th>\n",
       "      <th>Src Port</th>\n",
       "      <th>Tot Fwd Pkts</th>\n",
       "      <th>Init Bwd Win Byts</th>\n",
       "      <th>Label</th>\n",
       "      <th>new_SRC_IP</th>\n",
       "      <th>new_DST_IP</th>\n",
       "      <th>new_Timestamp</th>\n",
       "    </tr>\n",
       "  </thead>\n",
       "  <tbody>\n",
       "    <tr>\n",
       "      <th>360311</th>\n",
       "      <td>172.31.0.2-172.31.66.20-53-63203-17</td>\n",
       "      <td>20/02/2018 04:00:35</td>\n",
       "      <td>8</td>\n",
       "      <td>172.31.66.20</td>\n",
       "      <td>172.31.0.2</td>\n",
       "      <td>483.0</td>\n",
       "      <td>63203</td>\n",
       "      <td>1</td>\n",
       "      <td>-1</td>\n",
       "      <td>Benign</td>\n",
       "      <td>172316620</td>\n",
       "      <td>1723102</td>\n",
       "      <td>2002201804</td>\n",
       "    </tr>\n",
       "    <tr>\n",
       "      <th>433345</th>\n",
       "      <td>169.254.169.254-172.31.65.87-80-49435-6</td>\n",
       "      <td>20/02/2018 10:16:39</td>\n",
       "      <td>20</td>\n",
       "      <td>172.31.65.87</td>\n",
       "      <td>169.254.169.254</td>\n",
       "      <td>66.0</td>\n",
       "      <td>49435</td>\n",
       "      <td>2</td>\n",
       "      <td>-1</td>\n",
       "      <td>Benign</td>\n",
       "      <td>172316587</td>\n",
       "      <td>169254169254</td>\n",
       "      <td>2002201810</td>\n",
       "    </tr>\n",
       "    <tr>\n",
       "      <th>18900</th>\n",
       "      <td>172.31.69.28-18.218.11.51-80-60186-6</td>\n",
       "      <td>22/02/2018 12:33:44 AM</td>\n",
       "      <td>0</td>\n",
       "      <td>18.218.11.51</td>\n",
       "      <td>172.31.69.28</td>\n",
       "      <td>2667.0</td>\n",
       "      <td>60186</td>\n",
       "      <td>1</td>\n",
       "      <td>32738</td>\n",
       "      <td>ddos</td>\n",
       "      <td>182181151</td>\n",
       "      <td>172316928</td>\n",
       "      <td>2202201812</td>\n",
       "    </tr>\n",
       "    <tr>\n",
       "      <th>405605</th>\n",
       "      <td>172.31.69.20-13.65.245.138-123-123-17</td>\n",
       "      <td>20/02/2018 08:46:12</td>\n",
       "      <td>8</td>\n",
       "      <td>172.31.69.20</td>\n",
       "      <td>13.65.245.138</td>\n",
       "      <td>43402.0</td>\n",
       "      <td>123</td>\n",
       "      <td>1</td>\n",
       "      <td>-1</td>\n",
       "      <td>Benign</td>\n",
       "      <td>172316920</td>\n",
       "      <td>1365245138</td>\n",
       "      <td>2002201808</td>\n",
       "    </tr>\n",
       "    <tr>\n",
       "      <th>191900</th>\n",
       "      <td>172.31.0.2-172.31.65.27-53-64578-17</td>\n",
       "      <td>20/02/2018 11:03:53</td>\n",
       "      <td>8</td>\n",
       "      <td>172.31.65.27</td>\n",
       "      <td>172.31.0.2</td>\n",
       "      <td>12997.0</td>\n",
       "      <td>64578</td>\n",
       "      <td>1</td>\n",
       "      <td>-1</td>\n",
       "      <td>Benign</td>\n",
       "      <td>172316527</td>\n",
       "      <td>1723102</td>\n",
       "      <td>2002201811</td>\n",
       "    </tr>\n",
       "    <tr>\n",
       "      <th>513340</th>\n",
       "      <td>172.31.67.29-199.247.10.78-3389-55438-6</td>\n",
       "      <td>20/02/2018 03:24:55</td>\n",
       "      <td>20</td>\n",
       "      <td>199.247.10.78</td>\n",
       "      <td>172.31.67.29</td>\n",
       "      <td>53.0</td>\n",
       "      <td>55438</td>\n",
       "      <td>8</td>\n",
       "      <td>62852</td>\n",
       "      <td>Benign</td>\n",
       "      <td>1992471078</td>\n",
       "      <td>172316729</td>\n",
       "      <td>2002201803</td>\n",
       "    </tr>\n",
       "    <tr>\n",
       "      <th>506060</th>\n",
       "      <td>172.31.66.84-5.39.221.40-3389-53233-6</td>\n",
       "      <td>20/02/2018 02:14:34</td>\n",
       "      <td>20</td>\n",
       "      <td>5.39.221.40</td>\n",
       "      <td>172.31.66.84</td>\n",
       "      <td>28.0</td>\n",
       "      <td>53233</td>\n",
       "      <td>10</td>\n",
       "      <td>62856</td>\n",
       "      <td>Benign</td>\n",
       "      <td>53922140</td>\n",
       "      <td>172316684</td>\n",
       "      <td>2002201802</td>\n",
       "    </tr>\n",
       "    <tr>\n",
       "      <th>418781</th>\n",
       "      <td>172.31.66.105-193.19.118.97-3389-49937-6</td>\n",
       "      <td>20/02/2018 01:52:23</td>\n",
       "      <td>20</td>\n",
       "      <td>193.19.118.97</td>\n",
       "      <td>172.31.66.105</td>\n",
       "      <td>46.0</td>\n",
       "      <td>49937</td>\n",
       "      <td>8</td>\n",
       "      <td>62872</td>\n",
       "      <td>Benign</td>\n",
       "      <td>1931911897</td>\n",
       "      <td>1723166105</td>\n",
       "      <td>2002201801</td>\n",
       "    </tr>\n",
       "    <tr>\n",
       "      <th>197457</th>\n",
       "      <td>172.31.66.107-67.215.9.148-49710-443-6</td>\n",
       "      <td>20/02/2018 08:30:00</td>\n",
       "      <td>28</td>\n",
       "      <td>172.31.66.107</td>\n",
       "      <td>67.215.9.148</td>\n",
       "      <td>25178.0</td>\n",
       "      <td>49710</td>\n",
       "      <td>3</td>\n",
       "      <td>0</td>\n",
       "      <td>Benign</td>\n",
       "      <td>1723166107</td>\n",
       "      <td>672159148</td>\n",
       "      <td>2002201808</td>\n",
       "    </tr>\n",
       "    <tr>\n",
       "      <th>599808</th>\n",
       "      <td>172.31.0.2-172.31.68.21-53-51090-17</td>\n",
       "      <td>20/02/2018 02:11:40</td>\n",
       "      <td>8</td>\n",
       "      <td>172.31.68.21</td>\n",
       "      <td>172.31.0.2</td>\n",
       "      <td>337.0</td>\n",
       "      <td>51090</td>\n",
       "      <td>1</td>\n",
       "      <td>-1</td>\n",
       "      <td>Benign</td>\n",
       "      <td>172316821</td>\n",
       "      <td>1723102</td>\n",
       "      <td>2002201802</td>\n",
       "    </tr>\n",
       "  </tbody>\n",
       "</table>\n",
       "</div>"
      ],
      "text/plain": [
       "                                         Flow ID               Timestamp  \\\n",
       "360311       172.31.0.2-172.31.66.20-53-63203-17     20/02/2018 04:00:35   \n",
       "433345   169.254.169.254-172.31.65.87-80-49435-6     20/02/2018 10:16:39   \n",
       "18900       172.31.69.28-18.218.11.51-80-60186-6  22/02/2018 12:33:44 AM   \n",
       "405605     172.31.69.20-13.65.245.138-123-123-17     20/02/2018 08:46:12   \n",
       "191900       172.31.0.2-172.31.65.27-53-64578-17     20/02/2018 11:03:53   \n",
       "513340   172.31.67.29-199.247.10.78-3389-55438-6     20/02/2018 03:24:55   \n",
       "506060     172.31.66.84-5.39.221.40-3389-53233-6     20/02/2018 02:14:34   \n",
       "418781  172.31.66.105-193.19.118.97-3389-49937-6     20/02/2018 01:52:23   \n",
       "197457    172.31.66.107-67.215.9.148-49710-443-6     20/02/2018 08:30:00   \n",
       "599808       172.31.0.2-172.31.68.21-53-51090-17     20/02/2018 02:11:40   \n",
       "\n",
       "        Fwd Seg Size Min         Src IP           Dst IP  Flow IAT Min  \\\n",
       "360311                 8   172.31.66.20       172.31.0.2         483.0   \n",
       "433345                20   172.31.65.87  169.254.169.254          66.0   \n",
       "18900                  0   18.218.11.51     172.31.69.28        2667.0   \n",
       "405605                 8   172.31.69.20    13.65.245.138       43402.0   \n",
       "191900                 8   172.31.65.27       172.31.0.2       12997.0   \n",
       "513340                20  199.247.10.78     172.31.67.29          53.0   \n",
       "506060                20    5.39.221.40     172.31.66.84          28.0   \n",
       "418781                20  193.19.118.97    172.31.66.105          46.0   \n",
       "197457                28  172.31.66.107     67.215.9.148       25178.0   \n",
       "599808                 8   172.31.68.21       172.31.0.2         337.0   \n",
       "\n",
       "        Src Port  Tot Fwd Pkts  Init Bwd Win Byts   Label  new_SRC_IP  \\\n",
       "360311     63203             1                 -1  Benign   172316620   \n",
       "433345     49435             2                 -1  Benign   172316587   \n",
       "18900      60186             1              32738    ddos   182181151   \n",
       "405605       123             1                 -1  Benign   172316920   \n",
       "191900     64578             1                 -1  Benign   172316527   \n",
       "513340     55438             8              62852  Benign  1992471078   \n",
       "506060     53233            10              62856  Benign    53922140   \n",
       "418781     49937             8              62872  Benign  1931911897   \n",
       "197457     49710             3                  0  Benign  1723166107   \n",
       "599808     51090             1                 -1  Benign   172316821   \n",
       "\n",
       "          new_DST_IP  new_Timestamp  \n",
       "360311       1723102     2002201804  \n",
       "433345  169254169254     2002201810  \n",
       "18900      172316928     2202201812  \n",
       "405605    1365245138     2002201808  \n",
       "191900       1723102     2002201811  \n",
       "513340     172316729     2002201803  \n",
       "506060     172316684     2002201802  \n",
       "418781    1723166105     2002201801  \n",
       "197457     672159148     2002201808  \n",
       "599808       1723102     2002201802  "
      ]
     },
     "execution_count": 248,
     "metadata": {},
     "output_type": "execute_result"
    }
   ],
   "source": [
    "testset.sample(10)"
   ]
  },
  {
   "cell_type": "code",
   "execution_count": 249,
   "metadata": {},
   "outputs": [
    {
     "data": {
      "text/plain": [
       "Flow ID              0\n",
       "Timestamp            0\n",
       "Fwd Seg Size Min     0\n",
       "Src IP               0\n",
       "Dst IP               0\n",
       "Flow IAT Min         0\n",
       "Src Port             0\n",
       "Tot Fwd Pkts         0\n",
       "Init Bwd Win Byts    0\n",
       "Label                0\n",
       "new_SRC_IP           0\n",
       "new_DST_IP           0\n",
       "new_Timestamp        0\n",
       "dtype: int64"
      ]
     },
     "execution_count": 249,
     "metadata": {},
     "output_type": "execute_result"
    }
   ],
   "source": [
    "testset.isna().sum()"
   ]
  },
  {
   "cell_type": "markdown",
   "metadata": {},
   "source": [
    "# <a id='toc6_'></a>[**VISUALISATION**](#toc0_)"
   ]
  },
  {
   "cell_type": "markdown",
   "metadata": {},
   "source": [
    "## <a id='toc6_1_'></a>[Scatter Graph](#toc0_)\n",
    "\n"
   ]
  },
  {
   "cell_type": "code",
   "execution_count": 250,
   "metadata": {},
   "outputs": [],
   "source": [
    "ddos_set = dataset[dataset.Label == 'ddos']\n",
    "benign_set = dataset[dataset.Label == 'Benign']\n",
    "X = dataset.drop(['Label','Flow ID','Src IP','Dst IP'], axis='columns')\n",
    "Y = dataset['Label'].replace(to_replace = ['ddos','Benign'], value=[1,0])\n"
   ]
  },
  {
   "cell_type": "code",
   "execution_count": 251,
   "metadata": {},
   "outputs": [
    {
     "data": {
      "image/png": "[encoded data removed]",
      "text/plain": [
       "<Figure size 640x480 with 1 Axes>"
      ]
     },
     "metadata": {},
     "output_type": "display_data"
    }
   ],
   "source": [
    "plt.scatter(ddos_set['new_Timestamp'],ddos_set['Tot Fwd Pkts'], color = 'red')\n",
    "plt.show()"
   ]
  },
  {
   "cell_type": "code",
   "execution_count": 252,
   "metadata": {},
   "outputs": [],
   "source": [
    "#the above graph shows that in a ddos attack packets are sent continuously over a period of time"
   ]
  },
  {
   "cell_type": "code",
   "execution_count": 253,
   "metadata": {},
   "outputs": [
    {
     "data": {
      "image/png": "[encoded data removed]",
      "text/plain": [
       "<Figure size 640x480 with 1 Axes>"
      ]
     },
     "metadata": {},
     "output_type": "display_data"
    }
   ],
   "source": [
    "plt.scatter(benign_set['new_Timestamp'],benign_set['Tot Fwd Pkts'], color = 'green')\n",
    "plt.show()"
   ]
  },
  {
   "cell_type": "code",
   "execution_count": 254,
   "metadata": {},
   "outputs": [],
   "source": [
    "# the above graph shows that benign packets are well spread over a time period"
   ]
  },
  {
   "cell_type": "code",
   "execution_count": 255,
   "metadata": {},
   "outputs": [
    {
     "data": {
      "image/png": "[encoded data removed]",
      "text/plain": [
       "<Figure size 640x480 with 1 Axes>"
      ]
     },
     "metadata": {},
     "output_type": "display_data"
    }
   ],
   "source": [
    "X.index = X['new_Timestamp']\n",
    "plt.hist(X['new_Timestamp'])\n",
    "plt.show()"
   ]
  },
  {
   "cell_type": "markdown",
   "metadata": {},
   "source": [
    "## <a id='toc6_2_'></a>[HEATMAP](#toc0_)"
   ]
  },
  {
   "cell_type": "code",
   "execution_count": 256,
   "metadata": {},
   "outputs": [
    {
     "data": {
      "image/png": "[encoded data removed]",
      "text/plain": [
       "<Figure size 640x480 with 2 Axes>"
      ]
     },
     "metadata": {},
     "output_type": "display_data"
    }
   ],
   "source": [
    "X = X.drop(['Timestamp'], axis=1)\n",
    "sns.heatmap(X.corr(method='pearson'), xticklabels=X.corr().columns, yticklabels=X.corr().columns,annot=True,fmt=\".2f\",linewidth=.5)\n",
    "plt.show()"
   ]
  },
  {
   "cell_type": "code",
   "execution_count": 257,
   "metadata": {},
   "outputs": [
    {
     "data": {
      "text/plain": [
       "Fwd Seg Size Min    NaN\n",
       "Flow IAT Min        NaN\n",
       "Src Port            NaN\n",
       "Tot Fwd Pkts        NaN\n",
       "Init Bwd Win Byts   NaN\n",
       "new_SRC_IP          NaN\n",
       "new_DST_IP          NaN\n",
       "new_Timestamp       NaN\n",
       "dtype: float64"
      ]
     },
     "execution_count": 257,
     "metadata": {},
     "output_type": "execute_result"
    }
   ],
   "source": [
    "Y = Y.replace(to_replace=['ddos','Benign'],value=[1,0])\n",
    "X.corrwith(Y).sort_values()"
   ]
  },
  {
   "cell_type": "markdown",
   "metadata": {},
   "source": [
    "# <a id='toc4_'></a>[**GENERATING TRAINING AND TESTING DATASET**](#toc0_)"
   ]
  },
  {
   "cell_type": "code",
   "execution_count": 265,
   "metadata": {},
   "outputs": [
    {
     "data": {
      "text/html": [
       "<div>\n",
       "<style scoped>\n",
       "    .dataframe tbody tr th:only-of-type {\n",
       "        vertical-align: middle;\n",
       "    }\n",
       "\n",
       "    .dataframe tbody tr th {\n",
       "        vertical-align: top;\n",
       "    }\n",
       "\n",
       "    .dataframe thead th {\n",
       "        text-align: right;\n",
       "    }\n",
       "</style>\n",
       "<table border=\"1\" class=\"dataframe\">\n",
       "  <thead>\n",
       "    <tr style=\"text-align: right;\">\n",
       "      <th></th>\n",
       "      <th>Fwd Seg Size Min</th>\n",
       "      <th>Flow IAT Min</th>\n",
       "      <th>Src Port</th>\n",
       "      <th>Tot Fwd Pkts</th>\n",
       "      <th>Init Bwd Win Byts</th>\n",
       "      <th>new_SRC_IP</th>\n",
       "      <th>new_DST_IP</th>\n",
       "      <th>new_Timestamp</th>\n",
       "    </tr>\n",
       "  </thead>\n",
       "  <tbody>\n",
       "    <tr>\n",
       "      <th>203975</th>\n",
       "      <td>0</td>\n",
       "      <td>5.0</td>\n",
       "      <td>80</td>\n",
       "      <td>4</td>\n",
       "      <td>211</td>\n",
       "      <td>172316925</td>\n",
       "      <td>1821919320</td>\n",
       "      <td>1602201811</td>\n",
       "    </tr>\n",
       "    <tr>\n",
       "      <th>189935</th>\n",
       "      <td>0</td>\n",
       "      <td>5.0</td>\n",
       "      <td>80</td>\n",
       "      <td>4</td>\n",
       "      <td>225</td>\n",
       "      <td>172316925</td>\n",
       "      <td>1821919320</td>\n",
       "      <td>1602201811</td>\n",
       "    </tr>\n",
       "    <tr>\n",
       "      <th>677541</th>\n",
       "      <td>20</td>\n",
       "      <td>1.0</td>\n",
       "      <td>51723</td>\n",
       "      <td>25</td>\n",
       "      <td>40958</td>\n",
       "      <td>172316766</td>\n",
       "      <td>20411168212</td>\n",
       "      <td>2002201812</td>\n",
       "    </tr>\n",
       "    <tr>\n",
       "      <th>370741</th>\n",
       "      <td>0</td>\n",
       "      <td>47709.0</td>\n",
       "      <td>80</td>\n",
       "      <td>0</td>\n",
       "      <td>225</td>\n",
       "      <td>172316925</td>\n",
       "      <td>1821919320</td>\n",
       "      <td>1602201811</td>\n",
       "    </tr>\n",
       "    <tr>\n",
       "      <th>78150</th>\n",
       "      <td>0</td>\n",
       "      <td>3.0</td>\n",
       "      <td>80</td>\n",
       "      <td>4</td>\n",
       "      <td>211</td>\n",
       "      <td>172316925</td>\n",
       "      <td>1821919320</td>\n",
       "      <td>1602201811</td>\n",
       "    </tr>\n",
       "  </tbody>\n",
       "</table>\n",
       "</div>"
      ],
      "text/plain": [
       "        Fwd Seg Size Min  Flow IAT Min  Src Port  Tot Fwd Pkts  \\\n",
       "203975                 0           5.0        80             4   \n",
       "189935                 0           5.0        80             4   \n",
       "677541                20           1.0     51723            25   \n",
       "370741                 0       47709.0        80             0   \n",
       "78150                  0           3.0        80             4   \n",
       "\n",
       "        Init Bwd Win Byts  new_SRC_IP   new_DST_IP  new_Timestamp  \n",
       "203975                211   172316925   1821919320     1602201811  \n",
       "189935                225   172316925   1821919320     1602201811  \n",
       "677541              40958   172316766  20411168212     2002201812  \n",
       "370741                225   172316925   1821919320     1602201811  \n",
       "78150                 211   172316925   1821919320     1602201811  "
      ]
     },
     "execution_count": 265,
     "metadata": {},
     "output_type": "execute_result"
    }
   ],
   "source": [
    "X = dataset.drop(['Label','Flow ID','Timestamp','Src IP','Dst IP'], axis='columns')\n",
    "X.sample(5)"
   ]
  },
  {
   "cell_type": "code",
   "execution_count": 266,
   "metadata": {},
   "outputs": [],
   "source": [
    "Y = dataset['Label']"
   ]
  },
  {
   "cell_type": "code",
   "execution_count": 267,
   "metadata": {},
   "outputs": [],
   "source": [
    "X_train,X_test,Y_train,Y_test=train_test_split(X,Y, test_size=0.4)"
   ]
  },
  {
   "cell_type": "code",
   "execution_count": 268,
   "metadata": {},
   "outputs": [],
   "source": [
    "new_X_TEST = testset.drop(['Label','Flow ID','Timestamp','Src IP','Dst IP'], axis='columns')\n",
    "new_Y_TEST = testset['Label']"
   ]
  },
  {
   "cell_type": "markdown",
   "metadata": {},
   "source": [
    "# <a id='toc5_'></a>[**MODEL BUILDING**](#toc0_)"
   ]
  },
  {
   "cell_type": "markdown",
   "metadata": {},
   "source": [
    "## <a id='toc5_1_'></a>[KNN Classifier](#toc0_)"
   ]
  },
  {
   "cell_type": "code",
   "execution_count": 270,
   "metadata": {},
   "outputs": [
    {
     "data": {
      "text/html": [
       "<style>#sk-container-id-14 {color: black;}#sk-container-id-14 pre{padding: 0;}#sk-container-id-14 div.sk-toggleable {background-color: white;}#sk-container-id-14 label.sk-toggleable__label {cursor: pointer;display: block;width: 100%;margin-bottom: 0;padding: 0.3em;box-sizing: border-box;text-align: center;}#sk-container-id-14 label.sk-toggleable__label-arrow:before {content: \"▸\";float: left;margin-right: 0.25em;color: #696969;}#sk-container-id-14 label.sk-toggleable__label-arrow:hover:before {color: black;}#sk-container-id-14 div.sk-estimator:hover label.sk-toggleable__label-arrow:before {color: black;}#sk-container-id-14 div.sk-toggleable__content {max-height: 0;max-width: 0;overflow: hidden;text-align: left;background-color: #f0f8ff;}#sk-container-id-14 div.sk-toggleable__content pre {margin: 0.2em;color: black;border-radius: 0.25em;background-color: #f0f8ff;}#sk-container-id-14 input.sk-toggleable__control:checked~div.sk-toggleable__content {max-height: 200px;max-width: 100%;overflow: auto;}#sk-container-id-14 input.sk-toggleable__control:checked~label.sk-toggleable__label-arrow:before {content: \"▾\";}#sk-container-id-14 div.sk-estimator input.sk-toggleable__control:checked~label.sk-toggleable__label {background-color: #d4ebff;}#sk-container-id-14 div.sk-label input.sk-toggleable__control:checked~label.sk-toggleable__label {background-color: #d4ebff;}#sk-container-id-14 input.sk-hidden--visually {border: 0;clip: rect(1px 1px 1px 1px);clip: rect(1px, 1px, 1px, 1px);height: 1px;margin: -1px;overflow: hidden;padding: 0;position: absolute;width: 1px;}#sk-container-id-14 div.sk-estimator {font-family: monospace;background-color: #f0f8ff;border: 1px dotted black;border-radius: 0.25em;box-sizing: border-box;margin-bottom: 0.5em;}#sk-container-id-14 div.sk-estimator:hover {background-color: #d4ebff;}#sk-container-id-14 div.sk-parallel-item::after {content: \"\";width: 100%;border-bottom: 1px solid gray;flex-grow: 1;}#sk-container-id-14 div.sk-label:hover label.sk-toggleable__label {background-color: #d4ebff;}#sk-container-id-14 div.sk-serial::before {content: \"\";position: absolute;border-left: 1px solid gray;box-sizing: border-box;top: 0;bottom: 0;left: 50%;z-index: 0;}#sk-container-id-14 div.sk-serial {display: flex;flex-direction: column;align-items: center;background-color: white;padding-right: 0.2em;padding-left: 0.2em;position: relative;}#sk-container-id-14 div.sk-item {position: relative;z-index: 1;}#sk-container-id-14 div.sk-parallel {display: flex;align-items: stretch;justify-content: center;background-color: white;position: relative;}#sk-container-id-14 div.sk-item::before, #sk-container-id-14 div.sk-parallel-item::before {content: \"\";position: absolute;border-left: 1px solid gray;box-sizing: border-box;top: 0;bottom: 0;left: 50%;z-index: -1;}#sk-container-id-14 div.sk-parallel-item {display: flex;flex-direction: column;z-index: 1;position: relative;background-color: white;}#sk-container-id-14 div.sk-parallel-item:first-child::after {align-self: flex-end;width: 50%;}#sk-container-id-14 div.sk-parallel-item:last-child::after {align-self: flex-start;width: 50%;}#sk-container-id-14 div.sk-parallel-item:only-child::after {width: 0;}#sk-container-id-14 div.sk-dashed-wrapped {border: 1px dashed gray;margin: 0 0.4em 0.5em 0.4em;box-sizing: border-box;padding-bottom: 0.4em;background-color: white;}#sk-container-id-14 div.sk-label label {font-family: monospace;font-weight: bold;display: inline-block;line-height: 1.2em;}#sk-container-id-14 div.sk-label-container {text-align: center;}#sk-container-id-14 div.sk-container {/* jupyter's `normalize.less` sets `[hidden] { display: none; }` but bootstrap.min.css set `[hidden] { display: none !important; }` so we also need the `!important` here to be able to override the default hidden behavior on the sphinx rendered scikit-learn.org. See: https://github.com/scikit-learn/scikit-learn/issues/21755 */display: inline-block !important;position: relative;}#sk-container-id-14 div.sk-text-repr-fallback {display: none;}</style><div id=\"sk-container-id-14\" class=\"sk-top-container\"><div class=\"sk-text-repr-fallback\"><pre>KNeighborsClassifier()</pre><b>In a Jupyter environment, please rerun this cell to show the HTML representation or trust the notebook. <br />On GitHub, the HTML representation is unable to render, please try loading this page with nbviewer.org.</b></div><div class=\"sk-container\" hidden><div class=\"sk-item\"><div class=\"sk-estimator sk-toggleable\"><input class=\"sk-toggleable__control sk-hidden--visually\" id=\"sk-estimator-id-14\" type=\"checkbox\" checked><label for=\"sk-estimator-id-14\" class=\"sk-toggleable__label sk-toggleable__label-arrow\">KNeighborsClassifier</label><div class=\"sk-toggleable__content\"><pre>KNeighborsClassifier()</pre></div></div></div></div></div>"
      ],
      "text/plain": [
       "KNeighborsClassifier()"
      ]
     },
     "execution_count": 270,
     "metadata": {},
     "output_type": "execute_result"
    }
   ],
   "source": [
    "knn = KNeighborsClassifier(n_neighbors=5)\n",
    "knn.fit(X_train, Y_train)"
   ]
  },
  {
   "cell_type": "code",
   "execution_count": 271,
   "metadata": {},
   "outputs": [
    {
     "name": "stdout",
     "output_type": "stream",
     "text": [
      "KNN Accuracy: 90.18%\n"
     ]
    }
   ],
   "source": [
    "knn_accuracy = accuracy_score(new_Y_TEST,knn.predict(new_X_TEST))\n",
    "print(f\"KNN Accuracy: {knn_accuracy*100:.2f}%\")"
   ]
  },
  {
   "cell_type": "markdown",
   "metadata": {},
   "source": [
    "## <a id='toc5_2_'></a>[Gaussian Naive-Bayes](#toc0_)"
   ]
  },
  {
   "cell_type": "code",
   "execution_count": 272,
   "metadata": {},
   "outputs": [
    {
     "data": {
      "text/html": [
       "<style>#sk-container-id-15 {color: black;}#sk-container-id-15 pre{padding: 0;}#sk-container-id-15 div.sk-toggleable {background-color: white;}#sk-container-id-15 label.sk-toggleable__label {cursor: pointer;display: block;width: 100%;margin-bottom: 0;padding: 0.3em;box-sizing: border-box;text-align: center;}#sk-container-id-15 label.sk-toggleable__label-arrow:before {content: \"▸\";float: left;margin-right: 0.25em;color: #696969;}#sk-container-id-15 label.sk-toggleable__label-arrow:hover:before {color: black;}#sk-container-id-15 div.sk-estimator:hover label.sk-toggleable__label-arrow:before {color: black;}#sk-container-id-15 div.sk-toggleable__content {max-height: 0;max-width: 0;overflow: hidden;text-align: left;background-color: #f0f8ff;}#sk-container-id-15 div.sk-toggleable__content pre {margin: 0.2em;color: black;border-radius: 0.25em;background-color: #f0f8ff;}#sk-container-id-15 input.sk-toggleable__control:checked~div.sk-toggleable__content {max-height: 200px;max-width: 100%;overflow: auto;}#sk-container-id-15 input.sk-toggleable__control:checked~label.sk-toggleable__label-arrow:before {content: \"▾\";}#sk-container-id-15 div.sk-estimator input.sk-toggleable__control:checked~label.sk-toggleable__label {background-color: #d4ebff;}#sk-container-id-15 div.sk-label input.sk-toggleable__control:checked~label.sk-toggleable__label {background-color: #d4ebff;}#sk-container-id-15 input.sk-hidden--visually {border: 0;clip: rect(1px 1px 1px 1px);clip: rect(1px, 1px, 1px, 1px);height: 1px;margin: -1px;overflow: hidden;padding: 0;position: absolute;width: 1px;}#sk-container-id-15 div.sk-estimator {font-family: monospace;background-color: #f0f8ff;border: 1px dotted black;border-radius: 0.25em;box-sizing: border-box;margin-bottom: 0.5em;}#sk-container-id-15 div.sk-estimator:hover {background-color: #d4ebff;}#sk-container-id-15 div.sk-parallel-item::after {content: \"\";width: 100%;border-bottom: 1px solid gray;flex-grow: 1;}#sk-container-id-15 div.sk-label:hover label.sk-toggleable__label {background-color: #d4ebff;}#sk-container-id-15 div.sk-serial::before {content: \"\";position: absolute;border-left: 1px solid gray;box-sizing: border-box;top: 0;bottom: 0;left: 50%;z-index: 0;}#sk-container-id-15 div.sk-serial {display: flex;flex-direction: column;align-items: center;background-color: white;padding-right: 0.2em;padding-left: 0.2em;position: relative;}#sk-container-id-15 div.sk-item {position: relative;z-index: 1;}#sk-container-id-15 div.sk-parallel {display: flex;align-items: stretch;justify-content: center;background-color: white;position: relative;}#sk-container-id-15 div.sk-item::before, #sk-container-id-15 div.sk-parallel-item::before {content: \"\";position: absolute;border-left: 1px solid gray;box-sizing: border-box;top: 0;bottom: 0;left: 50%;z-index: -1;}#sk-container-id-15 div.sk-parallel-item {display: flex;flex-direction: column;z-index: 1;position: relative;background-color: white;}#sk-container-id-15 div.sk-parallel-item:first-child::after {align-self: flex-end;width: 50%;}#sk-container-id-15 div.sk-parallel-item:last-child::after {align-self: flex-start;width: 50%;}#sk-container-id-15 div.sk-parallel-item:only-child::after {width: 0;}#sk-container-id-15 div.sk-dashed-wrapped {border: 1px dashed gray;margin: 0 0.4em 0.5em 0.4em;box-sizing: border-box;padding-bottom: 0.4em;background-color: white;}#sk-container-id-15 div.sk-label label {font-family: monospace;font-weight: bold;display: inline-block;line-height: 1.2em;}#sk-container-id-15 div.sk-label-container {text-align: center;}#sk-container-id-15 div.sk-container {/* jupyter's `normalize.less` sets `[hidden] { display: none; }` but bootstrap.min.css set `[hidden] { display: none !important; }` so we also need the `!important` here to be able to override the default hidden behavior on the sphinx rendered scikit-learn.org. See: https://github.com/scikit-learn/scikit-learn/issues/21755 */display: inline-block !important;position: relative;}#sk-container-id-15 div.sk-text-repr-fallback {display: none;}</style><div id=\"sk-container-id-15\" class=\"sk-top-container\"><div class=\"sk-text-repr-fallback\"><pre>GaussianNB()</pre><b>In a Jupyter environment, please rerun this cell to show the HTML representation or trust the notebook. <br />On GitHub, the HTML representation is unable to render, please try loading this page with nbviewer.org.</b></div><div class=\"sk-container\" hidden><div class=\"sk-item\"><div class=\"sk-estimator sk-toggleable\"><input class=\"sk-toggleable__control sk-hidden--visually\" id=\"sk-estimator-id-15\" type=\"checkbox\" checked><label for=\"sk-estimator-id-15\" class=\"sk-toggleable__label sk-toggleable__label-arrow\">GaussianNB</label><div class=\"sk-toggleable__content\"><pre>GaussianNB()</pre></div></div></div></div></div>"
      ],
      "text/plain": [
       "GaussianNB()"
      ]
     },
     "execution_count": 272,
     "metadata": {},
     "output_type": "execute_result"
    }
   ],
   "source": [
    "gnb = GaussianNB()\n",
    "gnb.fit(X_train,Y_train)"
   ]
  },
  {
   "cell_type": "code",
   "execution_count": 273,
   "metadata": {},
   "outputs": [
    {
     "name": "stdout",
     "output_type": "stream",
     "text": [
      "Naive-Bayes Accuracy: 90.18%\n"
     ]
    }
   ],
   "source": [
    "gnb_accuracy = accuracy_score(new_Y_TEST, gnb.predict(new_X_TEST))\n",
    "print(f\"Naive-Bayes Accuracy: {gnb_accuracy*100:.2f}%\")"
   ]
  },
  {
   "cell_type": "markdown",
   "metadata": {},
   "source": [
    "## <a id='toc5_3_'></a>[Decision Tree](#toc0_)"
   ]
  },
  {
   "cell_type": "code",
   "execution_count": 274,
   "metadata": {},
   "outputs": [
    {
     "data": {
      "text/html": [
       "<style>#sk-container-id-16 {color: black;}#sk-container-id-16 pre{padding: 0;}#sk-container-id-16 div.sk-toggleable {background-color: white;}#sk-container-id-16 label.sk-toggleable__label {cursor: pointer;display: block;width: 100%;margin-bottom: 0;padding: 0.3em;box-sizing: border-box;text-align: center;}#sk-container-id-16 label.sk-toggleable__label-arrow:before {content: \"▸\";float: left;margin-right: 0.25em;color: #696969;}#sk-container-id-16 label.sk-toggleable__label-arrow:hover:before {color: black;}#sk-container-id-16 div.sk-estimator:hover label.sk-toggleable__label-arrow:before {color: black;}#sk-container-id-16 div.sk-toggleable__content {max-height: 0;max-width: 0;overflow: hidden;text-align: left;background-color: #f0f8ff;}#sk-container-id-16 div.sk-toggleable__content pre {margin: 0.2em;color: black;border-radius: 0.25em;background-color: #f0f8ff;}#sk-container-id-16 input.sk-toggleable__control:checked~div.sk-toggleable__content {max-height: 200px;max-width: 100%;overflow: auto;}#sk-container-id-16 input.sk-toggleable__control:checked~label.sk-toggleable__label-arrow:before {content: \"▾\";}#sk-container-id-16 div.sk-estimator input.sk-toggleable__control:checked~label.sk-toggleable__label {background-color: #d4ebff;}#sk-container-id-16 div.sk-label input.sk-toggleable__control:checked~label.sk-toggleable__label {background-color: #d4ebff;}#sk-container-id-16 input.sk-hidden--visually {border: 0;clip: rect(1px 1px 1px 1px);clip: rect(1px, 1px, 1px, 1px);height: 1px;margin: -1px;overflow: hidden;padding: 0;position: absolute;width: 1px;}#sk-container-id-16 div.sk-estimator {font-family: monospace;background-color: #f0f8ff;border: 1px dotted black;border-radius: 0.25em;box-sizing: border-box;margin-bottom: 0.5em;}#sk-container-id-16 div.sk-estimator:hover {background-color: #d4ebff;}#sk-container-id-16 div.sk-parallel-item::after {content: \"\";width: 100%;border-bottom: 1px solid gray;flex-grow: 1;}#sk-container-id-16 div.sk-label:hover label.sk-toggleable__label {background-color: #d4ebff;}#sk-container-id-16 div.sk-serial::before {content: \"\";position: absolute;border-left: 1px solid gray;box-sizing: border-box;top: 0;bottom: 0;left: 50%;z-index: 0;}#sk-container-id-16 div.sk-serial {display: flex;flex-direction: column;align-items: center;background-color: white;padding-right: 0.2em;padding-left: 0.2em;position: relative;}#sk-container-id-16 div.sk-item {position: relative;z-index: 1;}#sk-container-id-16 div.sk-parallel {display: flex;align-items: stretch;justify-content: center;background-color: white;position: relative;}#sk-container-id-16 div.sk-item::before, #sk-container-id-16 div.sk-parallel-item::before {content: \"\";position: absolute;border-left: 1px solid gray;box-sizing: border-box;top: 0;bottom: 0;left: 50%;z-index: -1;}#sk-container-id-16 div.sk-parallel-item {display: flex;flex-direction: column;z-index: 1;position: relative;background-color: white;}#sk-container-id-16 div.sk-parallel-item:first-child::after {align-self: flex-end;width: 50%;}#sk-container-id-16 div.sk-parallel-item:last-child::after {align-self: flex-start;width: 50%;}#sk-container-id-16 div.sk-parallel-item:only-child::after {width: 0;}#sk-container-id-16 div.sk-dashed-wrapped {border: 1px dashed gray;margin: 0 0.4em 0.5em 0.4em;box-sizing: border-box;padding-bottom: 0.4em;background-color: white;}#sk-container-id-16 div.sk-label label {font-family: monospace;font-weight: bold;display: inline-block;line-height: 1.2em;}#sk-container-id-16 div.sk-label-container {text-align: center;}#sk-container-id-16 div.sk-container {/* jupyter's `normalize.less` sets `[hidden] { display: none; }` but bootstrap.min.css set `[hidden] { display: none !important; }` so we also need the `!important` here to be able to override the default hidden behavior on the sphinx rendered scikit-learn.org. See: https://github.com/scikit-learn/scikit-learn/issues/21755 */display: inline-block !important;position: relative;}#sk-container-id-16 div.sk-text-repr-fallback {display: none;}</style><div id=\"sk-container-id-16\" class=\"sk-top-container\"><div class=\"sk-text-repr-fallback\"><pre>DecisionTreeClassifier()</pre><b>In a Jupyter environment, please rerun this cell to show the HTML representation or trust the notebook. <br />On GitHub, the HTML representation is unable to render, please try loading this page with nbviewer.org.</b></div><div class=\"sk-container\" hidden><div class=\"sk-item\"><div class=\"sk-estimator sk-toggleable\"><input class=\"sk-toggleable__control sk-hidden--visually\" id=\"sk-estimator-id-16\" type=\"checkbox\" checked><label for=\"sk-estimator-id-16\" class=\"sk-toggleable__label sk-toggleable__label-arrow\">DecisionTreeClassifier</label><div class=\"sk-toggleable__content\"><pre>DecisionTreeClassifier()</pre></div></div></div></div></div>"
      ],
      "text/plain": [
       "DecisionTreeClassifier()"
      ]
     },
     "execution_count": 274,
     "metadata": {},
     "output_type": "execute_result"
    }
   ],
   "source": [
    "dt = DecisionTreeClassifier()\n",
    "\n",
    "dt.fit(X_train,Y_train)"
   ]
  },
  {
   "cell_type": "code",
   "execution_count": 275,
   "metadata": {},
   "outputs": [
    {
     "name": "stdout",
     "output_type": "stream",
     "text": [
      "Decision Tree Accuracy: 90.18%\n"
     ]
    }
   ],
   "source": [
    "dt_accuracy = accuracy_score(new_Y_TEST, dt.predict(new_X_TEST))\n",
    "print(f\"Decision Tree Accuracy: {dt_accuracy*100:.2f}%\")"
   ]
  },
  {
   "cell_type": "markdown",
   "metadata": {},
   "source": [
    "## <a id='toc5_4_'></a>[Hybrid Model](#toc0_)"
   ]
  },
  {
   "cell_type": "code",
   "execution_count": 276,
   "metadata": {},
   "outputs": [],
   "source": [
    "train_x,test_x,train_y,test_y = train_test_split(X_train, Y_train, stratify=Y_train,test_size=0.4)"
   ]
  },
  {
   "cell_type": "code",
   "execution_count": 277,
   "metadata": {},
   "outputs": [],
   "source": [
    "knn.fit(train_x,train_y)\n",
    "y_val_knn = knn.predict(test_x)\n",
    "y_val_knn = pd.DataFrame(y_val_knn)\n",
    "y_test_knn = knn.predict(X_test)\n",
    "y_test_knn = pd.DataFrame(y_test_knn)\n",
    "\n",
    "y_val_knn.columns = ['Label_KNN']\n",
    "y_test_knn.columns = ['Label_KNN']\n"
   ]
  },
  {
   "cell_type": "code",
   "execution_count": 278,
   "metadata": {},
   "outputs": [],
   "source": [
    "gnb.fit(train_x,train_y)\n",
    "y_val_gnb = gnb.predict(test_x)\n",
    "y_val_gnb = pd.DataFrame(y_val_gnb)\n",
    "y_test_gnb = gnb.predict(X_test)\n",
    "y_test_gnb = pd.DataFrame(y_test_gnb)\n",
    "\n",
    "y_val_gnb.columns = ['Label_GNB']\n",
    "y_test_gnb.columns = ['Label_GNB']\n"
   ]
  },
  {
   "cell_type": "code",
   "execution_count": 279,
   "metadata": {},
   "outputs": [],
   "source": [
    "dt.fit(train_x,train_y)\n",
    "y_val_dt = dt.predict(test_x)\n",
    "y_val_dt = pd.DataFrame(y_val_dt)\n",
    "y_test_dt = dt.predict(X_test)\n",
    "y_test_dt = pd.DataFrame(y_test_dt)\n",
    "\n",
    "y_val_dt.columns = ['Label_DT']\n",
    "y_test_dt.columns = ['Label_DT']"
   ]
  },
  {
   "cell_type": "code",
   "execution_count": 280,
   "metadata": {},
   "outputs": [],
   "source": [
    "final_X_input = pd.concat([pd.DataFrame(test_x,columns=X.columns)], axis = 1)\n",
    "\n",
    "new_attr = pd.concat([pd.DataFrame(y_val_knn,columns=y_val_knn.columns)], axis = 1)\n",
    "new_attr.columns = ['LABEL']\n",
    "for i in range(len(y_val_knn)):\n",
    "    if (y_val_knn['Label_KNN'][i] == 'ddos' and y_val_gnb['Label_GNB'][i] =='ddos') or (y_val_dt['Label_DT'][i] == 'ddos' and y_val_gnb['Label_GNB'][i] =='ddos') or (y_val_knn['Label_KNN'][i] == 'ddos' and y_val_dt['Label_DT'][i] =='ddos'):\n",
    "        new_attr['LABEL'][i] = 'ddos'\n",
    "    else:\n",
    "        new_attr['LABEL'][i] = 'Benign'\n",
    "\n",
    "final_y_input = pd.concat([pd.DataFrame(new_attr, columns=new_attr.columns)], axis = 1)"
   ]
  },
  {
   "cell_type": "code",
   "execution_count": 281,
   "metadata": {},
   "outputs": [
    {
     "data": {
      "text/html": [
       "<style>#sk-container-id-17 {color: black;}#sk-container-id-17 pre{padding: 0;}#sk-container-id-17 div.sk-toggleable {background-color: white;}#sk-container-id-17 label.sk-toggleable__label {cursor: pointer;display: block;width: 100%;margin-bottom: 0;padding: 0.3em;box-sizing: border-box;text-align: center;}#sk-container-id-17 label.sk-toggleable__label-arrow:before {content: \"▸\";float: left;margin-right: 0.25em;color: #696969;}#sk-container-id-17 label.sk-toggleable__label-arrow:hover:before {color: black;}#sk-container-id-17 div.sk-estimator:hover label.sk-toggleable__label-arrow:before {color: black;}#sk-container-id-17 div.sk-toggleable__content {max-height: 0;max-width: 0;overflow: hidden;text-align: left;background-color: #f0f8ff;}#sk-container-id-17 div.sk-toggleable__content pre {margin: 0.2em;color: black;border-radius: 0.25em;background-color: #f0f8ff;}#sk-container-id-17 input.sk-toggleable__control:checked~div.sk-toggleable__content {max-height: 200px;max-width: 100%;overflow: auto;}#sk-container-id-17 input.sk-toggleable__control:checked~label.sk-toggleable__label-arrow:before {content: \"▾\";}#sk-container-id-17 div.sk-estimator input.sk-toggleable__control:checked~label.sk-toggleable__label {background-color: #d4ebff;}#sk-container-id-17 div.sk-label input.sk-toggleable__control:checked~label.sk-toggleable__label {background-color: #d4ebff;}#sk-container-id-17 input.sk-hidden--visually {border: 0;clip: rect(1px 1px 1px 1px);clip: rect(1px, 1px, 1px, 1px);height: 1px;margin: -1px;overflow: hidden;padding: 0;position: absolute;width: 1px;}#sk-container-id-17 div.sk-estimator {font-family: monospace;background-color: #f0f8ff;border: 1px dotted black;border-radius: 0.25em;box-sizing: border-box;margin-bottom: 0.5em;}#sk-container-id-17 div.sk-estimator:hover {background-color: #d4ebff;}#sk-container-id-17 div.sk-parallel-item::after {content: \"\";width: 100%;border-bottom: 1px solid gray;flex-grow: 1;}#sk-container-id-17 div.sk-label:hover label.sk-toggleable__label {background-color: #d4ebff;}#sk-container-id-17 div.sk-serial::before {content: \"\";position: absolute;border-left: 1px solid gray;box-sizing: border-box;top: 0;bottom: 0;left: 50%;z-index: 0;}#sk-container-id-17 div.sk-serial {display: flex;flex-direction: column;align-items: center;background-color: white;padding-right: 0.2em;padding-left: 0.2em;position: relative;}#sk-container-id-17 div.sk-item {position: relative;z-index: 1;}#sk-container-id-17 div.sk-parallel {display: flex;align-items: stretch;justify-content: center;background-color: white;position: relative;}#sk-container-id-17 div.sk-item::before, #sk-container-id-17 div.sk-parallel-item::before {content: \"\";position: absolute;border-left: 1px solid gray;box-sizing: border-box;top: 0;bottom: 0;left: 50%;z-index: -1;}#sk-container-id-17 div.sk-parallel-item {display: flex;flex-direction: column;z-index: 1;position: relative;background-color: white;}#sk-container-id-17 div.sk-parallel-item:first-child::after {align-self: flex-end;width: 50%;}#sk-container-id-17 div.sk-parallel-item:last-child::after {align-self: flex-start;width: 50%;}#sk-container-id-17 div.sk-parallel-item:only-child::after {width: 0;}#sk-container-id-17 div.sk-dashed-wrapped {border: 1px dashed gray;margin: 0 0.4em 0.5em 0.4em;box-sizing: border-box;padding-bottom: 0.4em;background-color: white;}#sk-container-id-17 div.sk-label label {font-family: monospace;font-weight: bold;display: inline-block;line-height: 1.2em;}#sk-container-id-17 div.sk-label-container {text-align: center;}#sk-container-id-17 div.sk-container {/* jupyter's `normalize.less` sets `[hidden] { display: none; }` but bootstrap.min.css set `[hidden] { display: none !important; }` so we also need the `!important` here to be able to override the default hidden behavior on the sphinx rendered scikit-learn.org. See: https://github.com/scikit-learn/scikit-learn/issues/21755 */display: inline-block !important;position: relative;}#sk-container-id-17 div.sk-text-repr-fallback {display: none;}</style><div id=\"sk-container-id-17\" class=\"sk-top-container\"><div class=\"sk-text-repr-fallback\"><pre>RandomForestClassifier(n_estimators=200)</pre><b>In a Jupyter environment, please rerun this cell to show the HTML representation or trust the notebook. <br />On GitHub, the HTML representation is unable to render, please try loading this page with nbviewer.org.</b></div><div class=\"sk-container\" hidden><div class=\"sk-item\"><div class=\"sk-estimator sk-toggleable\"><input class=\"sk-toggleable__control sk-hidden--visually\" id=\"sk-estimator-id-17\" type=\"checkbox\" checked><label for=\"sk-estimator-id-17\" class=\"sk-toggleable__label sk-toggleable__label-arrow\">RandomForestClassifier</label><div class=\"sk-toggleable__content\"><pre>RandomForestClassifier(n_estimators=200)</pre></div></div></div></div></div>"
      ],
      "text/plain": [
       "RandomForestClassifier(n_estimators=200)"
      ]
     },
     "execution_count": 281,
     "metadata": {},
     "output_type": "execute_result"
    }
   ],
   "source": [
    "rf = RandomForestClassifier(n_estimators=200)\n",
    "rf.fit(final_X_input,final_y_input.values.ravel())"
   ]
  },
  {
   "cell_type": "code",
   "execution_count": 282,
   "metadata": {},
   "outputs": [
    {
     "name": "stdout",
     "output_type": "stream",
     "text": [
      "Random Forest Accuracy: 90.18%\n"
     ]
    }
   ],
   "source": [
    "rf_accuracy = accuracy_score(new_Y_TEST, rf.predict(new_X_TEST))\n",
    "print(f\"Random Forest Accuracy: {rf_accuracy*100:.2f}%\")\n",
    "\n",
    "prediction = rf.predict(new_X_TEST)"
   ]
  },
  {
   "cell_type": "code",
   "execution_count": 283,
   "metadata": {},
   "outputs": [
    {
     "data": {
      "text/plain": [
       "(700000,)"
      ]
     },
     "execution_count": 283,
     "metadata": {},
     "output_type": "execute_result"
    }
   ],
   "source": [
    "new_Y_TEST.shape"
   ]
  },
  {
   "cell_type": "code",
   "execution_count": 284,
   "metadata": {},
   "outputs": [
    {
     "data": {
      "image/png": "[encoded data removed]",
      "text/plain": [
       "<Figure size 640x480 with 2 Axes>"
      ]
     },
     "metadata": {},
     "output_type": "display_data"
    }
   ],
   "source": [
    "confusion_matrix = metrics.confusion_matrix(new_Y_TEST, prediction,labels=rf.classes_)\n",
    "cm_display = metrics.ConfusionMatrixDisplay(confusion_matrix = confusion_matrix, display_labels = rf.classes_)\n",
    "cm_display.plot()\n",
    "plt.show()"
   ]
  },
  {
   "cell_type": "markdown",
   "metadata": {},
   "source": [
    "# <a id='toc7_'></a>[**MODEL SAVING**](#toc0_)"
   ]
  },
  {
   "cell_type": "code",
   "execution_count": null,
   "metadata": {},
   "outputs": [],
   "source": [
    "import pickle\n",
    "with open(\"Detect_DDoS.pickle\",'wb') as model:\n",
    "    pickle.dump(rf, model)"
   ]
  },
  {
   "cell_type": "code",
   "execution_count": null,
   "metadata": {},
   "outputs": [],
   "source": [
    "import json\n",
    "columns = {\n",
    "    'data columns' : [col.lower() for col in X.columns]\n",
    "}\n",
    "with open(\"columns.json\",\"w\") as cols_json:\n",
    "    cols_json.write(json.dumps(columns))"
   ]
  }
 ],
 "metadata": {
  "kernelspec": {
   "display_name": "Python 3",
   "language": "python",
   "name": "python3"
  },
  "language_info": {
   "codemirror_mode": {
    "name": "ipython",
    "version": 3
   },
   "file_extension": ".py",
   "mimetype": "text/x-python",
   "name": "python",
   "nbconvert_exporter": "python",
   "pygments_lexer": "ipython3",
   "version": "3.11.6"
  },
  "orig_nbformat": 4
 },
 "nbformat": 4,
 "nbformat_minor": 2
}
