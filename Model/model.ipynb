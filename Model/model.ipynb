{
 "cells": [
  {
   "cell_type": "markdown",
   "metadata": {},
   "source": [
    "**Table of contents**<a id='toc0_'></a>    \n",
    "- [**IMPORTS**](#toc1_)    \n",
    "- [**DATASET BUILDING**](#toc2_)    \n",
    "  - [Main Dataset](#toc2_1_)    \n",
    "  - [Test Dataset](#toc2_2_)    \n",
    "- [**DATA PREPROCESSING**](#toc3_)    \n",
    "- [**GENERATING TRAINING AND TESTING DATASET**](#toc4_)    \n",
    "- [**MODEL BUILDING**](#toc5_)    \n",
    "  - [KNN Classifier](#toc5_1_)    \n",
    "  - [Gaussian Naive-Bayes](#toc5_2_)    \n",
    "  - [Decision Tree](#toc5_3_)    \n",
    "  - [Hybrid Model](#toc5_4_)    \n",
    "- [**VISUALISATION**](#toc6_)    \n",
    "  - [Scatter Graph](#toc6_1_)    \n",
    "  - [HEATMAP](#toc6_2_)    \n",
    "- [**MODEL SAVING**](#toc7_)    \n",
    "\n",
    "<!-- vscode-jupyter-toc-config\n",
    "\tnumbering=false\n",
    "\tanchor=true\n",
    "\tflat=false\n",
    "\tminLevel=1\n",
    "\tmaxLevel=6\n",
    "\t/vscode-jupyter-toc-config -->\n",
    "<!-- THIS CELL WILL BE REPLACED ON TOC UPDATE. DO NOT WRITE YOUR TEXT IN THIS CELL -->"
   ]
  },
  {
   "cell_type": "markdown",
   "metadata": {},
   "source": [
    "# <a id='toc1_'></a>[**IMPORTS**](#toc0_)"
   ]
  },
  {
   "cell_type": "code",
   "execution_count": 55,
   "metadata": {},
   "outputs": [
    {
     "data": {
      "text/plain": [
       "True"
      ]
     },
     "execution_count": 55,
     "metadata": {},
     "output_type": "execute_result"
    }
   ],
   "source": [
    "import pandas as pd\n",
    "import numpy as np\n",
    "import seaborn as sns\n",
    "from sklearn.model_selection import train_test_split\n",
    "from sklearn.model_selection import cross_val_score\n",
    "from sklearn.model_selection import ShuffleSplit\n",
    "from sklearn.preprocessing import LabelEncoder\n",
    "from sklearn.svm import SVC\n",
    "from sklearn.naive_bayes import GaussianNB\n",
    "from sklearn.metrics import accuracy_score\n",
    "from sklearn.tree import DecisionTreeClassifier\n",
    "from sklearn.neighbors import KNeighborsClassifier\n",
    "from sklearn.ensemble import RandomForestClassifier\n",
    "from matplotlib import pyplot as plt\n",
    "from dotenv import load_dotenv\n",
    "import os\n",
    "load_dotenv()"
   ]
  },
  {
   "cell_type": "markdown",
   "metadata": {},
   "source": [
    "# <a id='toc2_'></a>[**DATASET BUILDING**](#toc0_)"
   ]
  },
  {
   "cell_type": "markdown",
   "metadata": {},
   "source": [
    "## <a id='toc2_1_'></a>[Main Dataset](#toc0_)"
   ]
  },
  {
   "cell_type": "code",
   "execution_count": 56,
   "metadata": {},
   "outputs": [],
   "source": [
    "n_random_rows = 700000\n",
    "\n",
    "header = pd.read_csv(os.getenv('BALANCED_DATASET_LOCATION'), nrows=1)\n",
    "\n",
    "dataset = pd.read_csv(os.getenv('BALANCED_DATASET_LOCATION'), nrows=n_random_rows, skiprows=6100000, header=None)\n",
    "\n",
    "dataset.columns = header.columns"
   ]
  },
  {
   "cell_type": "markdown",
   "metadata": {},
   "source": [
    "## <a id='toc2_2_'></a>[Test Dataset](#toc0_)"
   ]
  },
  {
   "cell_type": "code",
   "execution_count": null,
   "metadata": {},
   "outputs": [],
   "source": [
    "n_random_rows = 700000\n",
    "\n",
    "test_header = pd.read_csv(os.getenv('IMBALANCED_DATASET_LOCATION'), nrows=1)\n",
    "\n",
    "testset = pd.read_csv(os.getenv('IMBALANCED_DATASET_LOCATION'), nrows=n_random_rows, skiprows=1200000, header=None)\n",
    "\n",
    "testset.columns = test_header.columns"
   ]
  },
  {
   "cell_type": "markdown",
   "metadata": {},
   "source": [
    "# <a id='toc3_'></a>[**DATA PREPROCESSING**](#toc0_)"
   ]
  },
  {
   "cell_type": "code",
   "execution_count": 14,
   "metadata": {},
   "outputs": [
    {
     "data": {
      "text/html": [
       "<div>\n",
       "<style scoped>\n",
       "    .dataframe tbody tr th:only-of-type {\n",
       "        vertical-align: middle;\n",
       "    }\n",
       "\n",
       "    .dataframe tbody tr th {\n",
       "        vertical-align: top;\n",
       "    }\n",
       "\n",
       "    .dataframe thead th {\n",
       "        text-align: right;\n",
       "    }\n",
       "</style>\n",
       "<table border=\"1\" class=\"dataframe\">\n",
       "  <thead>\n",
       "    <tr style=\"text-align: right;\">\n",
       "      <th></th>\n",
       "      <th>Unnamed: 0</th>\n",
       "      <th>Flow ID</th>\n",
       "      <th>Src IP</th>\n",
       "      <th>Src Port</th>\n",
       "      <th>Dst IP</th>\n",
       "      <th>Dst Port</th>\n",
       "      <th>Protocol</th>\n",
       "      <th>Timestamp</th>\n",
       "      <th>Flow Duration</th>\n",
       "      <th>Tot Fwd Pkts</th>\n",
       "      <th>...</th>\n",
       "      <th>Fwd Seg Size Min</th>\n",
       "      <th>Active Mean</th>\n",
       "      <th>Active Std</th>\n",
       "      <th>Active Max</th>\n",
       "      <th>Active Min</th>\n",
       "      <th>Idle Mean</th>\n",
       "      <th>Idle Std</th>\n",
       "      <th>Idle Max</th>\n",
       "      <th>Idle Min</th>\n",
       "      <th>Label</th>\n",
       "    </tr>\n",
       "  </thead>\n",
       "  <tbody>\n",
       "    <tr>\n",
       "      <th>0</th>\n",
       "      <td>3249334</td>\n",
       "      <td>172.31.69.25-18.219.193.20-80-44276-6</td>\n",
       "      <td>172.31.69.25</td>\n",
       "      <td>80</td>\n",
       "      <td>18.219.193.20</td>\n",
       "      <td>44276</td>\n",
       "      <td>6</td>\n",
       "      <td>16/02/2018 11:25:34 PM</td>\n",
       "      <td>4537203</td>\n",
       "      <td>4</td>\n",
       "      <td>...</td>\n",
       "      <td>0</td>\n",
       "      <td>0.0</td>\n",
       "      <td>0.0</td>\n",
       "      <td>0.0</td>\n",
       "      <td>0.0</td>\n",
       "      <td>0.0</td>\n",
       "      <td>0.0</td>\n",
       "      <td>0.0</td>\n",
       "      <td>0.0</td>\n",
       "      <td>ddos</td>\n",
       "    </tr>\n",
       "    <tr>\n",
       "      <th>1</th>\n",
       "      <td>3249335</td>\n",
       "      <td>172.31.69.25-18.219.193.20-80-44226-6</td>\n",
       "      <td>172.31.69.25</td>\n",
       "      <td>80</td>\n",
       "      <td>18.219.193.20</td>\n",
       "      <td>44226</td>\n",
       "      <td>6</td>\n",
       "      <td>16/02/2018 11:25:34 PM</td>\n",
       "      <td>4491980</td>\n",
       "      <td>4</td>\n",
       "      <td>...</td>\n",
       "      <td>0</td>\n",
       "      <td>0.0</td>\n",
       "      <td>0.0</td>\n",
       "      <td>0.0</td>\n",
       "      <td>0.0</td>\n",
       "      <td>0.0</td>\n",
       "      <td>0.0</td>\n",
       "      <td>0.0</td>\n",
       "      <td>0.0</td>\n",
       "      <td>ddos</td>\n",
       "    </tr>\n",
       "    <tr>\n",
       "      <th>2</th>\n",
       "      <td>3249336</td>\n",
       "      <td>172.31.69.25-18.219.193.20-80-44108-6</td>\n",
       "      <td>172.31.69.25</td>\n",
       "      <td>80</td>\n",
       "      <td>18.219.193.20</td>\n",
       "      <td>44108</td>\n",
       "      <td>6</td>\n",
       "      <td>16/02/2018 11:25:34 PM</td>\n",
       "      <td>4580114</td>\n",
       "      <td>4</td>\n",
       "      <td>...</td>\n",
       "      <td>0</td>\n",
       "      <td>0.0</td>\n",
       "      <td>0.0</td>\n",
       "      <td>0.0</td>\n",
       "      <td>0.0</td>\n",
       "      <td>0.0</td>\n",
       "      <td>0.0</td>\n",
       "      <td>0.0</td>\n",
       "      <td>0.0</td>\n",
       "      <td>ddos</td>\n",
       "    </tr>\n",
       "    <tr>\n",
       "      <th>3</th>\n",
       "      <td>3249337</td>\n",
       "      <td>172.31.69.25-18.219.193.20-80-44278-6</td>\n",
       "      <td>172.31.69.25</td>\n",
       "      <td>80</td>\n",
       "      <td>18.219.193.20</td>\n",
       "      <td>44278</td>\n",
       "      <td>6</td>\n",
       "      <td>16/02/2018 11:25:34 PM</td>\n",
       "      <td>4539484</td>\n",
       "      <td>4</td>\n",
       "      <td>...</td>\n",
       "      <td>0</td>\n",
       "      <td>0.0</td>\n",
       "      <td>0.0</td>\n",
       "      <td>0.0</td>\n",
       "      <td>0.0</td>\n",
       "      <td>0.0</td>\n",
       "      <td>0.0</td>\n",
       "      <td>0.0</td>\n",
       "      <td>0.0</td>\n",
       "      <td>ddos</td>\n",
       "    </tr>\n",
       "    <tr>\n",
       "      <th>4</th>\n",
       "      <td>3249338</td>\n",
       "      <td>172.31.69.25-18.219.193.20-80-44288-6</td>\n",
       "      <td>172.31.69.25</td>\n",
       "      <td>80</td>\n",
       "      <td>18.219.193.20</td>\n",
       "      <td>44288</td>\n",
       "      <td>6</td>\n",
       "      <td>16/02/2018 11:25:34 PM</td>\n",
       "      <td>4275551</td>\n",
       "      <td>4</td>\n",
       "      <td>...</td>\n",
       "      <td>0</td>\n",
       "      <td>0.0</td>\n",
       "      <td>0.0</td>\n",
       "      <td>0.0</td>\n",
       "      <td>0.0</td>\n",
       "      <td>0.0</td>\n",
       "      <td>0.0</td>\n",
       "      <td>0.0</td>\n",
       "      <td>0.0</td>\n",
       "      <td>ddos</td>\n",
       "    </tr>\n",
       "  </tbody>\n",
       "</table>\n",
       "<p>5 rows × 85 columns</p>\n",
       "</div>"
      ],
      "text/plain": [
       "   Unnamed: 0                                Flow ID        Src IP  Src Port   \n",
       "0     3249334  172.31.69.25-18.219.193.20-80-44276-6  172.31.69.25        80  \\\n",
       "1     3249335  172.31.69.25-18.219.193.20-80-44226-6  172.31.69.25        80   \n",
       "2     3249336  172.31.69.25-18.219.193.20-80-44108-6  172.31.69.25        80   \n",
       "3     3249337  172.31.69.25-18.219.193.20-80-44278-6  172.31.69.25        80   \n",
       "4     3249338  172.31.69.25-18.219.193.20-80-44288-6  172.31.69.25        80   \n",
       "\n",
       "          Dst IP  Dst Port  Protocol               Timestamp  Flow Duration   \n",
       "0  18.219.193.20     44276         6  16/02/2018 11:25:34 PM        4537203  \\\n",
       "1  18.219.193.20     44226         6  16/02/2018 11:25:34 PM        4491980   \n",
       "2  18.219.193.20     44108         6  16/02/2018 11:25:34 PM        4580114   \n",
       "3  18.219.193.20     44278         6  16/02/2018 11:25:34 PM        4539484   \n",
       "4  18.219.193.20     44288         6  16/02/2018 11:25:34 PM        4275551   \n",
       "\n",
       "   Tot Fwd Pkts  ...  Fwd Seg Size Min  Active Mean  Active Std  Active Max   \n",
       "0             4  ...                 0          0.0         0.0         0.0  \\\n",
       "1             4  ...                 0          0.0         0.0         0.0   \n",
       "2             4  ...                 0          0.0         0.0         0.0   \n",
       "3             4  ...                 0          0.0         0.0         0.0   \n",
       "4             4  ...                 0          0.0         0.0         0.0   \n",
       "\n",
       "   Active Min  Idle Mean  Idle Std  Idle Max  Idle Min  Label  \n",
       "0         0.0        0.0       0.0       0.0       0.0   ddos  \n",
       "1         0.0        0.0       0.0       0.0       0.0   ddos  \n",
       "2         0.0        0.0       0.0       0.0       0.0   ddos  \n",
       "3         0.0        0.0       0.0       0.0       0.0   ddos  \n",
       "4         0.0        0.0       0.0       0.0       0.0   ddos  \n",
       "\n",
       "[5 rows x 85 columns]"
      ]
     },
     "execution_count": 14,
     "metadata": {},
     "output_type": "execute_result"
    }
   ],
   "source": [
    "dataset.head()"
   ]
  },
  {
   "cell_type": "code",
   "execution_count": 15,
   "metadata": {},
   "outputs": [
    {
     "name": "stdout",
     "output_type": "stream",
     "text": [
      "<class 'pandas.core.frame.DataFrame'>\n",
      "RangeIndex: 700000 entries, 0 to 699999\n",
      "Data columns (total 85 columns):\n",
      " #   Column             Non-Null Count   Dtype  \n",
      "---  ------             --------------   -----  \n",
      " 0   Unnamed: 0         700000 non-null  int64  \n",
      " 1   Flow ID            700000 non-null  object \n",
      " 2   Src IP             700000 non-null  object \n",
      " 3   Src Port           700000 non-null  int64  \n",
      " 4   Dst IP             700000 non-null  object \n",
      " 5   Dst Port           700000 non-null  int64  \n",
      " 6   Protocol           700000 non-null  int64  \n",
      " 7   Timestamp          700000 non-null  object \n",
      " 8   Flow Duration      700000 non-null  int64  \n",
      " 9   Tot Fwd Pkts       700000 non-null  int64  \n",
      " 10  Tot Bwd Pkts       700000 non-null  int64  \n",
      " 11  TotLen Fwd Pkts    700000 non-null  float64\n",
      " 12  TotLen Bwd Pkts    700000 non-null  float64\n",
      " 13  Fwd Pkt Len Max    700000 non-null  float64\n",
      " 14  Fwd Pkt Len Min    700000 non-null  float64\n",
      " 15  Fwd Pkt Len Mean   700000 non-null  float64\n",
      " 16  Fwd Pkt Len Std    700000 non-null  float64\n",
      " 17  Bwd Pkt Len Max    700000 non-null  float64\n",
      " 18  Bwd Pkt Len Min    700000 non-null  float64\n",
      " 19  Bwd Pkt Len Mean   700000 non-null  float64\n",
      " 20  Bwd Pkt Len Std    700000 non-null  float64\n",
      " 21  Flow Byts/s        698426 non-null  float64\n",
      " 22  Flow Pkts/s        700000 non-null  float64\n",
      " 23  Flow IAT Mean      700000 non-null  float64\n",
      " 24  Flow IAT Std       700000 non-null  float64\n",
      " 25  Flow IAT Max       700000 non-null  float64\n",
      " 26  Flow IAT Min       700000 non-null  float64\n",
      " 27  Fwd IAT Tot        700000 non-null  float64\n",
      " 28  Fwd IAT Mean       700000 non-null  float64\n",
      " 29  Fwd IAT Std        700000 non-null  float64\n",
      " 30  Fwd IAT Max        700000 non-null  float64\n",
      " 31  Fwd IAT Min        700000 non-null  float64\n",
      " 32  Bwd IAT Tot        700000 non-null  float64\n",
      " 33  Bwd IAT Mean       700000 non-null  float64\n",
      " 34  Bwd IAT Std        700000 non-null  float64\n",
      " 35  Bwd IAT Max        700000 non-null  float64\n",
      " 36  Bwd IAT Min        700000 non-null  float64\n",
      " 37  Fwd PSH Flags      700000 non-null  int64  \n",
      " 38  Bwd PSH Flags      700000 non-null  int64  \n",
      " 39  Fwd URG Flags      700000 non-null  int64  \n",
      " 40  Bwd URG Flags      700000 non-null  int64  \n",
      " 41  Fwd Header Len     700000 non-null  int64  \n",
      " 42  Bwd Header Len     700000 non-null  int64  \n",
      " 43  Fwd Pkts/s         700000 non-null  float64\n",
      " 44  Bwd Pkts/s         700000 non-null  float64\n",
      " 45  Pkt Len Min        700000 non-null  float64\n",
      " 46  Pkt Len Max        700000 non-null  float64\n",
      " 47  Pkt Len Mean       700000 non-null  float64\n",
      " 48  Pkt Len Std        700000 non-null  float64\n",
      " 49  Pkt Len Var        700000 non-null  float64\n",
      " 50  FIN Flag Cnt       700000 non-null  int64  \n",
      " 51  SYN Flag Cnt       700000 non-null  int64  \n",
      " 52  RST Flag Cnt       700000 non-null  int64  \n",
      " 53  PSH Flag Cnt       700000 non-null  int64  \n",
      " 54  ACK Flag Cnt       700000 non-null  int64  \n",
      " 55  URG Flag Cnt       700000 non-null  int64  \n",
      " 56  CWE Flag Count     700000 non-null  int64  \n",
      " 57  ECE Flag Cnt       700000 non-null  int64  \n",
      " 58  Down/Up Ratio      700000 non-null  float64\n",
      " 59  Pkt Size Avg       700000 non-null  float64\n",
      " 60  Fwd Seg Size Avg   700000 non-null  float64\n",
      " 61  Bwd Seg Size Avg   700000 non-null  float64\n",
      " 62  Fwd Byts/b Avg     700000 non-null  int64  \n",
      " 63  Fwd Pkts/b Avg     700000 non-null  int64  \n",
      " 64  Fwd Blk Rate Avg   700000 non-null  int64  \n",
      " 65  Bwd Byts/b Avg     700000 non-null  int64  \n",
      " 66  Bwd Pkts/b Avg     700000 non-null  int64  \n",
      " 67  Bwd Blk Rate Avg   700000 non-null  int64  \n",
      " 68  Subflow Fwd Pkts   700000 non-null  int64  \n",
      " 69  Subflow Fwd Byts   700000 non-null  int64  \n",
      " 70  Subflow Bwd Pkts   700000 non-null  int64  \n",
      " 71  Subflow Bwd Byts   700000 non-null  int64  \n",
      " 72  Init Fwd Win Byts  700000 non-null  int64  \n",
      " 73  Init Bwd Win Byts  700000 non-null  int64  \n",
      " 74  Fwd Act Data Pkts  700000 non-null  int64  \n",
      " 75  Fwd Seg Size Min   700000 non-null  int64  \n",
      " 76  Active Mean        700000 non-null  float64\n",
      " 77  Active Std         700000 non-null  float64\n",
      " 78  Active Max         700000 non-null  float64\n",
      " 79  Active Min         700000 non-null  float64\n",
      " 80  Idle Mean          700000 non-null  float64\n",
      " 81  Idle Std           700000 non-null  float64\n",
      " 82  Idle Max           700000 non-null  float64\n",
      " 83  Idle Min           700000 non-null  float64\n",
      " 84  Label              700000 non-null  object \n",
      "dtypes: float64(45), int64(35), object(5)\n",
      "memory usage: 453.9+ MB\n"
     ]
    }
   ],
   "source": [
    "dataset.info()"
   ]
  },
  {
   "cell_type": "code",
   "execution_count": 16,
   "metadata": {},
   "outputs": [
    {
     "data": {
      "text/plain": [
       "Index(['Unnamed: 0', 'Flow ID', 'Src IP', 'Src Port', 'Dst IP', 'Dst Port',\n",
       "       'Protocol', 'Timestamp', 'Flow Duration', 'Tot Fwd Pkts',\n",
       "       'Tot Bwd Pkts', 'TotLen Fwd Pkts', 'TotLen Bwd Pkts', 'Fwd Pkt Len Max',\n",
       "       'Fwd Pkt Len Min', 'Fwd Pkt Len Mean', 'Fwd Pkt Len Std',\n",
       "       'Bwd Pkt Len Max', 'Bwd Pkt Len Min', 'Bwd Pkt Len Mean',\n",
       "       'Bwd Pkt Len Std', 'Flow Byts/s', 'Flow Pkts/s', 'Flow IAT Mean',\n",
       "       'Flow IAT Std', 'Flow IAT Max', 'Flow IAT Min', 'Fwd IAT Tot',\n",
       "       'Fwd IAT Mean', 'Fwd IAT Std', 'Fwd IAT Max', 'Fwd IAT Min',\n",
       "       'Bwd IAT Tot', 'Bwd IAT Mean', 'Bwd IAT Std', 'Bwd IAT Max',\n",
       "       'Bwd IAT Min', 'Fwd PSH Flags', 'Bwd PSH Flags', 'Fwd URG Flags',\n",
       "       'Bwd URG Flags', 'Fwd Header Len', 'Bwd Header Len', 'Fwd Pkts/s',\n",
       "       'Bwd Pkts/s', 'Pkt Len Min', 'Pkt Len Max', 'Pkt Len Mean',\n",
       "       'Pkt Len Std', 'Pkt Len Var', 'FIN Flag Cnt', 'SYN Flag Cnt',\n",
       "       'RST Flag Cnt', 'PSH Flag Cnt', 'ACK Flag Cnt', 'URG Flag Cnt',\n",
       "       'CWE Flag Count', 'ECE Flag Cnt', 'Down/Up Ratio', 'Pkt Size Avg',\n",
       "       'Fwd Seg Size Avg', 'Bwd Seg Size Avg', 'Fwd Byts/b Avg',\n",
       "       'Fwd Pkts/b Avg', 'Fwd Blk Rate Avg', 'Bwd Byts/b Avg',\n",
       "       'Bwd Pkts/b Avg', 'Bwd Blk Rate Avg', 'Subflow Fwd Pkts',\n",
       "       'Subflow Fwd Byts', 'Subflow Bwd Pkts', 'Subflow Bwd Byts',\n",
       "       'Init Fwd Win Byts', 'Init Bwd Win Byts', 'Fwd Act Data Pkts',\n",
       "       'Fwd Seg Size Min', 'Active Mean', 'Active Std', 'Active Max',\n",
       "       'Active Min', 'Idle Mean', 'Idle Std', 'Idle Max', 'Idle Min', 'Label'],\n",
       "      dtype='object')"
      ]
     },
     "execution_count": 16,
     "metadata": {},
     "output_type": "execute_result"
    }
   ],
   "source": [
    "dataset.columns"
   ]
  },
  {
   "cell_type": "code",
   "execution_count": 17,
   "metadata": {},
   "outputs": [
    {
     "name": "stdout",
     "output_type": "stream",
     "text": [
      "<class 'pandas.core.frame.DataFrame'>\n",
      "RangeIndex: 700000 entries, 0 to 699999\n",
      "Data columns (total 10 columns):\n",
      " #   Column             Non-Null Count   Dtype  \n",
      "---  ------             --------------   -----  \n",
      " 0   Flow ID            700000 non-null  object \n",
      " 1   Timestamp          700000 non-null  object \n",
      " 2   Fwd Seg Size Min   700000 non-null  int64  \n",
      " 3   Src IP             700000 non-null  object \n",
      " 4   Dst IP             700000 non-null  object \n",
      " 5   Flow IAT Min       700000 non-null  float64\n",
      " 6   Src Port           700000 non-null  int64  \n",
      " 7   Tot Fwd Pkts       700000 non-null  int64  \n",
      " 8   Init Bwd Win Byts  700000 non-null  int64  \n",
      " 9   Label              700000 non-null  object \n",
      "dtypes: float64(1), int64(4), object(5)\n",
      "memory usage: 53.4+ MB\n"
     ]
    }
   ],
   "source": [
    "attrs = ['Flow ID','Timestamp','Fwd Seg Size Min','Src IP','Dst IP','Flow IAT Min','Src Port','Tot Fwd Pkts','Init Bwd Win Byts','Label']\n",
    "dataset = dataset[attrs]\n",
    "testset = testset[attrs]\n",
    "dataset.info()"
   ]
  },
  {
   "cell_type": "code",
   "execution_count": 18,
   "metadata": {},
   "outputs": [
    {
     "data": {
      "text/html": [
       "<div>\n",
       "<style scoped>\n",
       "    .dataframe tbody tr th:only-of-type {\n",
       "        vertical-align: middle;\n",
       "    }\n",
       "\n",
       "    .dataframe tbody tr th {\n",
       "        vertical-align: top;\n",
       "    }\n",
       "\n",
       "    .dataframe thead th {\n",
       "        text-align: right;\n",
       "    }\n",
       "</style>\n",
       "<table border=\"1\" class=\"dataframe\">\n",
       "  <thead>\n",
       "    <tr style=\"text-align: right;\">\n",
       "      <th></th>\n",
       "      <th>Flow ID</th>\n",
       "      <th>Timestamp</th>\n",
       "      <th>Fwd Seg Size Min</th>\n",
       "      <th>Src IP</th>\n",
       "      <th>Dst IP</th>\n",
       "      <th>Flow IAT Min</th>\n",
       "      <th>Src Port</th>\n",
       "      <th>Tot Fwd Pkts</th>\n",
       "      <th>Init Bwd Win Byts</th>\n",
       "      <th>Label</th>\n",
       "    </tr>\n",
       "  </thead>\n",
       "  <tbody>\n",
       "    <tr>\n",
       "      <th>0</th>\n",
       "      <td>172.31.69.25-18.219.193.20-80-44276-6</td>\n",
       "      <td>16/02/2018 11:25:34 PM</td>\n",
       "      <td>0</td>\n",
       "      <td>172.31.69.25</td>\n",
       "      <td>18.219.193.20</td>\n",
       "      <td>4.0</td>\n",
       "      <td>80</td>\n",
       "      <td>4</td>\n",
       "      <td>211</td>\n",
       "      <td>ddos</td>\n",
       "    </tr>\n",
       "    <tr>\n",
       "      <th>1</th>\n",
       "      <td>172.31.69.25-18.219.193.20-80-44226-6</td>\n",
       "      <td>16/02/2018 11:25:34 PM</td>\n",
       "      <td>0</td>\n",
       "      <td>172.31.69.25</td>\n",
       "      <td>18.219.193.20</td>\n",
       "      <td>6.0</td>\n",
       "      <td>80</td>\n",
       "      <td>4</td>\n",
       "      <td>211</td>\n",
       "      <td>ddos</td>\n",
       "    </tr>\n",
       "    <tr>\n",
       "      <th>2</th>\n",
       "      <td>172.31.69.25-18.219.193.20-80-44108-6</td>\n",
       "      <td>16/02/2018 11:25:34 PM</td>\n",
       "      <td>0</td>\n",
       "      <td>172.31.69.25</td>\n",
       "      <td>18.219.193.20</td>\n",
       "      <td>6.0</td>\n",
       "      <td>80</td>\n",
       "      <td>4</td>\n",
       "      <td>211</td>\n",
       "      <td>ddos</td>\n",
       "    </tr>\n",
       "    <tr>\n",
       "      <th>3</th>\n",
       "      <td>172.31.69.25-18.219.193.20-80-44278-6</td>\n",
       "      <td>16/02/2018 11:25:34 PM</td>\n",
       "      <td>0</td>\n",
       "      <td>172.31.69.25</td>\n",
       "      <td>18.219.193.20</td>\n",
       "      <td>3.0</td>\n",
       "      <td>80</td>\n",
       "      <td>4</td>\n",
       "      <td>211</td>\n",
       "      <td>ddos</td>\n",
       "    </tr>\n",
       "    <tr>\n",
       "      <th>4</th>\n",
       "      <td>172.31.69.25-18.219.193.20-80-44288-6</td>\n",
       "      <td>16/02/2018 11:25:34 PM</td>\n",
       "      <td>0</td>\n",
       "      <td>172.31.69.25</td>\n",
       "      <td>18.219.193.20</td>\n",
       "      <td>4.0</td>\n",
       "      <td>80</td>\n",
       "      <td>4</td>\n",
       "      <td>211</td>\n",
       "      <td>ddos</td>\n",
       "    </tr>\n",
       "  </tbody>\n",
       "</table>\n",
       "</div>"
      ],
      "text/plain": [
       "                                 Flow ID               Timestamp   \n",
       "0  172.31.69.25-18.219.193.20-80-44276-6  16/02/2018 11:25:34 PM  \\\n",
       "1  172.31.69.25-18.219.193.20-80-44226-6  16/02/2018 11:25:34 PM   \n",
       "2  172.31.69.25-18.219.193.20-80-44108-6  16/02/2018 11:25:34 PM   \n",
       "3  172.31.69.25-18.219.193.20-80-44278-6  16/02/2018 11:25:34 PM   \n",
       "4  172.31.69.25-18.219.193.20-80-44288-6  16/02/2018 11:25:34 PM   \n",
       "\n",
       "   Fwd Seg Size Min        Src IP         Dst IP  Flow IAT Min  Src Port   \n",
       "0                 0  172.31.69.25  18.219.193.20           4.0        80  \\\n",
       "1                 0  172.31.69.25  18.219.193.20           6.0        80   \n",
       "2                 0  172.31.69.25  18.219.193.20           6.0        80   \n",
       "3                 0  172.31.69.25  18.219.193.20           3.0        80   \n",
       "4                 0  172.31.69.25  18.219.193.20           4.0        80   \n",
       "\n",
       "   Tot Fwd Pkts  Init Bwd Win Byts Label  \n",
       "0             4                211  ddos  \n",
       "1             4                211  ddos  \n",
       "2             4                211  ddos  \n",
       "3             4                211  ddos  \n",
       "4             4                211  ddos  "
      ]
     },
     "execution_count": 18,
     "metadata": {},
     "output_type": "execute_result"
    }
   ],
   "source": [
    "dataset.head()"
   ]
  },
  {
   "cell_type": "code",
   "execution_count": 19,
   "metadata": {},
   "outputs": [
    {
     "data": {
      "text/plain": [
       "Label\n",
       "ddos      372648\n",
       "Benign    327352\n",
       "Name: count, dtype: int64"
      ]
     },
     "execution_count": 19,
     "metadata": {},
     "output_type": "execute_result"
    }
   ],
   "source": [
    "dataset['Label'].value_counts()"
   ]
  },
  {
   "cell_type": "code",
   "execution_count": 20,
   "metadata": {},
   "outputs": [
    {
     "data": {
      "text/plain": [
       "Label\n",
       "Benign    605470\n",
       "ddos       94530\n",
       "Name: count, dtype: int64"
      ]
     },
     "execution_count": 20,
     "metadata": {},
     "output_type": "execute_result"
    }
   ],
   "source": [
    "testset['Label'].value_counts()"
   ]
  },
  {
   "cell_type": "code",
   "execution_count": 21,
   "metadata": {},
   "outputs": [
    {
     "data": {
      "image/png": "[encoded data removed]",
      "text/plain": [
       "<Figure size 640x480 with 1 Axes>"
      ]
     },
     "metadata": {},
     "output_type": "display_data"
    }
   ],
   "source": [
    "label = 'ddos','Benign'\n",
    "sizes = [len(dataset[dataset[\"Label\"]==\"ddos\"]),len(dataset[dataset[\"Label\"]==\"Benign\"])]\n",
    "plt.pie(sizes,labels=label,colors=['blue','red'],autopct='%1.1f%%')\n",
    "plt.axis('equal')\n",
    "plt.show()"
   ]
  },
  {
   "cell_type": "code",
   "execution_count": 23,
   "metadata": {},
   "outputs": [
    {
     "data": {
      "image/png": "[encoded data removed]",
      "text/plain": [
       "<Figure size 640x480 with 1 Axes>"
      ]
     },
     "metadata": {},
     "output_type": "display_data"
    }
   ],
   "source": [
    "label = 'ddos','Benign'\n",
    "sizes = [len(testset[testset[\"Label\"]==\"ddos\"]),len(testset[testset[\"Label\"]==\"Benign\"])]\n",
    "plt.pie(sizes,labels=label,colors=['blue','red'],autopct='%1.1f%%')\n",
    "plt.axis('equal')\n",
    "plt.show()"
   ]
  },
  {
   "cell_type": "code",
   "execution_count": 24,
   "metadata": {},
   "outputs": [],
   "source": [
    "dataset['new_SRC_IP'] = LabelEncoder().fit_transform(dataset['Src IP'])\n",
    "dataset['new_DST_IP'] = LabelEncoder().fit_transform(dataset['Dst IP'])\n",
    "dataset['new_Timestamp'] = LabelEncoder().fit_transform(dataset['Timestamp'])\n"
   ]
  },
  {
   "cell_type": "code",
   "execution_count": 25,
   "metadata": {},
   "outputs": [],
   "source": [
    "testset['new_SRC_IP'] = LabelEncoder().fit_transform(testset['Src IP'])\n",
    "testset['new_DST_IP'] = LabelEncoder().fit_transform(testset['Dst IP'])\n",
    "testset['new_Timestamp'] = LabelEncoder().fit_transform(testset['Timestamp'])"
   ]
  },
  {
   "cell_type": "markdown",
   "metadata": {},
   "source": [
    "# <a id='toc4_'></a>[**GENERATING TRAINING AND TESTING DATASET**](#toc0_)"
   ]
  },
  {
   "cell_type": "code",
   "execution_count": 26,
   "metadata": {},
   "outputs": [
    {
     "data": {
      "text/html": [
       "<div>\n",
       "<style scoped>\n",
       "    .dataframe tbody tr th:only-of-type {\n",
       "        vertical-align: middle;\n",
       "    }\n",
       "\n",
       "    .dataframe tbody tr th {\n",
       "        vertical-align: top;\n",
       "    }\n",
       "\n",
       "    .dataframe thead th {\n",
       "        text-align: right;\n",
       "    }\n",
       "</style>\n",
       "<table border=\"1\" class=\"dataframe\">\n",
       "  <thead>\n",
       "    <tr style=\"text-align: right;\">\n",
       "      <th></th>\n",
       "      <th>Fwd Seg Size Min</th>\n",
       "      <th>Flow IAT Min</th>\n",
       "      <th>Src Port</th>\n",
       "      <th>Tot Fwd Pkts</th>\n",
       "      <th>Init Bwd Win Byts</th>\n",
       "      <th>new_SRC_IP</th>\n",
       "      <th>new_DST_IP</th>\n",
       "      <th>new_Timestamp</th>\n",
       "    </tr>\n",
       "  </thead>\n",
       "  <tbody>\n",
       "    <tr>\n",
       "      <th>0</th>\n",
       "      <td>0</td>\n",
       "      <td>4.0</td>\n",
       "      <td>80</td>\n",
       "      <td>4</td>\n",
       "      <td>211</td>\n",
       "      <td>3464</td>\n",
       "      <td>3656</td>\n",
       "      <td>10482</td>\n",
       "    </tr>\n",
       "    <tr>\n",
       "      <th>1</th>\n",
       "      <td>0</td>\n",
       "      <td>6.0</td>\n",
       "      <td>80</td>\n",
       "      <td>4</td>\n",
       "      <td>211</td>\n",
       "      <td>3464</td>\n",
       "      <td>3656</td>\n",
       "      <td>10482</td>\n",
       "    </tr>\n",
       "    <tr>\n",
       "      <th>2</th>\n",
       "      <td>0</td>\n",
       "      <td>6.0</td>\n",
       "      <td>80</td>\n",
       "      <td>4</td>\n",
       "      <td>211</td>\n",
       "      <td>3464</td>\n",
       "      <td>3656</td>\n",
       "      <td>10482</td>\n",
       "    </tr>\n",
       "    <tr>\n",
       "      <th>3</th>\n",
       "      <td>0</td>\n",
       "      <td>3.0</td>\n",
       "      <td>80</td>\n",
       "      <td>4</td>\n",
       "      <td>211</td>\n",
       "      <td>3464</td>\n",
       "      <td>3656</td>\n",
       "      <td>10482</td>\n",
       "    </tr>\n",
       "    <tr>\n",
       "      <th>4</th>\n",
       "      <td>0</td>\n",
       "      <td>4.0</td>\n",
       "      <td>80</td>\n",
       "      <td>4</td>\n",
       "      <td>211</td>\n",
       "      <td>3464</td>\n",
       "      <td>3656</td>\n",
       "      <td>10482</td>\n",
       "    </tr>\n",
       "  </tbody>\n",
       "</table>\n",
       "</div>"
      ],
      "text/plain": [
       "   Fwd Seg Size Min  Flow IAT Min  Src Port  Tot Fwd Pkts  Init Bwd Win Byts   \n",
       "0                 0           4.0        80             4                211  \\\n",
       "1                 0           6.0        80             4                211   \n",
       "2                 0           6.0        80             4                211   \n",
       "3                 0           3.0        80             4                211   \n",
       "4                 0           4.0        80             4                211   \n",
       "\n",
       "   new_SRC_IP  new_DST_IP  new_Timestamp  \n",
       "0        3464        3656          10482  \n",
       "1        3464        3656          10482  \n",
       "2        3464        3656          10482  \n",
       "3        3464        3656          10482  \n",
       "4        3464        3656          10482  "
      ]
     },
     "execution_count": 26,
     "metadata": {},
     "output_type": "execute_result"
    }
   ],
   "source": [
    "X = dataset.drop(['Label','Flow ID','Timestamp','Src IP','Dst IP'], axis='columns')\n",
    "X.head()"
   ]
  },
  {
   "cell_type": "code",
   "execution_count": 27,
   "metadata": {},
   "outputs": [],
   "source": [
    "Y = dataset['Label']"
   ]
  },
  {
   "cell_type": "code",
   "execution_count": 28,
   "metadata": {},
   "outputs": [],
   "source": [
    "X_train,X_test,Y_train,Y_test=train_test_split(X,Y, test_size=0.4)"
   ]
  },
  {
   "cell_type": "code",
   "execution_count": 29,
   "metadata": {},
   "outputs": [],
   "source": [
    "new_X_TEST = testset.drop(['Label','Flow ID','Timestamp','Src IP','Dst IP'], axis='columns')\n",
    "new_Y_TEST = testset['Label']"
   ]
  },
  {
   "cell_type": "markdown",
   "metadata": {},
   "source": [
    "# <a id='toc5_'></a>[**MODEL BUILDING**](#toc0_)"
   ]
  },
  {
   "cell_type": "markdown",
   "metadata": {},
   "source": [
    "## <a id='toc5_1_'></a>[KNN Classifier](#toc0_)"
   ]
  },
  {
   "cell_type": "code",
   "execution_count": 30,
   "metadata": {},
   "outputs": [
    {
     "data": {
      "text/html": [
       "<style>#sk-container-id-1 {color: black;background-color: white;}#sk-container-id-1 pre{padding: 0;}#sk-container-id-1 div.sk-toggleable {background-color: white;}#sk-container-id-1 label.sk-toggleable__label {cursor: pointer;display: block;width: 100%;margin-bottom: 0;padding: 0.3em;box-sizing: border-box;text-align: center;}#sk-container-id-1 label.sk-toggleable__label-arrow:before {content: \"▸\";float: left;margin-right: 0.25em;color: #696969;}#sk-container-id-1 label.sk-toggleable__label-arrow:hover:before {color: black;}#sk-container-id-1 div.sk-estimator:hover label.sk-toggleable__label-arrow:before {color: black;}#sk-container-id-1 div.sk-toggleable__content {max-height: 0;max-width: 0;overflow: hidden;text-align: left;background-color: #f0f8ff;}#sk-container-id-1 div.sk-toggleable__content pre {margin: 0.2em;color: black;border-radius: 0.25em;background-color: #f0f8ff;}#sk-container-id-1 input.sk-toggleable__control:checked~div.sk-toggleable__content {max-height: 200px;max-width: 100%;overflow: auto;}#sk-container-id-1 input.sk-toggleable__control:checked~label.sk-toggleable__label-arrow:before {content: \"▾\";}#sk-container-id-1 div.sk-estimator input.sk-toggleable__control:checked~label.sk-toggleable__label {background-color: #d4ebff;}#sk-container-id-1 div.sk-label input.sk-toggleable__control:checked~label.sk-toggleable__label {background-color: #d4ebff;}#sk-container-id-1 input.sk-hidden--visually {border: 0;clip: rect(1px 1px 1px 1px);clip: rect(1px, 1px, 1px, 1px);height: 1px;margin: -1px;overflow: hidden;padding: 0;position: absolute;width: 1px;}#sk-container-id-1 div.sk-estimator {font-family: monospace;background-color: #f0f8ff;border: 1px dotted black;border-radius: 0.25em;box-sizing: border-box;margin-bottom: 0.5em;}#sk-container-id-1 div.sk-estimator:hover {background-color: #d4ebff;}#sk-container-id-1 div.sk-parallel-item::after {content: \"\";width: 100%;border-bottom: 1px solid gray;flex-grow: 1;}#sk-container-id-1 div.sk-label:hover label.sk-toggleable__label {background-color: #d4ebff;}#sk-container-id-1 div.sk-serial::before {content: \"\";position: absolute;border-left: 1px solid gray;box-sizing: border-box;top: 0;bottom: 0;left: 50%;z-index: 0;}#sk-container-id-1 div.sk-serial {display: flex;flex-direction: column;align-items: center;background-color: white;padding-right: 0.2em;padding-left: 0.2em;position: relative;}#sk-container-id-1 div.sk-item {position: relative;z-index: 1;}#sk-container-id-1 div.sk-parallel {display: flex;align-items: stretch;justify-content: center;background-color: white;position: relative;}#sk-container-id-1 div.sk-item::before, #sk-container-id-1 div.sk-parallel-item::before {content: \"\";position: absolute;border-left: 1px solid gray;box-sizing: border-box;top: 0;bottom: 0;left: 50%;z-index: -1;}#sk-container-id-1 div.sk-parallel-item {display: flex;flex-direction: column;z-index: 1;position: relative;background-color: white;}#sk-container-id-1 div.sk-parallel-item:first-child::after {align-self: flex-end;width: 50%;}#sk-container-id-1 div.sk-parallel-item:last-child::after {align-self: flex-start;width: 50%;}#sk-container-id-1 div.sk-parallel-item:only-child::after {width: 0;}#sk-container-id-1 div.sk-dashed-wrapped {border: 1px dashed gray;margin: 0 0.4em 0.5em 0.4em;box-sizing: border-box;padding-bottom: 0.4em;background-color: white;}#sk-container-id-1 div.sk-label label {font-family: monospace;font-weight: bold;display: inline-block;line-height: 1.2em;}#sk-container-id-1 div.sk-label-container {text-align: center;}#sk-container-id-1 div.sk-container {/* jupyter's `normalize.less` sets `[hidden] { display: none; }` but bootstrap.min.css set `[hidden] { display: none !important; }` so we also need the `!important` here to be able to override the default hidden behavior on the sphinx rendered scikit-learn.org. See: https://github.com/scikit-learn/scikit-learn/issues/21755 */display: inline-block !important;position: relative;}#sk-container-id-1 div.sk-text-repr-fallback {display: none;}</style><div id=\"sk-container-id-1\" class=\"sk-top-container\"><div class=\"sk-text-repr-fallback\"><pre>KNeighborsClassifier()</pre><b>In a Jupyter environment, please rerun this cell to show the HTML representation or trust the notebook. <br />On GitHub, the HTML representation is unable to render, please try loading this page with nbviewer.org.</b></div><div class=\"sk-container\" hidden><div class=\"sk-item\"><div class=\"sk-estimator sk-toggleable\"><input class=\"sk-toggleable__control sk-hidden--visually\" id=\"sk-estimator-id-1\" type=\"checkbox\" checked><label for=\"sk-estimator-id-1\" class=\"sk-toggleable__label sk-toggleable__label-arrow\">KNeighborsClassifier</label><div class=\"sk-toggleable__content\"><pre>KNeighborsClassifier()</pre></div></div></div></div></div>"
      ],
      "text/plain": [
       "KNeighborsClassifier()"
      ]
     },
     "execution_count": 30,
     "metadata": {},
     "output_type": "execute_result"
    }
   ],
   "source": [
    "knn = KNeighborsClassifier(n_neighbors=5)\n",
    "\n",
    "knn.fit(X_train, Y_train)"
   ]
  },
  {
   "cell_type": "code",
   "execution_count": 31,
   "metadata": {},
   "outputs": [
    {
     "name": "stdout",
     "output_type": "stream",
     "text": [
      "KNN Accuracy: 86.49%\n"
     ]
    }
   ],
   "source": [
    "knn_accuracy = accuracy_score(new_Y_TEST,knn.predict(new_X_TEST))\n",
    "print(f\"KNN Accuracy: {knn_accuracy*100:.2f}%\")"
   ]
  },
  {
   "cell_type": "markdown",
   "metadata": {},
   "source": [
    "## <a id='toc5_2_'></a>[Gaussian Naive-Bayes](#toc0_)"
   ]
  },
  {
   "cell_type": "code",
   "execution_count": 32,
   "metadata": {},
   "outputs": [
    {
     "data": {
      "text/html": [
       "<style>#sk-container-id-2 {color: black;background-color: white;}#sk-container-id-2 pre{padding: 0;}#sk-container-id-2 div.sk-toggleable {background-color: white;}#sk-container-id-2 label.sk-toggleable__label {cursor: pointer;display: block;width: 100%;margin-bottom: 0;padding: 0.3em;box-sizing: border-box;text-align: center;}#sk-container-id-2 label.sk-toggleable__label-arrow:before {content: \"▸\";float: left;margin-right: 0.25em;color: #696969;}#sk-container-id-2 label.sk-toggleable__label-arrow:hover:before {color: black;}#sk-container-id-2 div.sk-estimator:hover label.sk-toggleable__label-arrow:before {color: black;}#sk-container-id-2 div.sk-toggleable__content {max-height: 0;max-width: 0;overflow: hidden;text-align: left;background-color: #f0f8ff;}#sk-container-id-2 div.sk-toggleable__content pre {margin: 0.2em;color: black;border-radius: 0.25em;background-color: #f0f8ff;}#sk-container-id-2 input.sk-toggleable__control:checked~div.sk-toggleable__content {max-height: 200px;max-width: 100%;overflow: auto;}#sk-container-id-2 input.sk-toggleable__control:checked~label.sk-toggleable__label-arrow:before {content: \"▾\";}#sk-container-id-2 div.sk-estimator input.sk-toggleable__control:checked~label.sk-toggleable__label {background-color: #d4ebff;}#sk-container-id-2 div.sk-label input.sk-toggleable__control:checked~label.sk-toggleable__label {background-color: #d4ebff;}#sk-container-id-2 input.sk-hidden--visually {border: 0;clip: rect(1px 1px 1px 1px);clip: rect(1px, 1px, 1px, 1px);height: 1px;margin: -1px;overflow: hidden;padding: 0;position: absolute;width: 1px;}#sk-container-id-2 div.sk-estimator {font-family: monospace;background-color: #f0f8ff;border: 1px dotted black;border-radius: 0.25em;box-sizing: border-box;margin-bottom: 0.5em;}#sk-container-id-2 div.sk-estimator:hover {background-color: #d4ebff;}#sk-container-id-2 div.sk-parallel-item::after {content: \"\";width: 100%;border-bottom: 1px solid gray;flex-grow: 1;}#sk-container-id-2 div.sk-label:hover label.sk-toggleable__label {background-color: #d4ebff;}#sk-container-id-2 div.sk-serial::before {content: \"\";position: absolute;border-left: 1px solid gray;box-sizing: border-box;top: 0;bottom: 0;left: 50%;z-index: 0;}#sk-container-id-2 div.sk-serial {display: flex;flex-direction: column;align-items: center;background-color: white;padding-right: 0.2em;padding-left: 0.2em;position: relative;}#sk-container-id-2 div.sk-item {position: relative;z-index: 1;}#sk-container-id-2 div.sk-parallel {display: flex;align-items: stretch;justify-content: center;background-color: white;position: relative;}#sk-container-id-2 div.sk-item::before, #sk-container-id-2 div.sk-parallel-item::before {content: \"\";position: absolute;border-left: 1px solid gray;box-sizing: border-box;top: 0;bottom: 0;left: 50%;z-index: -1;}#sk-container-id-2 div.sk-parallel-item {display: flex;flex-direction: column;z-index: 1;position: relative;background-color: white;}#sk-container-id-2 div.sk-parallel-item:first-child::after {align-self: flex-end;width: 50%;}#sk-container-id-2 div.sk-parallel-item:last-child::after {align-self: flex-start;width: 50%;}#sk-container-id-2 div.sk-parallel-item:only-child::after {width: 0;}#sk-container-id-2 div.sk-dashed-wrapped {border: 1px dashed gray;margin: 0 0.4em 0.5em 0.4em;box-sizing: border-box;padding-bottom: 0.4em;background-color: white;}#sk-container-id-2 div.sk-label label {font-family: monospace;font-weight: bold;display: inline-block;line-height: 1.2em;}#sk-container-id-2 div.sk-label-container {text-align: center;}#sk-container-id-2 div.sk-container {/* jupyter's `normalize.less` sets `[hidden] { display: none; }` but bootstrap.min.css set `[hidden] { display: none !important; }` so we also need the `!important` here to be able to override the default hidden behavior on the sphinx rendered scikit-learn.org. See: https://github.com/scikit-learn/scikit-learn/issues/21755 */display: inline-block !important;position: relative;}#sk-container-id-2 div.sk-text-repr-fallback {display: none;}</style><div id=\"sk-container-id-2\" class=\"sk-top-container\"><div class=\"sk-text-repr-fallback\"><pre>GaussianNB()</pre><b>In a Jupyter environment, please rerun this cell to show the HTML representation or trust the notebook. <br />On GitHub, the HTML representation is unable to render, please try loading this page with nbviewer.org.</b></div><div class=\"sk-container\" hidden><div class=\"sk-item\"><div class=\"sk-estimator sk-toggleable\"><input class=\"sk-toggleable__control sk-hidden--visually\" id=\"sk-estimator-id-2\" type=\"checkbox\" checked><label for=\"sk-estimator-id-2\" class=\"sk-toggleable__label sk-toggleable__label-arrow\">GaussianNB</label><div class=\"sk-toggleable__content\"><pre>GaussianNB()</pre></div></div></div></div></div>"
      ],
      "text/plain": [
       "GaussianNB()"
      ]
     },
     "execution_count": 32,
     "metadata": {},
     "output_type": "execute_result"
    }
   ],
   "source": [
    "gnb = GaussianNB()\n",
    "\n",
    "gnb.fit(X_train,Y_train)"
   ]
  },
  {
   "cell_type": "code",
   "execution_count": 33,
   "metadata": {},
   "outputs": [
    {
     "name": "stdout",
     "output_type": "stream",
     "text": [
      "Naive-Bayes Accuracy: 86.50%\n"
     ]
    }
   ],
   "source": [
    "gnb_accuracy = accuracy_score(new_Y_TEST, gnb.predict(new_X_TEST))\n",
    "print(f\"Naive-Bayes Accuracy: {gnb_accuracy*100:.2f}%\")"
   ]
  },
  {
   "cell_type": "markdown",
   "metadata": {},
   "source": [
    "## <a id='toc5_3_'></a>[Decision Tree](#toc0_)"
   ]
  },
  {
   "cell_type": "code",
   "execution_count": 34,
   "metadata": {},
   "outputs": [
    {
     "data": {
      "text/html": [
       "<style>#sk-container-id-3 {color: black;background-color: white;}#sk-container-id-3 pre{padding: 0;}#sk-container-id-3 div.sk-toggleable {background-color: white;}#sk-container-id-3 label.sk-toggleable__label {cursor: pointer;display: block;width: 100%;margin-bottom: 0;padding: 0.3em;box-sizing: border-box;text-align: center;}#sk-container-id-3 label.sk-toggleable__label-arrow:before {content: \"▸\";float: left;margin-right: 0.25em;color: #696969;}#sk-container-id-3 label.sk-toggleable__label-arrow:hover:before {color: black;}#sk-container-id-3 div.sk-estimator:hover label.sk-toggleable__label-arrow:before {color: black;}#sk-container-id-3 div.sk-toggleable__content {max-height: 0;max-width: 0;overflow: hidden;text-align: left;background-color: #f0f8ff;}#sk-container-id-3 div.sk-toggleable__content pre {margin: 0.2em;color: black;border-radius: 0.25em;background-color: #f0f8ff;}#sk-container-id-3 input.sk-toggleable__control:checked~div.sk-toggleable__content {max-height: 200px;max-width: 100%;overflow: auto;}#sk-container-id-3 input.sk-toggleable__control:checked~label.sk-toggleable__label-arrow:before {content: \"▾\";}#sk-container-id-3 div.sk-estimator input.sk-toggleable__control:checked~label.sk-toggleable__label {background-color: #d4ebff;}#sk-container-id-3 div.sk-label input.sk-toggleable__control:checked~label.sk-toggleable__label {background-color: #d4ebff;}#sk-container-id-3 input.sk-hidden--visually {border: 0;clip: rect(1px 1px 1px 1px);clip: rect(1px, 1px, 1px, 1px);height: 1px;margin: -1px;overflow: hidden;padding: 0;position: absolute;width: 1px;}#sk-container-id-3 div.sk-estimator {font-family: monospace;background-color: #f0f8ff;border: 1px dotted black;border-radius: 0.25em;box-sizing: border-box;margin-bottom: 0.5em;}#sk-container-id-3 div.sk-estimator:hover {background-color: #d4ebff;}#sk-container-id-3 div.sk-parallel-item::after {content: \"\";width: 100%;border-bottom: 1px solid gray;flex-grow: 1;}#sk-container-id-3 div.sk-label:hover label.sk-toggleable__label {background-color: #d4ebff;}#sk-container-id-3 div.sk-serial::before {content: \"\";position: absolute;border-left: 1px solid gray;box-sizing: border-box;top: 0;bottom: 0;left: 50%;z-index: 0;}#sk-container-id-3 div.sk-serial {display: flex;flex-direction: column;align-items: center;background-color: white;padding-right: 0.2em;padding-left: 0.2em;position: relative;}#sk-container-id-3 div.sk-item {position: relative;z-index: 1;}#sk-container-id-3 div.sk-parallel {display: flex;align-items: stretch;justify-content: center;background-color: white;position: relative;}#sk-container-id-3 div.sk-item::before, #sk-container-id-3 div.sk-parallel-item::before {content: \"\";position: absolute;border-left: 1px solid gray;box-sizing: border-box;top: 0;bottom: 0;left: 50%;z-index: -1;}#sk-container-id-3 div.sk-parallel-item {display: flex;flex-direction: column;z-index: 1;position: relative;background-color: white;}#sk-container-id-3 div.sk-parallel-item:first-child::after {align-self: flex-end;width: 50%;}#sk-container-id-3 div.sk-parallel-item:last-child::after {align-self: flex-start;width: 50%;}#sk-container-id-3 div.sk-parallel-item:only-child::after {width: 0;}#sk-container-id-3 div.sk-dashed-wrapped {border: 1px dashed gray;margin: 0 0.4em 0.5em 0.4em;box-sizing: border-box;padding-bottom: 0.4em;background-color: white;}#sk-container-id-3 div.sk-label label {font-family: monospace;font-weight: bold;display: inline-block;line-height: 1.2em;}#sk-container-id-3 div.sk-label-container {text-align: center;}#sk-container-id-3 div.sk-container {/* jupyter's `normalize.less` sets `[hidden] { display: none; }` but bootstrap.min.css set `[hidden] { display: none !important; }` so we also need the `!important` here to be able to override the default hidden behavior on the sphinx rendered scikit-learn.org. See: https://github.com/scikit-learn/scikit-learn/issues/21755 */display: inline-block !important;position: relative;}#sk-container-id-3 div.sk-text-repr-fallback {display: none;}</style><div id=\"sk-container-id-3\" class=\"sk-top-container\"><div class=\"sk-text-repr-fallback\"><pre>DecisionTreeClassifier()</pre><b>In a Jupyter environment, please rerun this cell to show the HTML representation or trust the notebook. <br />On GitHub, the HTML representation is unable to render, please try loading this page with nbviewer.org.</b></div><div class=\"sk-container\" hidden><div class=\"sk-item\"><div class=\"sk-estimator sk-toggleable\"><input class=\"sk-toggleable__control sk-hidden--visually\" id=\"sk-estimator-id-3\" type=\"checkbox\" checked><label for=\"sk-estimator-id-3\" class=\"sk-toggleable__label sk-toggleable__label-arrow\">DecisionTreeClassifier</label><div class=\"sk-toggleable__content\"><pre>DecisionTreeClassifier()</pre></div></div></div></div></div>"
      ],
      "text/plain": [
       "DecisionTreeClassifier()"
      ]
     },
     "execution_count": 34,
     "metadata": {},
     "output_type": "execute_result"
    }
   ],
   "source": [
    "dt = DecisionTreeClassifier()\n",
    "\n",
    "dt.fit(X_train,Y_train)"
   ]
  },
  {
   "cell_type": "code",
   "execution_count": 35,
   "metadata": {},
   "outputs": [
    {
     "name": "stdout",
     "output_type": "stream",
     "text": [
      "Decision Tree Accuracy: 86.50%\n"
     ]
    }
   ],
   "source": [
    "dt_accuracy = accuracy_score(new_Y_TEST, dt.predict(new_X_TEST))\n",
    "print(f\"Decision Tree Accuracy: {dt_accuracy*100:.2f}%\")"
   ]
  },
  {
   "cell_type": "markdown",
   "metadata": {},
   "source": [
    "## <a id='toc5_4_'></a>[Hybrid Model](#toc0_)"
   ]
  },
  {
   "cell_type": "code",
   "execution_count": 36,
   "metadata": {},
   "outputs": [],
   "source": [
    "train_x,test_x,train_y,test_y = train_test_split(X_train, Y_train, stratify=Y_train,test_size=0.4)"
   ]
  },
  {
   "cell_type": "code",
   "execution_count": 38,
   "metadata": {},
   "outputs": [],
   "source": [
    "knn.fit(train_x,train_y)\n",
    "y_val_knn = knn.predict(test_x)\n",
    "y_val_knn = pd.DataFrame(y_val_knn)\n",
    "y_test_knn = knn.predict(X_test)\n",
    "y_test_knn = pd.DataFrame(y_test_knn)\n",
    "\n",
    "y_val_knn.columns = ['Label_KNN']\n",
    "y_test_knn.columns = ['Label_KNN']\n"
   ]
  },
  {
   "cell_type": "code",
   "execution_count": 39,
   "metadata": {},
   "outputs": [],
   "source": [
    "gnb.fit(train_x,train_y)\n",
    "y_val_gnb = gnb.predict(test_x)\n",
    "y_val_gnb = pd.DataFrame(y_val_gnb)\n",
    "y_test_gnb = gnb.predict(X_test)\n",
    "y_test_gnb = pd.DataFrame(y_test_gnb)\n",
    "\n",
    "y_val_gnb.columns = ['Label_GNB']\n",
    "y_test_gnb.columns = ['Label_GNB']\n"
   ]
  },
  {
   "cell_type": "code",
   "execution_count": 40,
   "metadata": {},
   "outputs": [],
   "source": [
    "dt.fit(train_x,train_y)\n",
    "y_val_dt = dt.predict(test_x)\n",
    "y_val_dt = pd.DataFrame(y_val_dt)\n",
    "y_test_dt = dt.predict(X_test)\n",
    "y_test_dt = pd.DataFrame(y_test_dt)\n",
    "\n",
    "y_val_dt.columns = ['Label_DT']\n",
    "y_test_dt.columns = ['Label_DT']"
   ]
  },
  {
   "cell_type": "code",
   "execution_count": 41,
   "metadata": {},
   "outputs": [],
   "source": [
    "final_X_input = pd.concat([pd.DataFrame(test_x,columns=X.columns)], axis = 1)\n",
    "\n",
    "new_attr = pd.concat([pd.DataFrame(y_val_knn,columns=y_val_knn.columns)], axis = 1)\n",
    "new_attr.columns = ['LABEL']\n",
    "for i in range(len(y_val_knn)):\n",
    "    if (y_val_knn['Label_KNN'][i] == 'ddos' and y_val_gnb['Label_GNB'][i] =='ddos') or (y_val_dt['Label_DT'][i] == 'ddos' and y_val_gnb['Label_GNB'][i] =='ddos') or (y_val_knn['Label_KNN'][i] == 'ddos' and y_val_dt['Label_DT'][i] =='ddos'):\n",
    "        new_attr['LABEL'][i] = 'ddos'\n",
    "    else:\n",
    "        new_attr['LABEL'][i] = 'Benign'\n",
    "\n",
    "final_y_input = pd.concat([pd.DataFrame(new_attr, columns=new_attr.columns)], axis = 1)"
   ]
  },
  {
   "cell_type": "code",
   "execution_count": 42,
   "metadata": {},
   "outputs": [
    {
     "data": {
      "text/html": [
       "<style>#sk-container-id-4 {color: black;background-color: white;}#sk-container-id-4 pre{padding: 0;}#sk-container-id-4 div.sk-toggleable {background-color: white;}#sk-container-id-4 label.sk-toggleable__label {cursor: pointer;display: block;width: 100%;margin-bottom: 0;padding: 0.3em;box-sizing: border-box;text-align: center;}#sk-container-id-4 label.sk-toggleable__label-arrow:before {content: \"▸\";float: left;margin-right: 0.25em;color: #696969;}#sk-container-id-4 label.sk-toggleable__label-arrow:hover:before {color: black;}#sk-container-id-4 div.sk-estimator:hover label.sk-toggleable__label-arrow:before {color: black;}#sk-container-id-4 div.sk-toggleable__content {max-height: 0;max-width: 0;overflow: hidden;text-align: left;background-color: #f0f8ff;}#sk-container-id-4 div.sk-toggleable__content pre {margin: 0.2em;color: black;border-radius: 0.25em;background-color: #f0f8ff;}#sk-container-id-4 input.sk-toggleable__control:checked~div.sk-toggleable__content {max-height: 200px;max-width: 100%;overflow: auto;}#sk-container-id-4 input.sk-toggleable__control:checked~label.sk-toggleable__label-arrow:before {content: \"▾\";}#sk-container-id-4 div.sk-estimator input.sk-toggleable__control:checked~label.sk-toggleable__label {background-color: #d4ebff;}#sk-container-id-4 div.sk-label input.sk-toggleable__control:checked~label.sk-toggleable__label {background-color: #d4ebff;}#sk-container-id-4 input.sk-hidden--visually {border: 0;clip: rect(1px 1px 1px 1px);clip: rect(1px, 1px, 1px, 1px);height: 1px;margin: -1px;overflow: hidden;padding: 0;position: absolute;width: 1px;}#sk-container-id-4 div.sk-estimator {font-family: monospace;background-color: #f0f8ff;border: 1px dotted black;border-radius: 0.25em;box-sizing: border-box;margin-bottom: 0.5em;}#sk-container-id-4 div.sk-estimator:hover {background-color: #d4ebff;}#sk-container-id-4 div.sk-parallel-item::after {content: \"\";width: 100%;border-bottom: 1px solid gray;flex-grow: 1;}#sk-container-id-4 div.sk-label:hover label.sk-toggleable__label {background-color: #d4ebff;}#sk-container-id-4 div.sk-serial::before {content: \"\";position: absolute;border-left: 1px solid gray;box-sizing: border-box;top: 0;bottom: 0;left: 50%;z-index: 0;}#sk-container-id-4 div.sk-serial {display: flex;flex-direction: column;align-items: center;background-color: white;padding-right: 0.2em;padding-left: 0.2em;position: relative;}#sk-container-id-4 div.sk-item {position: relative;z-index: 1;}#sk-container-id-4 div.sk-parallel {display: flex;align-items: stretch;justify-content: center;background-color: white;position: relative;}#sk-container-id-4 div.sk-item::before, #sk-container-id-4 div.sk-parallel-item::before {content: \"\";position: absolute;border-left: 1px solid gray;box-sizing: border-box;top: 0;bottom: 0;left: 50%;z-index: -1;}#sk-container-id-4 div.sk-parallel-item {display: flex;flex-direction: column;z-index: 1;position: relative;background-color: white;}#sk-container-id-4 div.sk-parallel-item:first-child::after {align-self: flex-end;width: 50%;}#sk-container-id-4 div.sk-parallel-item:last-child::after {align-self: flex-start;width: 50%;}#sk-container-id-4 div.sk-parallel-item:only-child::after {width: 0;}#sk-container-id-4 div.sk-dashed-wrapped {border: 1px dashed gray;margin: 0 0.4em 0.5em 0.4em;box-sizing: border-box;padding-bottom: 0.4em;background-color: white;}#sk-container-id-4 div.sk-label label {font-family: monospace;font-weight: bold;display: inline-block;line-height: 1.2em;}#sk-container-id-4 div.sk-label-container {text-align: center;}#sk-container-id-4 div.sk-container {/* jupyter's `normalize.less` sets `[hidden] { display: none; }` but bootstrap.min.css set `[hidden] { display: none !important; }` so we also need the `!important` here to be able to override the default hidden behavior on the sphinx rendered scikit-learn.org. See: https://github.com/scikit-learn/scikit-learn/issues/21755 */display: inline-block !important;position: relative;}#sk-container-id-4 div.sk-text-repr-fallback {display: none;}</style><div id=\"sk-container-id-4\" class=\"sk-top-container\"><div class=\"sk-text-repr-fallback\"><pre>RandomForestClassifier(n_estimators=200)</pre><b>In a Jupyter environment, please rerun this cell to show the HTML representation or trust the notebook. <br />On GitHub, the HTML representation is unable to render, please try loading this page with nbviewer.org.</b></div><div class=\"sk-container\" hidden><div class=\"sk-item\"><div class=\"sk-estimator sk-toggleable\"><input class=\"sk-toggleable__control sk-hidden--visually\" id=\"sk-estimator-id-4\" type=\"checkbox\" checked><label for=\"sk-estimator-id-4\" class=\"sk-toggleable__label sk-toggleable__label-arrow\">RandomForestClassifier</label><div class=\"sk-toggleable__content\"><pre>RandomForestClassifier(n_estimators=200)</pre></div></div></div></div></div>"
      ],
      "text/plain": [
       "RandomForestClassifier(n_estimators=200)"
      ]
     },
     "execution_count": 42,
     "metadata": {},
     "output_type": "execute_result"
    }
   ],
   "source": [
    "rf = RandomForestClassifier(n_estimators=200)\n",
    "rf.fit(final_X_input,final_y_input.values.ravel())"
   ]
  },
  {
   "cell_type": "code",
   "execution_count": 43,
   "metadata": {},
   "outputs": [
    {
     "name": "stdout",
     "output_type": "stream",
     "text": [
      "Random Forest Accuracy: 86.50%\n"
     ]
    }
   ],
   "source": [
    "rf_accuracy = accuracy_score(new_Y_TEST, rf.predict(new_X_TEST))\n",
    "print(f\"Random Forest Accuracy: {rf_accuracy*100:.2f}%\")\n",
    "\n",
    "prediction = rf.predict(X_train)"
   ]
  },
  {
   "cell_type": "code",
   "execution_count": 44,
   "metadata": {},
   "outputs": [
    {
     "data": {
      "text/plain": [
       "array(['ddos', 'ddos', 'ddos', ..., 'ddos', 'ddos', 'Benign'],\n",
       "      dtype=object)"
      ]
     },
     "execution_count": 44,
     "metadata": {},
     "output_type": "execute_result"
    }
   ],
   "source": [
    "prediction"
   ]
  },
  {
   "cell_type": "markdown",
   "metadata": {},
   "source": [
    "# <a id='toc6_'></a>[**VISUALISATION**](#toc0_)"
   ]
  },
  {
   "cell_type": "markdown",
   "metadata": {},
   "source": [
    "## <a id='toc6_1_'></a>[Scatter Graph](#toc0_)\n",
    "\n"
   ]
  },
  {
   "cell_type": "code",
   "execution_count": 45,
   "metadata": {},
   "outputs": [],
   "source": [
    "ddos_set = dataset[dataset.Label == 'ddos']\n",
    "benign_set = dataset[dataset.Label == 'Benign']\n"
   ]
  },
  {
   "cell_type": "code",
   "execution_count": 46,
   "metadata": {},
   "outputs": [
    {
     "data": {
      "image/png": "[encoded data removed]",
      "text/plain": [
       "<Figure size 640x480 with 1 Axes>"
      ]
     },
     "metadata": {},
     "output_type": "display_data"
    }
   ],
   "source": [
    "plt.scatter(ddos_set['new_Timestamp'],ddos_set['Tot Fwd Pkts'], color = 'red')\n",
    "plt.show()"
   ]
  },
  {
   "cell_type": "code",
   "execution_count": 47,
   "metadata": {},
   "outputs": [],
   "source": [
    "#the above graph shows that in a ddos attack packets are sent continuously over a period of time"
   ]
  },
  {
   "cell_type": "code",
   "execution_count": 48,
   "metadata": {},
   "outputs": [
    {
     "data": {
      "image/png": "[encoded data removed]",
      "text/plain": [
       "<Figure size 640x480 with 1 Axes>"
      ]
     },
     "metadata": {},
     "output_type": "display_data"
    }
   ],
   "source": [
    "plt.scatter(benign_set['new_Timestamp'],benign_set['Tot Fwd Pkts'], color = 'green')\n",
    "plt.show()"
   ]
  },
  {
   "cell_type": "code",
   "execution_count": 49,
   "metadata": {},
   "outputs": [],
   "source": [
    "# the above graph shows that benign packets are well spread over a time period"
   ]
  },
  {
   "cell_type": "markdown",
   "metadata": {},
   "source": [
    "## <a id='toc6_2_'></a>[HEATMAP](#toc0_)"
   ]
  },
  {
   "cell_type": "code",
   "execution_count": 50,
   "metadata": {},
   "outputs": [
    {
     "data": {
      "text/plain": [
       "<Axes: >"
      ]
     },
     "execution_count": 50,
     "metadata": {},
     "output_type": "execute_result"
    },
    {
     "data": {
      "image/png": "[encoded data removed]",
      "text/plain": [
       "<Figure size 640x480 with 2 Axes>"
      ]
     },
     "metadata": {},
     "output_type": "display_data"
    }
   ],
   "source": [
    "sns.heatmap(X.corr(), xticklabels=X.corr().columns, yticklabels=X.corr().columns)"
   ]
  },
  {
   "cell_type": "markdown",
   "metadata": {},
   "source": [
    "# <a id='toc7_'></a>[**MODEL SAVING**](#toc0_)"
   ]
  },
  {
   "cell_type": "code",
   "execution_count": 53,
   "metadata": {},
   "outputs": [],
   "source": [
    "import pickle\n",
    "with open(\"Detect_DDoS.pickle\",'wb') as model:\n",
    "    pickle.dump(rf, model)"
   ]
  },
  {
   "cell_type": "code",
   "execution_count": 52,
   "metadata": {},
   "outputs": [],
   "source": [
    "import json\n",
    "columns = {\n",
    "    'data columns' : [col.lower() for col in X.columns]\n",
    "}\n",
    "with open(\"columns.json\",\"w\") as cols_json:\n",
    "    cols_json.write(json.dumps(columns))"
   ]
  }
 ],
 "metadata": {
  "kernelspec": {
   "display_name": "Python 3",
   "language": "python",
   "name": "python3"
  },
  "language_info": {
   "codemirror_mode": {
    "name": "ipython",
    "version": 3
   },
   "file_extension": ".py",
   "mimetype": "text/x-python",
   "name": "python",
   "nbconvert_exporter": "python",
   "pygments_lexer": "ipython3",
   "version": "3.11.6"
  },
  "orig_nbformat": 4
 },
 "nbformat": 4,
 "nbformat_minor": 2
}
